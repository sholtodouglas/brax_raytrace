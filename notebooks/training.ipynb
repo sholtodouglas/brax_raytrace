{
  "cells": [
    {
      "cell_type": "markdown",
      "metadata": {
        "id": "ssCOanHc8JH_"
      },
      "source": [
        "# Training in Brax\n",
        "\n",
        "In [Brax Environments](https://colab.research.google.com/github/google/brax/blob/main/notebooks/environments.ipynb) we learned about creating environments and using them to quickly generate rollouts. We can learn all kinds of fun and useful behaviors on those environments via Brax's built-in training algorithms.\n",
        "\n",
        "Let's try them out!"
      ]
    },
    {
      "cell_type": "code",
      "source": [
        "!pip install --upgrade git+https://github.com/google/brax.git@main"
      ],
      "metadata": {
        "colab": {
          "base_uri": "https://localhost:8080/"
        },
        "id": "HYVteCnzOzNE",
        "outputId": "6879e9a3-70b5-4e54-82e9-f4bb0d5ce014"
      },
      "execution_count": 49,
      "outputs": [
        {
          "output_type": "stream",
          "name": "stdout",
          "text": [
            "Collecting git+https://github.com/google/brax.git@main\n",
            "  Cloning https://github.com/google/brax.git (to revision main) to /tmp/pip-req-build-6fuungjs\n",
            "  Running command git clone -q https://github.com/google/brax.git /tmp/pip-req-build-6fuungjs\n",
            "Requirement already satisfied: absl-py in /usr/local/lib/python3.7/dist-packages (from brax==0.0.10) (0.12.0)\n",
            "Requirement already satisfied: dataclasses in /usr/local/lib/python3.7/dist-packages (from brax==0.0.10) (0.6)\n",
            "Requirement already satisfied: flax in /usr/local/lib/python3.7/dist-packages (from brax==0.0.10) (0.3.6)\n",
            "Requirement already satisfied: gym in /usr/local/lib/python3.7/dist-packages (from brax==0.0.10) (0.17.3)\n",
            "Requirement already satisfied: grpcio in /usr/local/lib/python3.7/dist-packages (from brax==0.0.10) (1.43.0)\n",
            "Requirement already satisfied: jax in /usr/local/lib/python3.7/dist-packages (from brax==0.0.10) (0.2.25)\n",
            "Requirement already satisfied: jaxlib in /usr/local/lib/python3.7/dist-packages (from brax==0.0.10) (0.1.71+cuda111)\n",
            "Requirement already satisfied: numpy in /usr/local/lib/python3.7/dist-packages (from brax==0.0.10) (1.19.5)\n",
            "Requirement already satisfied: optax in /usr/local/lib/python3.7/dist-packages (from brax==0.0.10) (0.1.0)\n",
            "Requirement already satisfied: Pillow in /usr/local/lib/python3.7/dist-packages (from brax==0.0.10) (7.1.2)\n",
            "Requirement already satisfied: pytinyrenderer in /usr/local/lib/python3.7/dist-packages (from brax==0.0.10) (0.0.13)\n",
            "Requirement already satisfied: tensorboardX in /usr/local/lib/python3.7/dist-packages (from brax==0.0.10) (2.4.1)\n",
            "Requirement already satisfied: trimesh in /usr/local/lib/python3.7/dist-packages (from brax==0.0.10) (3.9.42)\n",
            "Requirement already satisfied: six in /usr/local/lib/python3.7/dist-packages (from absl-py->brax==0.0.10) (1.15.0)\n",
            "Requirement already satisfied: msgpack in /usr/local/lib/python3.7/dist-packages (from flax->brax==0.0.10) (1.0.3)\n",
            "Requirement already satisfied: matplotlib in /usr/local/lib/python3.7/dist-packages (from flax->brax==0.0.10) (3.2.2)\n",
            "Requirement already satisfied: opt-einsum in /usr/local/lib/python3.7/dist-packages (from jax->brax==0.0.10) (3.3.0)\n",
            "Requirement already satisfied: scipy>=1.2.1 in /usr/local/lib/python3.7/dist-packages (from jax->brax==0.0.10) (1.4.1)\n",
            "Requirement already satisfied: typing-extensions in /usr/local/lib/python3.7/dist-packages (from jax->brax==0.0.10) (3.10.0.2)\n",
            "Requirement already satisfied: cloudpickle<1.7.0,>=1.2.0 in /usr/local/lib/python3.7/dist-packages (from gym->brax==0.0.10) (1.3.0)\n",
            "Requirement already satisfied: pyglet<=1.5.0,>=1.4.0 in /usr/local/lib/python3.7/dist-packages (from gym->brax==0.0.10) (1.5.0)\n",
            "Requirement already satisfied: future in /usr/local/lib/python3.7/dist-packages (from pyglet<=1.5.0,>=1.4.0->gym->brax==0.0.10) (0.16.0)\n",
            "Requirement already satisfied: flatbuffers<3.0,>=1.12 in /usr/local/lib/python3.7/dist-packages (from jaxlib->brax==0.0.10) (2.0)\n",
            "Requirement already satisfied: cycler>=0.10 in /usr/local/lib/python3.7/dist-packages (from matplotlib->flax->brax==0.0.10) (0.11.0)\n",
            "Requirement already satisfied: pyparsing!=2.0.4,!=2.1.2,!=2.1.6,>=2.0.1 in /usr/local/lib/python3.7/dist-packages (from matplotlib->flax->brax==0.0.10) (3.0.6)\n",
            "Requirement already satisfied: python-dateutil>=2.1 in /usr/local/lib/python3.7/dist-packages (from matplotlib->flax->brax==0.0.10) (2.8.2)\n",
            "Requirement already satisfied: kiwisolver>=1.0.1 in /usr/local/lib/python3.7/dist-packages (from matplotlib->flax->brax==0.0.10) (1.3.2)\n",
            "Requirement already satisfied: chex>=0.0.4 in /usr/local/lib/python3.7/dist-packages (from optax->brax==0.0.10) (0.1.0)\n",
            "Requirement already satisfied: dm-tree>=0.1.5 in /usr/local/lib/python3.7/dist-packages (from chex>=0.0.4->optax->brax==0.0.10) (0.1.6)\n",
            "Requirement already satisfied: toolz>=0.9.0 in /usr/local/lib/python3.7/dist-packages (from chex>=0.0.4->optax->brax==0.0.10) (0.11.2)\n",
            "Requirement already satisfied: protobuf>=3.8.0 in /usr/local/lib/python3.7/dist-packages (from tensorboardX->brax==0.0.10) (3.17.3)\n",
            "Requirement already satisfied: setuptools in /usr/local/lib/python3.7/dist-packages (from trimesh->brax==0.0.10) (57.4.0)\n"
          ]
        }
      ]
    },
    {
      "cell_type": "code",
      "execution_count": 50,
      "metadata": {
        "id": "_sOmCoOrF0F8"
      },
      "outputs": [],
      "source": [
        "#@title Install Brax and some helper modules\n",
        "#@markdown ## ⚠️ PLEASE NOTE:\n",
        "#@markdown This colab runs best using a TPU runtime.  From the Colab menu, choose Runtime > Change Runtime Type, then select **'TPU'** in the dropdown.\n",
        "\n",
        "from datetime import datetime\n",
        "import functools\n",
        "import os\n",
        "\n",
        "from IPython.display import HTML, clear_output\n",
        "\n",
        "import jax\n",
        "import jax.numpy as jnp\n",
        "import matplotlib.pyplot as plt\n",
        "\n",
        "try:\n",
        "  import brax\n",
        "except ImportError:\n",
        "  !pip install --upgrade git+https://github.com/google/brax.git@main\n",
        "  clear_output()\n",
        "  import brax\n",
        "\n",
        "from brax import envs\n",
        "from brax import jumpy as jp\n",
        "from brax.training import ppo, sac\n",
        "from brax.io import html\n",
        "from brax.io import model\n",
        "\n",
        "if 'COLAB_TPU_ADDR' in os.environ:\n",
        "  from jax.tools import colab_tpu\n",
        "  colab_tpu.setup_tpu()"
      ]
    },
    {
      "cell_type": "code",
      "source": [
        "\"\"\"Trains an claw hand to grasp an object and move it to targets.\"\"\"\n",
        "\n",
        "from typing import Tuple\n",
        "\n",
        "import brax\n",
        "from brax import jumpy as jp\n",
        "from brax import math\n",
        "from brax.envs import env as E\n",
        "\n",
        "\n",
        "class PointMass(E.Env):\n",
        "  \"\"\"Grasp trains an agent to pick up an object.\n",
        "\n",
        "  Grasp observes three bodies: 'Hand', 'Object', and 'Target'.\n",
        "  When Object reaches Target, the agent is rewarded.\n",
        "  \"\"\"\n",
        "\n",
        "  def __init__(self, **kwargs):\n",
        "    super().__init__(_SYSTEM_CONFIG, **kwargs)\n",
        "    self.object_idx = self.sys.body.index['Object']\n",
        "    self.target_idx = self.sys.body.index['Target']\n",
        "    # self.box_idx = self.sys.body.index['Box1']\n",
        "    # self.box_idx2 = self.sys.body.index['Box2']\n",
        "    self.palm_idx = self.sys.body.index['HandPalm']\n",
        "    self.target_radius = 1.1\n",
        "    self.target_distance = 10.\n",
        "    self.target_height = 8.\n",
        "\n",
        "    # map the [-1, 1] action space into a valid angle for the actuators\n",
        "    limits = []\n",
        "    # for j in self.sys.config.joints:\n",
        "    #   for l in j.angle_limit:\n",
        "    #     limits.append((l.min, l.max))\n",
        "    self._min_act = jp.array([l[0] for l in limits])\n",
        "    self._range_act = jp.array([l[1] - l[0] for l in limits])\n",
        "\n",
        "    # add limits for the translational motion of the hand base\n",
        "    self._min_act = jp.concatenate([self._min_act, jp.array([-10, -10, 3.5])])\n",
        "    self._range_act = jp.concatenate([self._range_act, jp.array([20, 20, 10])])\n",
        "\n",
        "  def reset(self, rng: jp.ndarray) -> E.State:\n",
        "    qp = self.sys.default_qp()\n",
        "\n",
        "    palm_pos =jnp.array([0,0,1])\n",
        "    object_pos =jnp.array([0.0,2,2])\n",
        "    # box_pos = jnp.array([0.0,-5,2])\n",
        "    # box_pos2 = jnp.array([0.0,-10,2])\n",
        "    pos = qp.pos\n",
        "    pos = jp.index_update(pos, self.palm_idx, palm_pos)\n",
        "    pos = jp.index_update(pos, self.object_idx, object_pos)\n",
        "    # pos = jp.index_update(pos, self.box_idx, box_pos)\n",
        "    # pos = jp.index_update(pos, self.box_idx2, box_pos2)\n",
        "    qp = qp.replace(pos=pos, vel= jnp.zeros_like(qp.vel))\n",
        "\n",
        "    # rng, target = self._random_target(rng)\n",
        "    # pos = qp.pos.at[self.target_idx].set(target)\n",
        "    # qp = dataclasses.replace(qp, pos=pos)\n",
        "    info = self.sys.info(qp)\n",
        "    obs = self._get_obs(qp, info)\n",
        "    reward, done, zero = jp.zeros(3)\n",
        "    metrics = {\n",
        "        'hits': zero,\n",
        "        'touchingObject': zero,\n",
        "        'movingToObject': zero,\n",
        "        'movingObjectToTarget': zero,\n",
        "        'closeToObject': zero\n",
        "    }\n",
        "    info = {'rng': rng}\n",
        "    return E.State(qp, obs, reward, done, metrics, info)\n",
        "\n",
        "  def step(self, state: E.State, action: jp.ndarray) -> E.State:\n",
        "    # actuate the palm\n",
        "    # action = self._min_act + self._range_act * ((action + 1) / 2.)\n",
        "    # target_pos = action[-3:]\n",
        "    # palm_pos = state.qp.pos[self.palm_idx]\n",
        "    # norm = jp.norm(target_pos - palm_pos)\n",
        "    # # make sure hand doesn't move too fast\n",
        "    # scale = jp.where(norm > 2.0, 2. / norm, 1.0)\n",
        "    # palm_pos = palm_pos + scale * (target_pos - palm_pos) * .15\n",
        "    # pos = state.qp.pos\n",
        "    # pos = jp.index_update(pos, self.palm_idx, palm_pos)\n",
        "    # qp = state.qp.replace(pos=pos)\n",
        "\n",
        "    vel = state.qp.vel\n",
        "    vel = jp.index_update(vel, self.palm_idx, action[-3:])\n",
        "    qp = state.qp.replace(vel= vel)\n",
        "\n",
        "    # do the rest of the physics update\n",
        "    qp, info = self.sys.step(qp, action)\n",
        "    obs = self._get_obs(qp, info)\n",
        "\n",
        "    # small reward for moving in right direction\n",
        "    object_pos = qp.pos[self.object_idx]\n",
        "    hand_pos = qp.pos[self.palm_idx]\n",
        "    hand_vel = qp.vel[self.palm_idx]\n",
        "    object_rel = object_pos - hand_pos\n",
        "    object_dist = jp.norm(object_rel)\n",
        "    planar_object_dist = jp.norm(object_rel * jp.array([1., 1., 0.]))\n",
        "    object_dir = object_rel / (1e-6 + object_dist.reshape(-1))\n",
        "\n",
        "    moving_to_object = .1 * self.sys.config.dt * jp.dot(hand_vel, object_dir)\n",
        "    close_to_object = .1 * self.sys.config.dt * 1. / (1. + planar_object_dist)\n",
        "\n",
        "    # large reward for object moving to target\n",
        "    target_pos = qp.pos[self.target_idx]\n",
        "    object_vel = qp.vel[self.object_idx]\n",
        "    target_rel = target_pos - object_pos\n",
        "\n",
        "    target_dist = jp.norm(target_rel)\n",
        "    target_dir = target_rel / (1e-6 + target_dist)\n",
        "    moving_to_target = 1.5 * self.sys.config.dt * jp.dot(\n",
        "        object_vel, target_dir)\n",
        "\n",
        "    # small reward for touching object\n",
        "    contact_mag = jp.sum(jp.square(info.contact.vel), axis=-1)\n",
        "    contacts = jp.where(contact_mag > 0.00001, 1, 0)\n",
        "    # touching_object = 0.2 * self.sys.config.dt * (\n",
        "    #     contacts[3] + contacts[9] + contacts[12] + contacts[15])\n",
        "\n",
        "    # big reward for reaching target\n",
        "    target_hit = jp.where(target_dist < self.target_radius, 1.0, 0.0)\n",
        "\n",
        "    reward = moving_to_object + close_to_object + 5. * target_hit + moving_to_target\n",
        "\n",
        "    state.metrics.update(\n",
        "        hits=target_hit,\n",
        "        movingToObject=moving_to_object,\n",
        "        movingObjectToTarget=moving_to_target,\n",
        "        closeToObject=close_to_object)\n",
        "\n",
        "    # teleport any hit targets\n",
        "    rng, target = self._random_target(state.info['rng'])\n",
        "    target = jp.where(target_hit, target, qp.pos[self.target_idx])\n",
        "    pos = jp.index_update(qp.pos, self.target_idx, target)\n",
        "    qp = qp.replace(pos=pos)\n",
        "    state.info.update(rng=rng)\n",
        "    return state.replace(qp=qp, obs=obs, reward=reward)\n",
        "\n",
        "  @property\n",
        "  def action_size(self) -> int:\n",
        "    return super().action_size + 3  # 3 extra actions for translating\n",
        "\n",
        "  def _get_obs(self, qp: brax.QP, info: brax.Info) -> jp.ndarray:\n",
        "    \"\"\"Egocentric observation of target, object, and hand.\"\"\"\n",
        "\n",
        "    v_inv_rotate = jp.vmap(math.inv_rotate, include=(True, False))\n",
        "\n",
        "    pos_local = qp.pos - qp.pos[self.palm_idx]\n",
        "    pos_local = v_inv_rotate(pos_local, qp.rot[self.palm_idx])\n",
        "    vel_local = v_inv_rotate(qp.vel, qp.rot[self.palm_idx])\n",
        "\n",
        "    object_local = pos_local[self.object_idx]\n",
        "    object_local_mag = jp.norm(object_local).reshape(-1)\n",
        "    object_local_dir = object_local / (1e-6 + object_local_mag)\n",
        "\n",
        "    # target specific obs\n",
        "    hand_to_obj = qp.pos[self.object_idx] - qp.pos[self.palm_idx]\n",
        "    hand_to_obj_mag = jp.norm(hand_to_obj)\n",
        "    hand_to_obj_dir = hand_to_obj / (1e-6 + hand_to_obj_mag)\n",
        "    hand_vel = qp.vel[self.palm_idx]\n",
        "    heading_to_obj = jp.dot(hand_to_obj_dir, hand_vel).reshape(-1)\n",
        "\n",
        "    target_local = pos_local[self.target_idx]\n",
        "    target_local_mag = jp.norm(target_local).reshape(-1)\n",
        "    target_local_dir = target_local / (1e-6 + target_local_mag)\n",
        "\n",
        "    # object to target\n",
        "    obj_to_target = qp.pos[self.target_idx] - qp.pos[self.object_idx]\n",
        "    obj_to_target_mag = jp.norm(obj_to_target).reshape(-1)\n",
        "    obj_to_target_dir = obj_to_target / (1e-6 + obj_to_target_mag)\n",
        "\n",
        "    object_vel = qp.vel[self.object_idx]\n",
        "    obj_heading_to_target = jp.dot(obj_to_target_dir, object_vel).reshape(-1)\n",
        "\n",
        "    pos_local = pos_local.reshape(-1)\n",
        "    vel_local = vel_local.reshape(-1)\n",
        "\n",
        "    contact_mag = jp.sum(jp.square(info.contact.vel), axis=-1)\n",
        "    contacts = jp.where(contact_mag > 0.00001, 1, 0)\n",
        "\n",
        "    return jp.concatenate([\n",
        "        object_local_mag, object_local_dir, target_local_mag, target_local_dir,\n",
        "        pos_local, vel_local, hand_to_obj, hand_vel, heading_to_obj,\n",
        "        obj_to_target_mag, obj_to_target_dir, obj_heading_to_target, contacts\n",
        "    ])\n",
        "\n",
        "  def _random_target(self, rng: jp.ndarray) -> Tuple[jp.ndarray, jp.ndarray]:\n",
        "    \"\"\"Returns new random target locations in a random circle on xz plane.\"\"\"\n",
        "    rng, rng1, rng2, rng3 = jp.random_split(rng, 4)\n",
        "    dist = self.target_radius + self.target_distance * jp.random_uniform(rng1)\n",
        "    ang = jp.pi * 2. * jp.random_uniform(rng2)\n",
        "    target_x = dist * jp.cos(ang)\n",
        "    target_y = dist * jp.sin(ang)\n",
        "    target_z = self.target_height * jp.random_uniform(rng3)\n",
        "    target = jp.array([target_x, target_y, target_z]).transpose()\n",
        "    return rng, target\n",
        "\n",
        "\n",
        "_SYSTEM_CONFIG = \"\"\"\n",
        "bodies {\n",
        "  name: \"Ground\"\n",
        "  colliders {\n",
        "    plane {\n",
        "    }\n",
        "  }\n",
        "  inertia {\n",
        "    x: 1.0\n",
        "    y: 1.0\n",
        "    z: 1.0\n",
        "  }\n",
        "  mass: 1.0\n",
        "  frozen { all: true }\n",
        "}\n",
        "bodies {\n",
        "  name: \"Object\"\n",
        "  colliders {\n",
        "    capsule {\n",
        "      radius: 1.0\n",
        "      length: 2.0\n",
        "    }\n",
        "    rotation { x: 90 }\n",
        "  }\n",
        "  inertia {\n",
        "    x: 1.0\n",
        "    y: 1.0\n",
        "    z: 1.0\n",
        "  }\n",
        "  mass: 1.0\n",
        "}\n",
        "bodies {\n",
        "  name: \"HandPalm\"\n",
        "  colliders {\n",
        "    capsule {\n",
        "      radius: 1.5\n",
        "      length: 3.0\n",
        "    }\n",
        "    rotation { x: 120 }\n",
        "  }\n",
        "  inertia {\n",
        "    x: 1.0350000858306885\n",
        "    y: 1.7224998474121094\n",
        "    z: 1.7224998474121094\n",
        "  }\n",
        "  mass: 1.0\n",
        "}\n",
        "bodies {\n",
        "  name: \"Target\"\n",
        "  colliders { sphere { radius: 1.1 }}\n",
        "  frozen { all: true }\n",
        "}\n",
        "friction: 0.77459666924\n",
        "gravity {\n",
        "  z: -9.800000190734863\n",
        "}\n",
        "angular_damping: -0.05000000074505806\n",
        "baumgarte_erp: 0.15000000149011612\n",
        "collide_include {\n",
        "  first: \"Ground\"\n",
        "  second: \"Object\"\n",
        "}\n",
        "collide_include {\n",
        "  first: \"Ground\"\n",
        "  second: \"Box1\"\n",
        "}\n",
        "collide_include {\n",
        "  first: \"HandPalm\"\n",
        "  second: \"Object\"\n",
        "}\n",
        "\n",
        "dt: 0.02\n",
        "substeps: 4\n",
        "\"\"\""
      ],
      "metadata": {
        "id": "UZ9Mp6sbxgSw"
      },
      "execution_count": 51,
      "outputs": []
    },
    {
      "cell_type": "code",
      "source": [
        "# friction: .1\n",
        "# gravity { z: -9.8 }\n",
        "# angular_damping: 0.00\n",
        "# baumgarte_erp: 0.01\n",
        "# elasticity: 0.9\n",
        "# dt: 0.0167\n",
        "# substeps: 240"
      ],
      "metadata": {
        "id": "sg9NdVC0AQqX"
      },
      "execution_count": 52,
      "outputs": []
    },
    {
      "cell_type": "code",
      "source": [
        "import functools\n",
        "from typing import Callable, Optional, Union, overload\n",
        "from brax.envs.env import Env, State, Wrapper\n",
        "from brax.envs import grasp\n",
        "from brax.envs import wrappers\n",
        "\n",
        "_envs = {\n",
        "    'exp': PointMass,\n",
        "}\n",
        "\n",
        "\n",
        "def create(env_name: str,\n",
        "           episode_length: int = 1000,\n",
        "           action_repeat: int = 1,\n",
        "           auto_reset: bool = True,\n",
        "           batch_size: Optional[int] = None,\n",
        "           eval_metrics: bool = False,\n",
        "           **kwargs) -> Env:\n",
        "  \"\"\"Creates an Env with a specified brax system.\"\"\"\n",
        "  env = _envs[env_name](**kwargs)\n",
        "  if episode_length is not None:\n",
        "    env = wrappers.EpisodeWrapper(env, episode_length, action_repeat)\n",
        "  if batch_size:\n",
        "    env = wrappers.VectorWrapper(env, batch_size)\n",
        "  if auto_reset:\n",
        "    env = wrappers.AutoResetWrapper(env)\n",
        "  if eval_metrics:\n",
        "    env = wrappers.EvalWrapper(env)\n",
        "\n",
        "  return env  # type: ignore\n",
        "\n",
        "\n",
        "def create_fn(env_name: str, **kwargs) -> Callable[..., Env]:\n",
        "  \"\"\"Returns a function that when called, creates an Env.\"\"\"\n",
        "  return functools.partial(create, env_name, **kwargs)"
      ],
      "metadata": {
        "id": "ncRfEbbk1Gg2"
      },
      "execution_count": 53,
      "outputs": []
    },
    {
      "cell_type": "markdown",
      "metadata": {
        "id": "Tm8zbPBcJ5RJ"
      },
      "source": [
        "First let's pick an environment to train an agent:"
      ]
    },
    {
      "cell_type": "code",
      "source": [
        "#@title Preview a Brax environment { run: \"auto\" }\n",
        "#@markdown Select the environment to train:\n",
        "\n",
        "env_name = \"exp\" \n",
        "env_fn = create_fn(env_name=env_name)\n",
        "env = env_fn()"
      ],
      "metadata": {
        "id": "YiMffJUXQWRg"
      },
      "execution_count": 54,
      "outputs": []
    },
    {
      "cell_type": "code",
      "execution_count": 55,
      "metadata": {
        "colab": {
          "base_uri": "https://localhost:8080/",
          "height": 480
        },
        "id": "NaJDZqhCLovU",
        "outputId": "3b57994c-5cd7-4b26-d0b9-06fc30bf4533"
      },
      "outputs": [
        {
          "output_type": "execute_result",
          "data": {
            "text/html": [
              "\n",
              "<html>\n",
              "  <head>\n",
              "    <title>brax visualizer</title>\n",
              "    <style>\n",
              "      body {\n",
              "        margin: 0;\n",
              "        padding: 0;\n",
              "      }\n",
              "      #brax-viewer {\n",
              "        margin: 0;\n",
              "        padding: 0;\n",
              "        height: 480px;\n",
              "      }\n",
              "    </style>\n",
              "  </head>\n",
              "  <body>\n",
              "    <script type=\"application/javascript\">\n",
              "    var system = {\"config\": {\"bodies\": [{\"name\": \"Ground\", \"colliders\": [{\"plane\": {}, \"material\": {\"friction\": 0.7745967, \"elasticity\": 0.0}}], \"inertia\": {\"x\": 1.0, \"y\": 1.0, \"z\": 1.0}, \"mass\": 1.0, \"frozen\": {\"position\": {\"x\": 1.0, \"y\": 1.0, \"z\": 1.0}, \"rotation\": {\"x\": 1.0, \"y\": 1.0, \"z\": 1.0}, \"all\": true}}, {\"name\": \"Object\", \"colliders\": [{\"rotation\": {\"x\": 90.0, \"y\": 0.0, \"z\": 0.0}, \"capsule\": {\"radius\": 1.0, \"length\": 2.0, \"end\": 0}, \"material\": {\"friction\": 0.7745967, \"elasticity\": 0.0}}], \"inertia\": {\"x\": 1.0, \"y\": 1.0, \"z\": 1.0}, \"mass\": 1.0, \"frozen\": {\"position\": {\"x\": 0.0, \"y\": 0.0, \"z\": 0.0}, \"rotation\": {\"x\": 0.0, \"y\": 0.0, \"z\": 0.0}, \"all\": false}}, {\"name\": \"HandPalm\", \"colliders\": [{\"rotation\": {\"x\": 120.0, \"y\": 0.0, \"z\": 0.0}, \"capsule\": {\"radius\": 1.5, \"length\": 3.0, \"end\": 0}, \"material\": {\"friction\": 0.7745967, \"elasticity\": 0.0}}], \"inertia\": {\"x\": 1.0350001, \"y\": 1.7224998, \"z\": 1.7224998}, \"mass\": 1.0, \"frozen\": {\"position\": {\"x\": 0.0, \"y\": 0.0, \"z\": 0.0}, \"rotation\": {\"x\": 0.0, \"y\": 0.0, \"z\": 0.0}, \"all\": false}}, {\"name\": \"Target\", \"colliders\": [{\"sphere\": {\"radius\": 1.1}, \"material\": {\"friction\": 0.7745967, \"elasticity\": 0.0}}], \"inertia\": {\"x\": 1.0, \"y\": 1.0, \"z\": 1.0}, \"frozen\": {\"position\": {\"x\": 1.0, \"y\": 1.0, \"z\": 1.0}, \"rotation\": {\"x\": 1.0, \"y\": 1.0, \"z\": 1.0}, \"all\": true}, \"mass\": 0.0}], \"friction\": 0.7745967, \"gravity\": {\"z\": -9.8, \"x\": 0.0, \"y\": 0.0}, \"angularDamping\": -0.05, \"baumgarteErp\": 0.15, \"collideInclude\": [{\"first\": \"Ground\", \"second\": \"Object\"}, {\"first\": \"Ground\", \"second\": \"Box1\"}, {\"first\": \"HandPalm\", \"second\": \"Object\"}], \"dt\": 0.02, \"substeps\": 4, \"frozen\": {\"all\": false}, \"joints\": [], \"actuators\": [], \"forces\": [], \"elasticity\": 0.0, \"velocityDamping\": 0.0, \"defaults\": [], \"colliderCutoff\": 0, \"meshGeometries\": []}, \"pos\": [[[0.0, 0.0, 0.0], [0.0, 2.0, 2.0], [0.0, 0.0, 1.0], [0.0, 0.0, 1.100000023841858]]], \"rot\": [[[1.0, 0.0, 0.0, 0.0], [1.0, 0.0, 0.0, 0.0], [1.0, 0.0, 0.0, 0.0], [1.0, 0.0, 0.0, 0.0]]]};\n",
              "    </script>\n",
              "    <div id=\"brax-viewer\"></div>\n",
              "    <script type=\"module\">\n",
              "      import {Viewer} from 'https://cdn.jsdelivr.net/gh/google/brax@v0.0.10/js/viewer.js';\n",
              "      const domElement = document.getElementById('brax-viewer');\n",
              "      var viewer = new Viewer(domElement, system);\n",
              "    </script>\n",
              "  </body>\n",
              "</html>\n"
            ],
            "text/plain": [
              "<IPython.core.display.HTML object>"
            ]
          },
          "metadata": {},
          "execution_count": 55
        }
      ],
      "source": [
        "\n",
        "state = env.reset(rng=jp.random_prngkey(seed=0))\n",
        "\n",
        "HTML(html.render(env.sys, [state.qp]))"
      ]
    },
    {
      "cell_type": "code",
      "source": [
        "jit_env_reset = jax.jit(env.reset)\n",
        "jit_env_step = jax.jit(env.step)\n",
        "rollout = []"
      ],
      "metadata": {
        "id": "NayANzKDurxq"
      },
      "execution_count": 56,
      "outputs": []
    },
    {
      "cell_type": "code",
      "source": [
        "# rng = jax.random.PRNGKey(seed=0)\n",
        "from brax import jumpy as jp\n",
        "state = env.reset(rng=jp.random_prngkey(seed=0))"
      ],
      "metadata": {
        "id": "nqrvcXqruyWI"
      },
      "execution_count": 57,
      "outputs": []
    },
    {
      "cell_type": "code",
      "source": [
        "act = jnp.array([-0.0,-5,0])\n",
        "for i in range(0,800):\n",
        "  rollout.append(state)\n",
        "  # act = -jnp.ones((env.action_size))\n",
        "  state = jit_env_step(state, act)\n",
        "\n",
        "HTML(html.render(env.sys, [s.qp for s in rollout]))"
      ],
      "metadata": {
        "colab": {
          "base_uri": "https://localhost:8080/",
          "height": 480
        },
        "id": "HlZilbB-uIJ1",
        "outputId": "99b58476-6942-481b-ff86-47fcddfe740b"
      },
      "execution_count": 58,
      "outputs": [
        {
          "output_type": "execute_result",
          "data": {
            "text/html": [
              "\n",
              "<html>\n",
              "  <head>\n",
              "    <title>brax visualizer</title>\n",
              "    <style>\n",
              "      body {\n",
              "        margin: 0;\n",
              "        padding: 0;\n",
              "      }\n",
              "      #brax-viewer {\n",
              "        margin: 0;\n",
              "        padding: 0;\n",
              "        height: 480px;\n",
              "      }\n",
              "    </style>\n",
              "  </head>\n",
              "  <body>\n",
              "    <script type=\"application/javascript\">\n",
              "    var system = {\"config\": {\"bodies\": [{\"name\": \"Ground\", \"colliders\": [{\"plane\": {}, \"material\": {\"friction\": 0.7745967, \"elasticity\": 0.0}}], \"inertia\": {\"x\": 1.0, \"y\": 1.0, \"z\": 1.0}, \"mass\": 1.0, \"frozen\": {\"position\": {\"x\": 1.0, \"y\": 1.0, \"z\": 1.0}, \"rotation\": {\"x\": 1.0, \"y\": 1.0, \"z\": 1.0}, \"all\": true}}, {\"name\": \"Object\", \"colliders\": [{\"rotation\": {\"x\": 90.0, \"y\": 0.0, \"z\": 0.0}, \"capsule\": {\"radius\": 1.0, \"length\": 2.0, \"end\": 0}, \"material\": {\"friction\": 0.7745967, \"elasticity\": 0.0}}], \"inertia\": {\"x\": 1.0, \"y\": 1.0, \"z\": 1.0}, \"mass\": 1.0, \"frozen\": {\"position\": {\"x\": 0.0, \"y\": 0.0, \"z\": 0.0}, \"rotation\": {\"x\": 0.0, \"y\": 0.0, \"z\": 0.0}, \"all\": false}}, {\"name\": \"HandPalm\", \"colliders\": [{\"rotation\": {\"x\": 120.0, \"y\": 0.0, \"z\": 0.0}, \"capsule\": {\"radius\": 1.5, \"length\": 3.0, \"end\": 0}, \"material\": {\"friction\": 0.7745967, \"elasticity\": 0.0}}], \"inertia\": {\"x\": 1.0350001, \"y\": 1.7224998, \"z\": 1.7224998}, \"mass\": 1.0, \"frozen\": {\"position\": {\"x\": 0.0, \"y\": 0.0, \"z\": 0.0}, \"rotation\": {\"x\": 0.0, \"y\": 0.0, \"z\": 0.0}, \"all\": false}}, {\"name\": \"Target\", \"colliders\": [{\"sphere\": {\"radius\": 1.1}, \"material\": {\"friction\": 0.7745967, \"elasticity\": 0.0}}], \"inertia\": {\"x\": 1.0, \"y\": 1.0, \"z\": 1.0}, \"frozen\": {\"position\": {\"x\": 1.0, \"y\": 1.0, \"z\": 1.0}, \"rotation\": {\"x\": 1.0, \"y\": 1.0, \"z\": 1.0}, \"all\": true}, \"mass\": 0.0}], \"friction\": 0.7745967, \"gravity\": {\"z\": -9.8, \"x\": 0.0, \"y\": 0.0}, \"angularDamping\": -0.05, \"baumgarteErp\": 0.15, \"collideInclude\": [{\"first\": \"Ground\", \"second\": \"Object\"}, {\"first\": \"Ground\", \"second\": \"Box1\"}, {\"first\": \"HandPalm\", \"second\": \"Object\"}], \"dt\": 0.02, \"substeps\": 4, \"frozen\": {\"all\": false}, \"joints\": [], \"actuators\": [], \"forces\": [], \"elasticity\": 0.0, \"velocityDamping\": 0.0, \"defaults\": [], \"colliderCutoff\": 0, \"meshGeometries\": []}, \"pos\": [[[0.0, 0.0, 0.0], [0.0, 2.0, 2.0], [0.0, 0.0, 1.0], [0.0, 0.0, 1.100000023841858]], [[0.0, 0.0, 0.0], [0.0, 2.0, 1.9985300302505493], [0.0, -0.09999999403953552, 0.9985300302505493], [0.0, 0.0, 1.100000023841858]], [[0.0, 0.0, 0.0], [0.0, 2.0, 1.9931401014328003], [0.0, -0.19999998807907104, 0.9970600605010986], [0.0, 0.0, 1.100000023841858]], [[0.0, 0.0, 0.0], [0.0, 2.0, 1.9838300943374634], [0.0, -0.30000001192092896, 0.995590090751648], [0.0, 0.0, 1.100000023841858]], [[0.0, 0.0, 0.0], [0.0, 2.0, 1.9706000089645386], [0.0, -0.40000003576278687, 0.9941201210021973], [0.0, 0.0, 1.100000023841858]], [[0.0, 0.0, 0.0], [0.0, 2.0, 1.9534499645233154], [0.0, -0.5000000596046448, 0.9926501512527466], [0.0, 0.0, 1.100000023841858]], [[0.0, 0.0, 0.0], [0.0, 2.0, 1.932379961013794], [0.0, -0.5999999642372131, 0.9911801815032959], [0.0, 0.0, 1.100000023841858]], [[0.0, 0.0, 0.0], [0.0, 2.0, 1.9073899984359741], [0.0, -0.6999998688697815, 0.9897102117538452], [0.0, 0.0, 1.100000023841858]], [[0.0, 0.0, 0.0], [0.0, 2.0, 1.878480076789856], [0.0, -0.7999997735023499, 0.9882402420043945], [0.0, 0.0, 1.100000023841858]], [[0.0, 0.0, 0.0], [0.0, 2.0, 1.84565007686615], [0.0, -0.8999996781349182, 0.9867702722549438], [0.0, 0.0, 1.100000023841858]], [[0.0, 0.0, 0.0], [0.0, 2.0, 1.808899998664856], [0.0, -0.9999995827674866, 0.9853003025054932], [0.0, 0.0, 1.100000023841858]], [[0.0, 0.0, 0.0], [0.0, 2.0, 1.7682299613952637], [0.0, -1.0999995470046997, 0.9838303327560425], [0.0, 0.0, 1.100000023841858]], [[0.0, 0.0, 0.0], [0.0, 2.0, 1.723639965057373], [0.0, -1.199999451637268, 0.9823603630065918], [0.0, 0.0, 1.100000023841858]], [[0.0, 0.0, 0.0], [0.0, 2.0, 1.675130009651184], [0.0, -1.2999993562698364, 0.9808903932571411], [0.0, 0.0, 1.100000023841858]], [[0.0, 0.0, 0.0], [0.0, 2.0, 1.6226999759674072], [0.0, -1.3999992609024048, 0.9794204235076904], [0.0, 0.0, 1.100000023841858]], [[0.0, 0.0, 0.0], [0.0, 2.0, 1.566349983215332], [0.0, -1.4999991655349731, 0.9779504537582397], [0.0, 0.0, 1.100000023841858]], [[0.0, 0.0, 0.0], [0.0, 2.0, 1.506079912185669], [0.0, -1.5999990701675415, 0.9764804840087891], [0.0, 0.0, 1.100000023841858]], [[0.0, 0.0, 0.0], [0.0, 2.0, 1.4418898820877075], [0.0, -1.6999989748001099, 0.9750105142593384], [0.0, 0.0, 1.100000023841858]], [[0.0, 0.0, 0.0], [0.0, 2.0, 1.3737798929214478], [0.0, -1.7999988794326782, 0.9735405445098877], [0.0, 0.0, 1.100000023841858]], [[0.0, 0.0, 0.0], [0.0, 2.0, 1.3017498254776], [0.0, -1.8999987840652466, 0.972070574760437], [0.0, 0.0, 1.100000023841858]], [[0.0, 0.0, 0.0], [0.0, 2.0, 1.225799798965454], [0.0, -1.999998688697815, 0.9706006050109863], [0.0, 0.0, 1.100000023841858]], [[0.0, 0.0, 0.0], [0.0, 2.0, 1.1459298133850098], [0.0, -2.099998950958252, 0.9691306352615356], [0.0, 0.0, 1.100000023841858]], [[0.0, 0.0, 0.0], [0.0, 2.0, 1.0621397495269775], [0.0, -2.1999993324279785, 0.967660665512085], [0.0, 0.0, 1.100000023841858]], [[0.0, 0.0, 0.0], [0.0, 2.0, 0.9972160458564758], [0.0, -2.299999713897705, 0.9661906957626343], [0.0, 0.0, 1.100000023841858]], [[0.0, 0.0, 0.0], [0.0, 2.0, 0.9979795813560486], [0.0, -2.4000000953674316, 0.9647207260131836], [0.0, 0.0, 1.100000023841858]], [[0.0, 0.0, 0.0], [0.0, 2.0, 0.9985935091972351], [0.0, -2.500000476837158, 0.9632507562637329], [0.0, 0.0, 1.100000023841858]], [[0.0, 0.0, 0.0], [0.0, 2.0, 0.9992658495903015], [0.0, -2.6000008583068848, 0.9617807865142822], [0.0, 0.0, 1.100000023841858]], [[0.0, 0.0, 0.0], [0.0, 2.0, 0.999616801738739], [0.0, -2.7000012397766113, 0.9603108167648315], [0.0, 0.0, 1.100000023841858]], [[0.0, 0.0, 0.0], [0.0, 2.0, 0.9997999668121338], [0.0, -2.800001621246338, 0.9588408470153809], [0.0, 0.0, 1.100000023841858]], [[0.0, 0.0, 0.0], [0.0, 2.0, 0.9998955726623535], [0.0, -2.9000020027160645, 0.9573708772659302], [0.0, 0.0, 1.100000023841858]], [[0.0, 0.0, 0.0], [0.0, 2.0, 0.9999454617500305], [0.0, -3.000002384185791, 0.9559009075164795], [0.0, 0.0, 1.100000023841858]], [[0.0, 0.0, 0.0], [0.0, 2.0, 0.9999715089797974], [0.0, -3.1000027656555176, 0.9544309377670288], [0.0, 0.0, 1.100000023841858]], [[0.0, 0.0, 0.0], [0.0, 2.0, 0.9999851584434509], [0.0, -3.200003147125244, 0.9529609680175781], [0.0, 0.0, 1.100000023841858]], [[0.0, 0.0, 0.0], [0.0, 2.0, 0.9999922513961792], [0.0, -3.3000035285949707, 0.9514909982681274], [0.0, 0.0, 1.100000023841858]], [[0.0, 0.0, 0.0], [0.0, 2.0, 0.9999959468841553], [0.0, -3.4000039100646973, 0.9500210285186768], [0.0, 0.0, 1.100000023841858]], [[0.0, 0.0, 0.0], [0.0, 2.0, 0.9999978542327881], [0.0, -3.500004291534424, 0.9485510587692261], [0.0, 0.0, 1.100000023841858]], [[0.0, 0.0, 0.0], [0.0, 2.0, 0.9999988675117493], [0.0, -3.6000046730041504, 0.9470810890197754], [0.0, 0.0, 1.100000023841858]], [[0.0, 0.0, 0.0], [0.0, 2.0, 0.9999994039535522], [0.0, -3.700005054473877, 0.9456111192703247], [0.0, 0.0, 1.100000023841858]], [[0.0, 0.0, 0.0], [0.0, 2.0, 0.9999997019767761], [0.0, -3.8000054359436035, 0.944141149520874], [0.0, 0.0, 1.100000023841858]], [[0.0, 0.0, 0.0], [0.0, 2.0, 0.9999998211860657], [0.0, -3.90000581741333, 0.9426711797714233], [0.0, 0.0, 1.100000023841858]], [[0.0, 0.0, 0.0], [0.0, 2.0, 0.9999998211860657], [0.0, -4.000006198883057, 0.9412012100219727], [0.0, 0.0, 1.100000023841858]], [[0.0, 0.0, 0.0], [0.0, 2.0, 0.9999998211860657], [0.0, -4.100006580352783, 0.939731240272522], [0.0, 0.0, 1.100000023841858]], [[0.0, 0.0, 0.0], [0.0, 2.0, 0.9999998211860657], [0.0, -4.20000696182251, 0.9382612705230713], [0.0, 0.0, 1.100000023841858]], [[0.0, 0.0, 0.0], [0.0, 2.0, 0.9999998211860657], [0.0, -4.300007343292236, 0.9367913007736206], [0.0, 0.0, 1.100000023841858]], [[0.0, 0.0, 0.0], [0.0, 2.0, 0.9999998211860657], [0.0, -4.400007724761963, 0.9353213310241699], [0.0, 0.0, 1.100000023841858]], [[0.0, 0.0, 0.0], [0.0, 2.0, 0.9999998211860657], [0.0, -4.5000081062316895, 0.9338513612747192], [0.0, 0.0, 1.100000023841858]], [[0.0, 0.0, 0.0], [0.0, 2.0, 0.9999998211860657], [0.0, -4.600008487701416, 0.9323813915252686], [0.0, 0.0, 1.100000023841858]], [[0.0, 0.0, 0.0], [0.0, 2.0, 0.9999998211860657], [0.0, -4.700008869171143, 0.9309114217758179], [0.0, 0.0, 1.100000023841858]], [[0.0, 0.0, 0.0], [0.0, 2.0, 0.9999998211860657], [0.0, -4.800009250640869, 0.9294414520263672], [0.0, 0.0, 1.100000023841858]], [[0.0, 0.0, 0.0], [0.0, 2.0, 0.9999998211860657], [0.0, -4.900009632110596, 0.9279714822769165], [0.0, 0.0, 1.100000023841858]], [[0.0, 0.0, 0.0], [0.0, 2.0, 0.9999998211860657], [0.0, -5.000010013580322, 0.9265015125274658], [0.0, 0.0, 1.100000023841858]], [[0.0, 0.0, 0.0], [0.0, 2.0, 0.9999998211860657], [0.0, -5.100010395050049, 0.9250315427780151], [0.0, 0.0, 1.100000023841858]], [[0.0, 0.0, 0.0], [0.0, 2.0, 0.9999998211860657], [0.0, -5.200010776519775, 0.9235615730285645], [0.0, 0.0, 1.100000023841858]], [[0.0, 0.0, 0.0], [0.0, 2.0, 0.9999998211860657], [0.0, -5.300011157989502, 0.9220916032791138], [0.0, 0.0, 1.100000023841858]], [[0.0, 0.0, 0.0], [0.0, 2.0, 0.9999998211860657], [0.0, -5.4000115394592285, 0.9206216335296631], [0.0, 0.0, 1.100000023841858]], [[0.0, 0.0, 0.0], [0.0, 2.0, 0.9999998211860657], [0.0, -5.500011920928955, 0.9191516637802124], [0.0, 0.0, 1.100000023841858]], [[0.0, 0.0, 0.0], [0.0, 2.0, 0.9999998211860657], [0.0, -5.600012302398682, 0.9176816940307617], [0.0, 0.0, 1.100000023841858]], [[0.0, 0.0, 0.0], [0.0, 2.0, 0.9999998211860657], [0.0, -5.700012683868408, 0.916211724281311], [0.0, 0.0, 1.100000023841858]], [[0.0, 0.0, 0.0], [0.0, 2.0, 0.9999998211860657], [0.0, -5.800013065338135, 0.9147417545318604], [0.0, 0.0, 1.100000023841858]], [[0.0, 0.0, 0.0], [0.0, 2.0, 0.9999998211860657], [0.0, -5.900013446807861, 0.9132717847824097], [0.0, 0.0, 1.100000023841858]], [[0.0, 0.0, 0.0], [0.0, 2.0, 0.9999998211860657], [0.0, -6.000013828277588, 0.911801815032959], [0.0, 0.0, 1.100000023841858]], [[0.0, 0.0, 0.0], [0.0, 2.0, 0.9999998211860657], [0.0, -6.1000142097473145, 0.9103318452835083], [0.0, 0.0, 1.100000023841858]], [[0.0, 0.0, 0.0], [0.0, 2.0, 0.9999998211860657], [0.0, -6.200014591217041, 0.9088618755340576], [0.0, 0.0, 1.100000023841858]], [[0.0, 0.0, 0.0], [0.0, 2.0, 0.9999998211860657], [0.0, -6.300014972686768, 0.9073919057846069], [0.0, 0.0, 1.100000023841858]], [[0.0, 0.0, 0.0], [0.0, 2.0, 0.9999998211860657], [0.0, -6.400015354156494, 0.9059219360351562], [0.0, 0.0, 1.100000023841858]], [[0.0, 0.0, 0.0], [0.0, 2.0, 0.9999998211860657], [0.0, -6.500015735626221, 0.9044519662857056], [0.0, 0.0, 1.100000023841858]], [[0.0, 0.0, 0.0], [0.0, 2.0, 0.9999998211860657], [0.0, -6.600016117095947, 0.9029819965362549], [0.0, 0.0, 1.100000023841858]], [[0.0, 0.0, 0.0], [0.0, 2.0, 0.9999998211860657], [0.0, -6.700016498565674, 0.9015120267868042], [0.0, 0.0, 1.100000023841858]], [[0.0, 0.0, 0.0], [0.0, 2.0, 0.9999998211860657], [0.0, -6.8000168800354, 0.9000420570373535], [0.0, 0.0, 1.100000023841858]], [[0.0, 0.0, 0.0], [0.0, 2.0, 0.9999998211860657], [0.0, -6.900017261505127, 0.8985720872879028], [0.0, 0.0, 1.100000023841858]], [[0.0, 0.0, 0.0], [0.0, 2.0, 0.9999998211860657], [0.0, -7.0000176429748535, 0.8971021175384521], [0.0, 0.0, 1.100000023841858]], [[0.0, 0.0, 0.0], [0.0, 2.0, 0.9999998211860657], [0.0, -7.10001802444458, 0.8956321477890015], [0.0, 0.0, 1.100000023841858]], [[0.0, 0.0, 0.0], [0.0, 2.0, 0.9999998211860657], [0.0, -7.200018405914307, 0.8941621780395508], [0.0, 0.0, 1.100000023841858]], [[0.0, 0.0, 0.0], [0.0, 2.0, 0.9999998211860657], [0.0, -7.300018787384033, 0.8926922082901001], [0.0, 0.0, 1.100000023841858]], [[0.0, 0.0, 0.0], [0.0, 2.0, 0.9999998211860657], [0.0, -7.40001916885376, 0.8912222385406494], [0.0, 0.0, 1.100000023841858]], [[0.0, 0.0, 0.0], [0.0, 2.0, 0.9999998211860657], [0.0, -7.500019550323486, 0.8897522687911987], [0.0, 0.0, 1.100000023841858]], [[0.0, 0.0, 0.0], [0.0, 2.0, 0.9999998211860657], [0.0, -7.600019931793213, 0.888282299041748], [0.0, 0.0, 1.100000023841858]], [[0.0, 0.0, 0.0], [0.0, 2.0, 0.9999998211860657], [0.0, -7.7000203132629395, 0.8868123292922974], [0.0, 0.0, 1.100000023841858]], [[0.0, 0.0, 0.0], [0.0, 2.0, 0.9999998211860657], [0.0, -7.800020694732666, 0.8853423595428467], [0.0, 0.0, 1.100000023841858]], [[0.0, 0.0, 0.0], [0.0, 2.0, 0.9999998211860657], [0.0, -7.900021076202393, 0.883872389793396], [0.0, 0.0, 1.100000023841858]], [[0.0, 0.0, 0.0], [0.0, 2.0, 0.9999998211860657], [0.0, -8.000020980834961, 0.8824024200439453], [0.0, 0.0, 1.100000023841858]], [[0.0, 0.0, 0.0], [0.0, 2.0, 0.9999998211860657], [0.0, -8.100019454956055, 0.8809324502944946], [0.0, 0.0, 1.100000023841858]], [[0.0, 0.0, 0.0], [0.0, 2.0, 0.9999998211860657], [0.0, -8.200017929077148, 0.879462480545044], [0.0, 0.0, 1.100000023841858]], [[0.0, 0.0, 0.0], [0.0, 2.0, 0.9999998211860657], [0.0, -8.300016403198242, 0.8779925107955933], [0.0, 0.0, 1.100000023841858]], [[0.0, 0.0, 0.0], [0.0, 2.0, 0.9999998211860657], [0.0, -8.400014877319336, 0.8765225410461426], [0.0, 0.0, 1.100000023841858]], [[0.0, 0.0, 0.0], [0.0, 2.0, 0.9999998211860657], [0.0, -8.50001335144043, 0.8750525712966919], [0.0, 0.0, 1.100000023841858]], [[0.0, 0.0, 0.0], [0.0, 2.0, 0.9999998211860657], [0.0, -8.600011825561523, 0.8735826015472412], [0.0, 0.0, 1.100000023841858]], [[0.0, 0.0, 0.0], [0.0, 2.0, 0.9999998211860657], [0.0, -8.700010299682617, 0.8721126317977905], [0.0, 0.0, 1.100000023841858]], [[0.0, 0.0, 0.0], [0.0, 2.0, 0.9999998211860657], [0.0, -8.800008773803711, 0.8706426620483398], [0.0, 0.0, 1.100000023841858]], [[0.0, 0.0, 0.0], [0.0, 2.0, 0.9999998211860657], [0.0, -8.900007247924805, 0.8691726922988892], [0.0, 0.0, 1.100000023841858]], [[0.0, 0.0, 0.0], [0.0, 2.0, 0.9999998211860657], [0.0, -9.000005722045898, 0.8677027225494385], [0.0, 0.0, 1.100000023841858]], [[0.0, 0.0, 0.0], [0.0, 2.0, 0.9999998211860657], [0.0, -9.100004196166992, 0.8662327527999878], [0.0, 0.0, 1.100000023841858]], [[0.0, 0.0, 0.0], [0.0, 2.0, 0.9999998211860657], [0.0, -9.200002670288086, 0.8647627830505371], [0.0, 0.0, 1.100000023841858]], [[0.0, 0.0, 0.0], [0.0, 2.0, 0.9999998211860657], [0.0, -9.30000114440918, 0.8632928133010864], [0.0, 0.0, 1.100000023841858]], [[0.0, 0.0, 0.0], [0.0, 2.0, 0.9999998211860657], [0.0, -9.399999618530273, 0.8618228435516357], [0.0, 0.0, 1.100000023841858]], [[0.0, 0.0, 0.0], [0.0, 2.0, 0.9999998211860657], [0.0, -9.499998092651367, 0.8603528738021851], [0.0, 0.0, 1.100000023841858]], [[0.0, 0.0, 0.0], [0.0, 2.0, 0.9999998211860657], [0.0, -9.599996566772461, 0.8588829040527344], [0.0, 0.0, 1.100000023841858]], [[0.0, 0.0, 0.0], [0.0, 2.0, 0.9999998211860657], [0.0, -9.699995040893555, 0.8574129343032837], [0.0, 0.0, 1.100000023841858]], [[0.0, 0.0, 0.0], [0.0, 2.0, 0.9999998211860657], [0.0, -9.799993515014648, 0.855942964553833], [0.0, 0.0, 1.100000023841858]], [[0.0, 0.0, 0.0], [0.0, 2.0, 0.9999998211860657], [0.0, -9.899991989135742, 0.8544729948043823], [0.0, 0.0, 1.100000023841858]], [[0.0, 0.0, 0.0], [0.0, 2.0, 0.9999998211860657], [0.0, -9.999990463256836, 0.8530030250549316], [0.0, 0.0, 1.100000023841858]], [[0.0, 0.0, 0.0], [0.0, 2.0, 0.9999998211860657], [0.0, -10.09998893737793, 0.851533055305481], [0.0, 0.0, 1.100000023841858]], [[0.0, 0.0, 0.0], [0.0, 2.0, 0.9999998211860657], [0.0, -10.199987411499023, 0.8500630855560303], [0.0, 0.0, 1.100000023841858]], [[0.0, 0.0, 0.0], [0.0, 2.0, 0.9999998211860657], [0.0, -10.299985885620117, 0.8485931158065796], [0.0, 0.0, 1.100000023841858]], [[0.0, 0.0, 0.0], [0.0, 2.0, 0.9999998211860657], [0.0, -10.399984359741211, 0.8471231460571289], [0.0, 0.0, 1.100000023841858]], [[0.0, 0.0, 0.0], [0.0, 2.0, 0.9999998211860657], [0.0, -10.499982833862305, 0.8456531763076782], [0.0, 0.0, 1.100000023841858]], [[0.0, 0.0, 0.0], [0.0, 2.0, 0.9999998211860657], [0.0, -10.599981307983398, 0.8441832065582275], [0.0, 0.0, 1.100000023841858]], [[0.0, 0.0, 0.0], [0.0, 2.0, 0.9999998211860657], [0.0, -10.699979782104492, 0.8427132368087769], [0.0, 0.0, 1.100000023841858]], [[0.0, 0.0, 0.0], [0.0, 2.0, 0.9999998211860657], [0.0, -10.799978256225586, 0.8412432670593262], [0.0, 0.0, 1.100000023841858]], [[0.0, 0.0, 0.0], [0.0, 2.0, 0.9999998211860657], [0.0, -10.89997673034668, 0.8397732973098755], [0.0, 0.0, 1.100000023841858]], [[0.0, 0.0, 0.0], [0.0, 2.0, 0.9999998211860657], [0.0, -10.999975204467773, 0.8383033275604248], [0.0, 0.0, 1.100000023841858]], [[0.0, 0.0, 0.0], [0.0, 2.0, 0.9999998211860657], [0.0, -11.099973678588867, 0.8368333578109741], [0.0, 0.0, 1.100000023841858]], [[0.0, 0.0, 0.0], [0.0, 2.0, 0.9999998211860657], [0.0, -11.199972152709961, 0.8353633880615234], [0.0, 0.0, 1.100000023841858]], [[0.0, 0.0, 0.0], [0.0, 2.0, 0.9999998211860657], [0.0, -11.299970626831055, 0.8338934183120728], [0.0, 0.0, 1.100000023841858]], [[0.0, 0.0, 0.0], [0.0, 2.0, 0.9999998211860657], [0.0, -11.399969100952148, 0.8324234485626221], [0.0, 0.0, 1.100000023841858]], [[0.0, 0.0, 0.0], [0.0, 2.0, 0.9999998211860657], [0.0, -11.499967575073242, 0.8309534788131714], [0.0, 0.0, 1.100000023841858]], [[0.0, 0.0, 0.0], [0.0, 2.0, 0.9999998211860657], [0.0, -11.599966049194336, 0.8294835090637207], [0.0, 0.0, 1.100000023841858]], [[0.0, 0.0, 0.0], [0.0, 2.0, 0.9999998211860657], [0.0, -11.69996452331543, 0.82801353931427], [0.0, 0.0, 1.100000023841858]], [[0.0, 0.0, 0.0], [0.0, 2.0, 0.9999998211860657], [0.0, -11.799962997436523, 0.8265435695648193], [0.0, 0.0, 1.100000023841858]], [[0.0, 0.0, 0.0], [0.0, 2.0, 0.9999998211860657], [0.0, -11.899961471557617, 0.8250735998153687], [0.0, 0.0, 1.100000023841858]], [[0.0, 0.0, 0.0], [0.0, 2.0, 0.9999998211860657], [0.0, -11.999959945678711, 0.823603630065918], [0.0, 0.0, 1.100000023841858]], [[0.0, 0.0, 0.0], [0.0, 2.0, 0.9999998211860657], [0.0, -12.099958419799805, 0.8221336603164673], [0.0, 0.0, 1.100000023841858]], [[0.0, 0.0, 0.0], [0.0, 2.0, 0.9999998211860657], [0.0, -12.199956893920898, 0.8206636905670166], [0.0, 0.0, 1.100000023841858]], [[0.0, 0.0, 0.0], [0.0, 2.0, 0.9999998211860657], [0.0, -12.299955368041992, 0.8191937208175659], [0.0, 0.0, 1.100000023841858]], [[0.0, 0.0, 0.0], [0.0, 2.0, 0.9999998211860657], [0.0, -12.399953842163086, 0.8177237510681152], [0.0, 0.0, 1.100000023841858]], [[0.0, 0.0, 0.0], [0.0, 2.0, 0.9999998211860657], [0.0, -12.49995231628418, 0.8162537813186646], [0.0, 0.0, 1.100000023841858]], [[0.0, 0.0, 0.0], [0.0, 2.0, 0.9999998211860657], [0.0, -12.599950790405273, 0.8147838115692139], [0.0, 0.0, 1.100000023841858]], [[0.0, 0.0, 0.0], [0.0, 2.0, 0.9999998211860657], [0.0, -12.699949264526367, 0.8133138418197632], [0.0, 0.0, 1.100000023841858]], [[0.0, 0.0, 0.0], [0.0, 2.0, 0.9999998211860657], [0.0, -12.799947738647461, 0.8118438720703125], [0.0, 0.0, 1.100000023841858]], [[0.0, 0.0, 0.0], [0.0, 2.0, 0.9999998211860657], [0.0, -12.899946212768555, 0.8103739023208618], [0.0, 0.0, 1.100000023841858]], [[0.0, 0.0, 0.0], [0.0, 2.0, 0.9999998211860657], [0.0, -12.999944686889648, 0.8089039325714111], [0.0, 0.0, 1.100000023841858]], [[0.0, 0.0, 0.0], [0.0, 2.0, 0.9999998211860657], [0.0, -13.099943161010742, 0.8074339628219604], [0.0, 0.0, 1.100000023841858]], [[0.0, 0.0, 0.0], [0.0, 2.0, 0.9999998211860657], [0.0, -13.199941635131836, 0.8059639930725098], [0.0, 0.0, 1.100000023841858]], [[0.0, 0.0, 0.0], [0.0, 2.0, 0.9999998211860657], [0.0, -13.29994010925293, 0.8044940233230591], [0.0, 0.0, 1.100000023841858]], [[0.0, 0.0, 0.0], [0.0, 2.0, 0.9999998211860657], [0.0, -13.399938583374023, 0.8030240535736084], [0.0, 0.0, 1.100000023841858]], [[0.0, 0.0, 0.0], [0.0, 2.0, 0.9999998211860657], [0.0, -13.499937057495117, 0.8015540838241577], [0.0, 0.0, 1.100000023841858]], [[0.0, 0.0, 0.0], [0.0, 2.0, 0.9999998211860657], [0.0, -13.599935531616211, 0.800084114074707], [0.0, 0.0, 1.100000023841858]], [[0.0, 0.0, 0.0], [0.0, 2.0, 0.9999998211860657], [0.0, -13.699934005737305, 0.7986141443252563], [0.0, 0.0, 1.100000023841858]], [[0.0, 0.0, 0.0], [0.0, 2.0, 0.9999998211860657], [0.0, -13.799932479858398, 0.7971441745758057], [0.0, 0.0, 1.100000023841858]], [[0.0, 0.0, 0.0], [0.0, 2.0, 0.9999998211860657], [0.0, -13.899930953979492, 0.795674204826355], [0.0, 0.0, 1.100000023841858]], [[0.0, 0.0, 0.0], [0.0, 2.0, 0.9999998211860657], [0.0, -13.999929428100586, 0.7942042350769043], [0.0, 0.0, 1.100000023841858]], [[0.0, 0.0, 0.0], [0.0, 2.0, 0.9999998211860657], [0.0, -14.09992790222168, 0.7927342653274536], [0.0, 0.0, 1.100000023841858]], [[0.0, 0.0, 0.0], [0.0, 2.0, 0.9999998211860657], [0.0, -14.199926376342773, 0.7912642955780029], [0.0, 0.0, 1.100000023841858]], [[0.0, 0.0, 0.0], [0.0, 2.0, 0.9999998211860657], [0.0, -14.299924850463867, 0.7897943258285522], [0.0, 0.0, 1.100000023841858]], [[0.0, 0.0, 0.0], [0.0, 2.0, 0.9999998211860657], [0.0, -14.399923324584961, 0.7883243560791016], [0.0, 0.0, 1.100000023841858]], [[0.0, 0.0, 0.0], [0.0, 2.0, 0.9999998211860657], [0.0, -14.499921798706055, 0.7868543863296509], [0.0, 0.0, 1.100000023841858]], [[0.0, 0.0, 0.0], [0.0, 2.0, 0.9999998211860657], [0.0, -14.599920272827148, 0.7853844165802002], [0.0, 0.0, 1.100000023841858]], [[0.0, 0.0, 0.0], [0.0, 2.0, 0.9999998211860657], [0.0, -14.699918746948242, 0.7839144468307495], [0.0, 0.0, 1.100000023841858]], [[0.0, 0.0, 0.0], [0.0, 2.0, 0.9999998211860657], [0.0, -14.799917221069336, 0.7824444770812988], [0.0, 0.0, 1.100000023841858]], [[0.0, 0.0, 0.0], [0.0, 2.0, 0.9999998211860657], [0.0, -14.89991569519043, 0.7809745073318481], [0.0, 0.0, 1.100000023841858]], [[0.0, 0.0, 0.0], [0.0, 2.0, 0.9999998211860657], [0.0, -14.999914169311523, 0.7795045375823975], [0.0, 0.0, 1.100000023841858]], [[0.0, 0.0, 0.0], [0.0, 2.0, 0.9999998211860657], [0.0, -15.099912643432617, 0.7780345678329468], [0.0, 0.0, 1.100000023841858]], [[0.0, 0.0, 0.0], [0.0, 2.0, 0.9999998211860657], [0.0, -15.199911117553711, 0.7765645980834961], [0.0, 0.0, 1.100000023841858]], [[0.0, 0.0, 0.0], [0.0, 2.0, 0.9999998211860657], [0.0, -15.299909591674805, 0.7750946283340454], [0.0, 0.0, 1.100000023841858]], [[0.0, 0.0, 0.0], [0.0, 2.0, 0.9999998211860657], [0.0, -15.399908065795898, 0.7736246585845947], [0.0, 0.0, 1.100000023841858]], [[0.0, 0.0, 0.0], [0.0, 2.0, 0.9999998211860657], [0.0, -15.499906539916992, 0.772154688835144], [0.0, 0.0, 1.100000023841858]], [[0.0, 0.0, 0.0], [0.0, 2.0, 0.9999998211860657], [0.0, -15.599905014038086, 0.7706847190856934], [0.0, 0.0, 1.100000023841858]], [[0.0, 0.0, 0.0], [0.0, 2.0, 0.9999998211860657], [0.0, -15.69990348815918, 0.7692147493362427], [0.0, 0.0, 1.100000023841858]], [[0.0, 0.0, 0.0], [0.0, 2.0, 0.9999998211860657], [0.0, -15.799901962280273, 0.767744779586792], [0.0, 0.0, 1.100000023841858]], [[0.0, 0.0, 0.0], [0.0, 2.0, 0.9999998211860657], [0.0, -15.899900436401367, 0.7662748098373413], [0.0, 0.0, 1.100000023841858]], [[0.0, 0.0, 0.0], [0.0, 2.0, 0.9999998211860657], [0.0, -15.999898910522461, 0.7648048400878906], [0.0, 0.0, 1.100000023841858]], [[0.0, 0.0, 0.0], [0.0, 2.0, 0.9999998211860657], [0.0, -16.099897384643555, 0.7633348703384399], [0.0, 0.0, 1.100000023841858]], [[0.0, 0.0, 0.0], [0.0, 2.0, 0.9999998211860657], [0.0, -16.19989585876465, 0.7618649005889893], [0.0, 0.0, 1.100000023841858]], [[0.0, 0.0, 0.0], [0.0, 2.0, 0.9999998211860657], [0.0, -16.299894332885742, 0.7603949308395386], [0.0, 0.0, 1.100000023841858]], [[0.0, 0.0, 0.0], [0.0, 2.0, 0.9999998211860657], [0.0, -16.399892807006836, 0.7589249610900879], [0.0, 0.0, 1.100000023841858]], [[0.0, 0.0, 0.0], [0.0, 2.0, 0.9999998211860657], [0.0, -16.49989128112793, 0.7574549913406372], [0.0, 0.0, 1.100000023841858]], [[0.0, 0.0, 0.0], [0.0, 2.0, 0.9999998211860657], [0.0, -16.599889755249023, 0.7559850215911865], [0.0, 0.0, 1.100000023841858]], [[0.0, 0.0, 0.0], [0.0, 2.0, 0.9999998211860657], [0.0, -16.699888229370117, 0.7545150518417358], [0.0, 0.0, 1.100000023841858]], [[0.0, 0.0, 0.0], [0.0, 2.0, 0.9999998211860657], [0.0, -16.79988670349121, 0.7530450820922852], [0.0, 0.0, 1.100000023841858]], [[0.0, 0.0, 0.0], [0.0, 2.0, 0.9999998211860657], [0.0, -16.899885177612305, 0.7515751123428345], [0.0, 0.0, 1.100000023841858]], [[0.0, 0.0, 0.0], [0.0, 2.0, 0.9999998211860657], [0.0, -16.9998836517334, 0.7501051425933838], [0.0, 0.0, 1.100000023841858]], [[0.0, 0.0, 0.0], [0.0, 2.0, 0.9999998211860657], [0.0, -17.099882125854492, 0.7486351728439331], [0.0, 0.0, 1.100000023841858]], [[0.0, 0.0, 0.0], [0.0, 2.0, 0.9999998211860657], [0.0, -17.199880599975586, 0.7471652030944824], [0.0, 0.0, 1.100000023841858]], [[0.0, 0.0, 0.0], [0.0, 2.0, 0.9999998211860657], [0.0, -17.29987907409668, 0.7456952333450317], [0.0, 0.0, 1.100000023841858]], [[0.0, 0.0, 0.0], [0.0, 2.0, 0.9999998211860657], [0.0, -17.399877548217773, 0.744225263595581], [0.0, 0.0, 1.100000023841858]], [[0.0, 0.0, 0.0], [0.0, 2.0, 0.9999998211860657], [0.0, -17.499876022338867, 0.7427552938461304], [0.0, 0.0, 1.100000023841858]], [[0.0, 0.0, 0.0], [0.0, 2.0, 0.9999998211860657], [0.0, -17.59987449645996, 0.7412853240966797], [0.0, 0.0, 1.100000023841858]], [[0.0, 0.0, 0.0], [0.0, 2.0, 0.9999998211860657], [0.0, -17.699872970581055, 0.739815354347229], [0.0, 0.0, 1.100000023841858]], [[0.0, 0.0, 0.0], [0.0, 2.0, 0.9999998211860657], [0.0, -17.79987144470215, 0.7383453845977783], [0.0, 0.0, 1.100000023841858]], [[0.0, 0.0, 0.0], [0.0, 2.0, 0.9999998211860657], [0.0, -17.899869918823242, 0.7368754148483276], [0.0, 0.0, 1.100000023841858]], [[0.0, 0.0, 0.0], [0.0, 2.0, 0.9999998211860657], [0.0, -17.999868392944336, 0.735405445098877], [0.0, 0.0, 1.100000023841858]], [[0.0, 0.0, 0.0], [0.0, 2.0, 0.9999998211860657], [0.0, -18.09986686706543, 0.7339354753494263], [0.0, 0.0, 1.100000023841858]], [[0.0, 0.0, 0.0], [0.0, 2.0, 0.9999998211860657], [0.0, -18.199865341186523, 0.7324655055999756], [0.0, 0.0, 1.100000023841858]], [[0.0, 0.0, 0.0], [0.0, 2.0, 0.9999998211860657], [0.0, -18.299863815307617, 0.7309955358505249], [0.0, 0.0, 1.100000023841858]], [[0.0, 0.0, 0.0], [0.0, 2.0, 0.9999998211860657], [0.0, -18.39986228942871, 0.7295255661010742], [0.0, 0.0, 1.100000023841858]], [[0.0, 0.0, 0.0], [0.0, 2.0, 0.9999998211860657], [0.0, -18.499860763549805, 0.7280555963516235], [0.0, 0.0, 1.100000023841858]], [[0.0, 0.0, 0.0], [0.0, 2.0, 0.9999998211860657], [0.0, -18.5998592376709, 0.7265856266021729], [0.0, 0.0, 1.100000023841858]], [[0.0, 0.0, 0.0], [0.0, 2.0, 0.9999998211860657], [0.0, -18.699857711791992, 0.7251156568527222], [0.0, 0.0, 1.100000023841858]], [[0.0, 0.0, 0.0], [0.0, 2.0, 0.9999998211860657], [0.0, -18.799856185913086, 0.7236456871032715], [0.0, 0.0, 1.100000023841858]], [[0.0, 0.0, 0.0], [0.0, 2.0, 0.9999998211860657], [0.0, -18.89985466003418, 0.7221757173538208], [0.0, 0.0, 1.100000023841858]], [[0.0, 0.0, 0.0], [0.0, 2.0, 0.9999998211860657], [0.0, -18.999853134155273, 0.7207057476043701], [0.0, 0.0, 1.100000023841858]], [[0.0, 0.0, 0.0], [0.0, 2.0, 0.9999998211860657], [0.0, -19.099851608276367, 0.7192357778549194], [0.0, 0.0, 1.100000023841858]], [[0.0, 0.0, 0.0], [0.0, 2.0, 0.9999998211860657], [0.0, -19.19985008239746, 0.7177658081054688], [0.0, 0.0, 1.100000023841858]], [[0.0, 0.0, 0.0], [0.0, 2.0, 0.9999998211860657], [0.0, -19.299848556518555, 0.7162958383560181], [0.0, 0.0, 1.100000023841858]], [[0.0, 0.0, 0.0], [0.0, 2.0, 0.9999998211860657], [0.0, -19.39984703063965, 0.7148258686065674], [0.0, 0.0, 1.100000023841858]], [[0.0, 0.0, 0.0], [0.0, 2.0, 0.9999998211860657], [0.0, -19.499845504760742, 0.7133558988571167], [0.0, 0.0, 1.100000023841858]], [[0.0, 0.0, 0.0], [0.0, 2.0, 0.9999998211860657], [0.0, -19.599843978881836, 0.711885929107666], [0.0, 0.0, 1.100000023841858]], [[0.0, 0.0, 0.0], [0.0, 2.0, 0.9999998211860657], [0.0, -19.69984245300293, 0.7104159593582153], [0.0, 0.0, 1.100000023841858]], [[0.0, 0.0, 0.0], [0.0, 2.0, 0.9999998211860657], [0.0, -19.799840927124023, 0.7089459896087646], [0.0, 0.0, 1.100000023841858]], [[0.0, 0.0, 0.0], [0.0, 2.0, 0.9999998211860657], [0.0, -19.899839401245117, 0.707476019859314], [0.0, 0.0, 1.100000023841858]], [[0.0, 0.0, 0.0], [0.0, 2.0, 0.9999998211860657], [0.0, -19.99983787536621, 0.7060060501098633], [0.0, 0.0, 1.100000023841858]], [[0.0, 0.0, 0.0], [0.0, 2.0, 0.9999998211860657], [0.0, -20.099836349487305, 0.7045360803604126], [0.0, 0.0, 1.100000023841858]], [[0.0, 0.0, 0.0], [0.0, 2.0, 0.9999998211860657], [0.0, -20.1998348236084, 0.7030661106109619], [0.0, 0.0, 1.100000023841858]], [[0.0, 0.0, 0.0], [0.0, 2.0, 0.9999998211860657], [0.0, -20.299833297729492, 0.7015961408615112], [0.0, 0.0, 1.100000023841858]], [[0.0, 0.0, 0.0], [0.0, 2.0, 0.9999998211860657], [0.0, -20.399831771850586, 0.7001261711120605], [0.0, 0.0, 1.100000023841858]], [[0.0, 0.0, 0.0], [0.0, 2.0, 0.9999998211860657], [0.0, -20.49983024597168, 0.6986562013626099], [0.0, 0.0, 1.100000023841858]], [[0.0, 0.0, 0.0], [0.0, 2.0, 0.9999998211860657], [0.0, -20.599828720092773, 0.6971862316131592], [0.0, 0.0, 1.100000023841858]], [[0.0, 0.0, 0.0], [0.0, 2.0, 0.9999998211860657], [0.0, -20.699827194213867, 0.6957162618637085], [0.0, 0.0, 1.100000023841858]], [[0.0, 0.0, 0.0], [0.0, 2.0, 0.9999998211860657], [0.0, -20.79982566833496, 0.6942462921142578], [0.0, 0.0, 1.100000023841858]], [[0.0, 0.0, 0.0], [0.0, 2.0, 0.9999998211860657], [0.0, -20.899824142456055, 0.6927763223648071], [0.0, 0.0, 1.100000023841858]], [[0.0, 0.0, 0.0], [0.0, 2.0, 0.9999998211860657], [0.0, -20.99982261657715, 0.6913063526153564], [0.0, 0.0, 1.100000023841858]], [[0.0, 0.0, 0.0], [0.0, 2.0, 0.9999998211860657], [0.0, -21.099821090698242, 0.6898363828659058], [0.0, 0.0, 1.100000023841858]], [[0.0, 0.0, 0.0], [0.0, 2.0, 0.9999998211860657], [0.0, -21.199819564819336, 0.6883664131164551], [0.0, 0.0, 1.100000023841858]], [[0.0, 0.0, 0.0], [0.0, 2.0, 0.9999998211860657], [0.0, -21.29981803894043, 0.6868964433670044], [0.0, 0.0, 1.100000023841858]], [[0.0, 0.0, 0.0], [0.0, 2.0, 0.9999998211860657], [0.0, -21.399816513061523, 0.6854264736175537], [0.0, 0.0, 1.100000023841858]], [[0.0, 0.0, 0.0], [0.0, 2.0, 0.9999998211860657], [0.0, -21.499814987182617, 0.683956503868103], [0.0, 0.0, 1.100000023841858]], [[0.0, 0.0, 0.0], [0.0, 2.0, 0.9999998211860657], [0.0, -21.59981346130371, 0.6824865341186523], [0.0, 0.0, 1.100000023841858]], [[0.0, 0.0, 0.0], [0.0, 2.0, 0.9999998211860657], [0.0, -21.699811935424805, 0.6810165643692017], [0.0, 0.0, 1.100000023841858]], [[0.0, 0.0, 0.0], [0.0, 2.0, 0.9999998211860657], [0.0, -21.7998104095459, 0.679546594619751], [0.0, 0.0, 1.100000023841858]], [[0.0, 0.0, 0.0], [0.0, 2.0, 0.9999998211860657], [0.0, -21.899808883666992, 0.6780766248703003], [0.0, 0.0, 1.100000023841858]], [[0.0, 0.0, 0.0], [0.0, 2.0, 0.9999998211860657], [0.0, -21.999807357788086, 0.6766066551208496], [0.0, 0.0, 1.100000023841858]], [[0.0, 0.0, 0.0], [0.0, 2.0, 0.9999998211860657], [0.0, -22.09980583190918, 0.6751366853713989], [0.0, 0.0, 1.100000023841858]], [[0.0, 0.0, 0.0], [0.0, 2.0, 0.9999998211860657], [0.0, -22.199804306030273, 0.6736667156219482], [0.0, 0.0, 1.100000023841858]], [[0.0, 0.0, 0.0], [0.0, 2.0, 0.9999998211860657], [0.0, -22.299802780151367, 0.6721967458724976], [0.0, 0.0, 1.100000023841858]], [[0.0, 0.0, 0.0], [0.0, 2.0, 0.9999998211860657], [0.0, -22.39980125427246, 0.6707267761230469], [0.0, 0.0, 1.100000023841858]], [[0.0, 0.0, 0.0], [0.0, 2.0, 0.9999998211860657], [0.0, -22.499799728393555, 0.6692568063735962], [0.0, 0.0, 1.100000023841858]], [[0.0, 0.0, 0.0], [0.0, 2.0, 0.9999998211860657], [0.0, -22.59979820251465, 0.6677868366241455], [0.0, 0.0, 1.100000023841858]], [[0.0, 0.0, 0.0], [0.0, 2.0, 0.9999998211860657], [0.0, -22.699796676635742, 0.6663168668746948], [0.0, 0.0, 1.100000023841858]], [[0.0, 0.0, 0.0], [0.0, 2.0, 0.9999998211860657], [0.0, -22.799795150756836, 0.6648468971252441], [0.0, 0.0, 1.100000023841858]], [[0.0, 0.0, 0.0], [0.0, 2.0, 0.9999998211860657], [0.0, -22.89979362487793, 0.6633769273757935], [0.0, 0.0, 1.100000023841858]], [[0.0, 0.0, 0.0], [0.0, 2.0, 0.9999998211860657], [0.0, -22.999792098999023, 0.6619069576263428], [0.0, 0.0, 1.100000023841858]], [[0.0, 0.0, 0.0], [0.0, 2.0, 0.9999998211860657], [0.0, -23.099790573120117, 0.6604369878768921], [0.0, 0.0, 1.100000023841858]], [[0.0, 0.0, 0.0], [0.0, 2.0, 0.9999998211860657], [0.0, -23.19978904724121, 0.6589670181274414], [0.0, 0.0, 1.100000023841858]], [[0.0, 0.0, 0.0], [0.0, 2.0, 0.9999998211860657], [0.0, -23.299787521362305, 0.6574970483779907], [0.0, 0.0, 1.100000023841858]], [[0.0, 0.0, 0.0], [0.0, 2.0, 0.9999998211860657], [0.0, -23.3997859954834, 0.65602707862854], [0.0, 0.0, 1.100000023841858]], [[0.0, 0.0, 0.0], [0.0, 2.0, 0.9999998211860657], [0.0, -23.499784469604492, 0.6545571088790894], [0.0, 0.0, 1.100000023841858]], [[0.0, 0.0, 0.0], [0.0, 2.0, 0.9999998211860657], [0.0, -23.599782943725586, 0.6530871391296387], [0.0, 0.0, 1.100000023841858]], [[0.0, 0.0, 0.0], [0.0, 2.0, 0.9999998211860657], [0.0, -23.69978141784668, 0.651617169380188], [0.0, 0.0, 1.100000023841858]], [[0.0, 0.0, 0.0], [0.0, 2.0, 0.9999998211860657], [0.0, -23.799779891967773, 0.6501471996307373], [0.0, 0.0, 1.100000023841858]], [[0.0, 0.0, 0.0], [0.0, 2.0, 0.9999998211860657], [0.0, -23.899778366088867, 0.6486772298812866], [0.0, 0.0, 1.100000023841858]], [[0.0, 0.0, 0.0], [0.0, 2.0, 0.9999998211860657], [0.0, -23.99977684020996, 0.6472072601318359], [0.0, 0.0, 1.100000023841858]], [[0.0, 0.0, 0.0], [0.0, 2.0, 0.9999998211860657], [0.0, -24.099775314331055, 0.6457372903823853], [0.0, 0.0, 1.100000023841858]], [[0.0, 0.0, 0.0], [0.0, 2.0, 0.9999998211860657], [0.0, -24.19977378845215, 0.6442673206329346], [0.0, 0.0, 1.100000023841858]], [[0.0, 0.0, 0.0], [0.0, 2.0, 0.9999998211860657], [0.0, -24.299772262573242, 0.6427973508834839], [0.0, 0.0, 1.100000023841858]], [[0.0, 0.0, 0.0], [0.0, 2.0, 0.9999998211860657], [0.0, -24.399770736694336, 0.6413273811340332], [0.0, 0.0, 1.100000023841858]], [[0.0, 0.0, 0.0], [0.0, 2.0, 0.9999998211860657], [0.0, -24.49976921081543, 0.6398574113845825], [0.0, 0.0, 1.100000023841858]], [[0.0, 0.0, 0.0], [0.0, 2.0, 0.9999998211860657], [0.0, -24.599767684936523, 0.6383874416351318], [0.0, 0.0, 1.100000023841858]], [[0.0, 0.0, 0.0], [0.0, 2.0, 0.9999998211860657], [0.0, -24.699766159057617, 0.6369174718856812], [0.0, 0.0, 1.100000023841858]], [[0.0, 0.0, 0.0], [0.0, 2.0, 0.9999998211860657], [0.0, -24.79976463317871, 0.6354475021362305], [0.0, 0.0, 1.100000023841858]], [[0.0, 0.0, 0.0], [0.0, 2.0, 0.9999998211860657], [0.0, -24.899763107299805, 0.6339775323867798], [0.0, 0.0, 1.100000023841858]], [[0.0, 0.0, 0.0], [0.0, 2.0, 0.9999998211860657], [0.0, -24.9997615814209, 0.6325075626373291], [0.0, 0.0, 1.100000023841858]], [[0.0, 0.0, 0.0], [0.0, 2.0, 0.9999998211860657], [0.0, -25.099760055541992, 0.6310375928878784], [0.0, 0.0, 1.100000023841858]], [[0.0, 0.0, 0.0], [0.0, 2.0, 0.9999998211860657], [0.0, -25.199758529663086, 0.6295676231384277], [0.0, 0.0, 1.100000023841858]], [[0.0, 0.0, 0.0], [0.0, 2.0, 0.9999998211860657], [0.0, -25.29975700378418, 0.628097653388977], [0.0, 0.0, 1.100000023841858]], [[0.0, 0.0, 0.0], [0.0, 2.0, 0.9999998211860657], [0.0, -25.399755477905273, 0.6266276836395264], [0.0, 0.0, 1.100000023841858]], [[0.0, 0.0, 0.0], [0.0, 2.0, 0.9999998211860657], [0.0, -25.499753952026367, 0.6251577138900757], [0.0, 0.0, 1.100000023841858]], [[0.0, 0.0, 0.0], [0.0, 2.0, 0.9999998211860657], [0.0, -25.59975242614746, 0.623687744140625], [0.0, 0.0, 1.100000023841858]], [[0.0, 0.0, 0.0], [0.0, 2.0, 0.9999998211860657], [0.0, -25.699750900268555, 0.6222177743911743], [0.0, 0.0, 1.100000023841858]], [[0.0, 0.0, 0.0], [0.0, 2.0, 0.9999998211860657], [0.0, -25.79974937438965, 0.6207478046417236], [0.0, 0.0, 1.100000023841858]], [[0.0, 0.0, 0.0], [0.0, 2.0, 0.9999998211860657], [0.0, -25.899747848510742, 0.619277834892273], [0.0, 0.0, 1.100000023841858]], [[0.0, 0.0, 0.0], [0.0, 2.0, 0.9999998211860657], [0.0, -25.999746322631836, 0.6178078651428223], [0.0, 0.0, 1.100000023841858]], [[0.0, 0.0, 0.0], [0.0, 2.0, 0.9999998211860657], [0.0, -26.09974479675293, 0.6163378953933716], [0.0, 0.0, 1.100000023841858]], [[0.0, 0.0, 0.0], [0.0, 2.0, 0.9999998211860657], [0.0, -26.199743270874023, 0.6148679256439209], [0.0, 0.0, 1.100000023841858]], [[0.0, 0.0, 0.0], [0.0, 2.0, 0.9999998211860657], [0.0, -26.299741744995117, 0.6133979558944702], [0.0, 0.0, 1.100000023841858]], [[0.0, 0.0, 0.0], [0.0, 2.0, 0.9999998211860657], [0.0, -26.39974021911621, 0.6119279861450195], [0.0, 0.0, 1.100000023841858]], [[0.0, 0.0, 0.0], [0.0, 2.0, 0.9999998211860657], [0.0, -26.499738693237305, 0.6104580163955688], [0.0, 0.0, 1.100000023841858]], [[0.0, 0.0, 0.0], [0.0, 2.0, 0.9999998211860657], [0.0, -26.5997371673584, 0.6089880466461182], [0.0, 0.0, 1.100000023841858]], [[0.0, 0.0, 0.0], [0.0, 2.0, 0.9999998211860657], [0.0, -26.699735641479492, 0.6075180768966675], [0.0, 0.0, 1.100000023841858]], [[0.0, 0.0, 0.0], [0.0, 2.0, 0.9999998211860657], [0.0, -26.799734115600586, 0.6060481071472168], [0.0, 0.0, 1.100000023841858]], [[0.0, 0.0, 0.0], [0.0, 2.0, 0.9999998211860657], [0.0, -26.89973258972168, 0.6045781373977661], [0.0, 0.0, 1.100000023841858]], [[0.0, 0.0, 0.0], [0.0, 2.0, 0.9999998211860657], [0.0, -26.999731063842773, 0.6031081676483154], [0.0, 0.0, 1.100000023841858]], [[0.0, 0.0, 0.0], [0.0, 2.0, 0.9999998211860657], [0.0, -27.099729537963867, 0.6016381978988647], [0.0, 0.0, 1.100000023841858]], [[0.0, 0.0, 0.0], [0.0, 2.0, 0.9999998211860657], [0.0, -27.19972801208496, 0.6001682281494141], [0.0, 0.0, 1.100000023841858]], [[0.0, 0.0, 0.0], [0.0, 2.0, 0.9999998211860657], [0.0, -27.299726486206055, 0.5986982583999634], [0.0, 0.0, 1.100000023841858]], [[0.0, 0.0, 0.0], [0.0, 2.0, 0.9999998211860657], [0.0, -27.39972496032715, 0.5972282886505127], [0.0, 0.0, 1.100000023841858]], [[0.0, 0.0, 0.0], [0.0, 2.0, 0.9999998211860657], [0.0, -27.499723434448242, 0.595758318901062], [0.0, 0.0, 1.100000023841858]], [[0.0, 0.0, 0.0], [0.0, 2.0, 0.9999998211860657], [0.0, -27.599721908569336, 0.5942883491516113], [0.0, 0.0, 1.100000023841858]], [[0.0, 0.0, 0.0], [0.0, 2.0, 0.9999998211860657], [0.0, -27.69972038269043, 0.5928183794021606], [0.0, 0.0, 1.100000023841858]], [[0.0, 0.0, 0.0], [0.0, 2.0, 0.9999998211860657], [0.0, -27.799718856811523, 0.59134840965271], [0.0, 0.0, 1.100000023841858]], [[0.0, 0.0, 0.0], [0.0, 2.0, 0.9999998211860657], [0.0, -27.899717330932617, 0.5898784399032593], [0.0, 0.0, 1.100000023841858]], [[0.0, 0.0, 0.0], [0.0, 2.0, 0.9999998211860657], [0.0, -27.99971580505371, 0.5884084701538086], [0.0, 0.0, 1.100000023841858]], [[0.0, 0.0, 0.0], [0.0, 2.0, 0.9999998211860657], [0.0, -28.099714279174805, 0.5869385004043579], [0.0, 0.0, 1.100000023841858]], [[0.0, 0.0, 0.0], [0.0, 2.0, 0.9999998211860657], [0.0, -28.1997127532959, 0.5854685306549072], [0.0, 0.0, 1.100000023841858]], [[0.0, 0.0, 0.0], [0.0, 2.0, 0.9999998211860657], [0.0, -28.299711227416992, 0.5839985609054565], [0.0, 0.0, 1.100000023841858]], [[0.0, 0.0, 0.0], [0.0, 2.0, 0.9999998211860657], [0.0, -28.399709701538086, 0.5825285911560059], [0.0, 0.0, 1.100000023841858]], [[0.0, 0.0, 0.0], [0.0, 2.0, 0.9999998211860657], [0.0, -28.49970817565918, 0.5810586214065552], [0.0, 0.0, 1.100000023841858]], [[0.0, 0.0, 0.0], [0.0, 2.0, 0.9999998211860657], [0.0, -28.599706649780273, 0.5795886516571045], [0.0, 0.0, 1.100000023841858]], [[0.0, 0.0, 0.0], [0.0, 2.0, 0.9999998211860657], [0.0, -28.699705123901367, 0.5781186819076538], [0.0, 0.0, 1.100000023841858]], [[0.0, 0.0, 0.0], [0.0, 2.0, 0.9999998211860657], [0.0, -28.79970359802246, 0.5766487121582031], [0.0, 0.0, 1.100000023841858]], [[0.0, 0.0, 0.0], [0.0, 2.0, 0.9999998211860657], [0.0, -28.899702072143555, 0.5751787424087524], [0.0, 0.0, 1.100000023841858]], [[0.0, 0.0, 0.0], [0.0, 2.0, 0.9999998211860657], [0.0, -28.99970054626465, 0.5737087726593018], [0.0, 0.0, 1.100000023841858]], [[0.0, 0.0, 0.0], [0.0, 2.0, 0.9999998211860657], [0.0, -29.099699020385742, 0.5722388029098511], [0.0, 0.0, 1.100000023841858]], [[0.0, 0.0, 0.0], [0.0, 2.0, 0.9999998211860657], [0.0, -29.199697494506836, 0.5707688331604004], [0.0, 0.0, 1.100000023841858]], [[0.0, 0.0, 0.0], [0.0, 2.0, 0.9999998211860657], [0.0, -29.29969596862793, 0.5692988634109497], [0.0, 0.0, 1.100000023841858]], [[0.0, 0.0, 0.0], [0.0, 2.0, 0.9999998211860657], [0.0, -29.399694442749023, 0.567828893661499], [0.0, 0.0, 1.100000023841858]], [[0.0, 0.0, 0.0], [0.0, 2.0, 0.9999998211860657], [0.0, -29.499692916870117, 0.5663589239120483], [0.0, 0.0, 1.100000023841858]], [[0.0, 0.0, 0.0], [0.0, 2.0, 0.9999998211860657], [0.0, -29.59969139099121, 0.5648889541625977], [0.0, 0.0, 1.100000023841858]], [[0.0, 0.0, 0.0], [0.0, 2.0, 0.9999998211860657], [0.0, -29.699689865112305, 0.563418984413147], [0.0, 0.0, 1.100000023841858]], [[0.0, 0.0, 0.0], [0.0, 2.0, 0.9999998211860657], [0.0, -29.7996883392334, 0.5619490146636963], [0.0, 0.0, 1.100000023841858]], [[0.0, 0.0, 0.0], [0.0, 2.0, 0.9999998211860657], [0.0, -29.899686813354492, 0.5604790449142456], [0.0, 0.0, 1.100000023841858]], [[0.0, 0.0, 0.0], [0.0, 2.0, 0.9999998211860657], [0.0, -29.999685287475586, 0.5590090751647949], [0.0, 0.0, 1.100000023841858]], [[0.0, 0.0, 0.0], [0.0, 2.0, 0.9999998211860657], [0.0, -30.09968376159668, 0.5575391054153442], [0.0, 0.0, 1.100000023841858]], [[0.0, 0.0, 0.0], [0.0, 2.0, 0.9999998211860657], [0.0, -30.199682235717773, 0.5560691356658936], [0.0, 0.0, 1.100000023841858]], [[0.0, 0.0, 0.0], [0.0, 2.0, 0.9999998211860657], [0.0, -30.299680709838867, 0.5545991659164429], [0.0, 0.0, 1.100000023841858]], [[0.0, 0.0, 0.0], [0.0, 2.0, 0.9999998211860657], [0.0, -30.39967918395996, 0.5531291961669922], [0.0, 0.0, 1.100000023841858]], [[0.0, 0.0, 0.0], [0.0, 2.0, 0.9999998211860657], [0.0, -30.499677658081055, 0.5516592264175415], [0.0, 0.0, 1.100000023841858]], [[0.0, 0.0, 0.0], [0.0, 2.0, 0.9999998211860657], [0.0, -30.59967613220215, 0.5501892566680908], [0.0, 0.0, 1.100000023841858]], [[0.0, 0.0, 0.0], [0.0, 2.0, 0.9999998211860657], [0.0, -30.699674606323242, 0.5487192869186401], [0.0, 0.0, 1.100000023841858]], [[0.0, 0.0, 0.0], [0.0, 2.0, 0.9999998211860657], [0.0, -30.799673080444336, 0.5472493171691895], [0.0, 0.0, 1.100000023841858]], [[0.0, 0.0, 0.0], [0.0, 2.0, 0.9999998211860657], [0.0, -30.89967155456543, 0.5457793474197388], [0.0, 0.0, 1.100000023841858]], [[0.0, 0.0, 0.0], [0.0, 2.0, 0.9999998211860657], [0.0, -30.999670028686523, 0.5443093776702881], [0.0, 0.0, 1.100000023841858]], [[0.0, 0.0, 0.0], [0.0, 2.0, 0.9999998211860657], [0.0, -31.099668502807617, 0.5428394079208374], [0.0, 0.0, 1.100000023841858]], [[0.0, 0.0, 0.0], [0.0, 2.0, 0.9999998211860657], [0.0, -31.19966697692871, 0.5413694381713867], [0.0, 0.0, 1.100000023841858]], [[0.0, 0.0, 0.0], [0.0, 2.0, 0.9999998211860657], [0.0, -31.299665451049805, 0.539899468421936], [0.0, 0.0, 1.100000023841858]], [[0.0, 0.0, 0.0], [0.0, 2.0, 0.9999998211860657], [0.0, -31.3996639251709, 0.5384294986724854], [0.0, 0.0, 1.100000023841858]], [[0.0, 0.0, 0.0], [0.0, 2.0, 0.9999998211860657], [0.0, -31.499662399291992, 0.5369595289230347], [0.0, 0.0, 1.100000023841858]], [[0.0, 0.0, 0.0], [0.0, 2.0, 0.9999998211860657], [0.0, -31.599660873413086, 0.535489559173584], [0.0, 0.0, 1.100000023841858]], [[0.0, 0.0, 0.0], [0.0, 2.0, 0.9999998211860657], [0.0, -31.69965934753418, 0.5340195894241333], [0.0, 0.0, 1.100000023841858]], [[0.0, 0.0, 0.0], [0.0, 2.0, 0.9999998211860657], [0.0, -31.799657821655273, 0.5325496196746826], [0.0, 0.0, 1.100000023841858]], [[0.0, 0.0, 0.0], [0.0, 2.0, 0.9999998211860657], [0.0, -31.899656295776367, 0.5310796499252319], [0.0, 0.0, 1.100000023841858]], [[0.0, 0.0, 0.0], [0.0, 2.0, 0.9999998211860657], [0.0, -31.99965476989746, 0.5296096801757812], [0.0, 0.0, 1.100000023841858]], [[0.0, 0.0, 0.0], [0.0, 2.0, 0.9999998211860657], [0.0, -32.09965896606445, 0.5281397104263306], [0.0, 0.0, 1.100000023841858]], [[0.0, 0.0, 0.0], [0.0, 2.0, 0.9999998211860657], [0.0, -32.19966506958008, 0.5266697406768799], [0.0, 0.0, 1.100000023841858]], [[0.0, 0.0, 0.0], [0.0, 2.0, 0.9999998211860657], [0.0, -32.2996711730957, 0.5251997709274292], [0.0, 0.0, 1.100000023841858]], [[0.0, 0.0, 0.0], [0.0, 2.0, 0.9999998211860657], [0.0, -32.39967727661133, 0.5237298011779785], [0.0, 0.0, 1.100000023841858]], [[0.0, 0.0, 0.0], [0.0, 2.0, 0.9999998211860657], [0.0, -32.49968338012695, 0.5222598314285278], [0.0, 0.0, 1.100000023841858]], [[0.0, 0.0, 0.0], [0.0, 2.0, 0.9999998211860657], [0.0, -32.59968948364258, 0.5207898616790771], [0.0, 0.0, 1.100000023841858]], [[0.0, 0.0, 0.0], [0.0, 2.0, 0.9999998211860657], [0.0, -32.6996955871582, 0.5193198919296265], [0.0, 0.0, 1.100000023841858]], [[0.0, 0.0, 0.0], [0.0, 2.0, 0.9999998211860657], [0.0, -32.79970169067383, 0.5178499221801758], [0.0, 0.0, 1.100000023841858]], [[0.0, 0.0, 0.0], [0.0, 2.0, 0.9999998211860657], [0.0, -32.89970779418945, 0.5163799524307251], [0.0, 0.0, 1.100000023841858]], [[0.0, 0.0, 0.0], [0.0, 2.0, 0.9999998211860657], [0.0, -32.99971389770508, 0.5149099826812744], [0.0, 0.0, 1.100000023841858]], [[0.0, 0.0, 0.0], [0.0, 2.0, 0.9999998211860657], [0.0, -33.0997200012207, 0.5134400129318237], [0.0, 0.0, 1.100000023841858]], [[0.0, 0.0, 0.0], [0.0, 2.0, 0.9999998211860657], [0.0, -33.19972610473633, 0.511970043182373], [0.0, 0.0, 1.100000023841858]], [[0.0, 0.0, 0.0], [0.0, 2.0, 0.9999998211860657], [0.0, -33.29973220825195, 0.5105000734329224], [0.0, 0.0, 1.100000023841858]], [[0.0, 0.0, 0.0], [0.0, 2.0, 0.9999998211860657], [0.0, -33.39973831176758, 0.5090301036834717], [0.0, 0.0, 1.100000023841858]], [[0.0, 0.0, 0.0], [0.0, 2.0, 0.9999998211860657], [0.0, -33.4997444152832, 0.507560133934021], [0.0, 0.0, 1.100000023841858]], [[0.0, 0.0, 0.0], [0.0, 2.0, 0.9999998211860657], [0.0, -33.59975051879883, 0.5060901641845703], [0.0, 0.0, 1.100000023841858]], [[0.0, 0.0, 0.0], [0.0, 2.0, 0.9999998211860657], [0.0, -33.69975662231445, 0.5046201944351196], [0.0, 0.0, 1.100000023841858]], [[0.0, 0.0, 0.0], [0.0, 2.0, 0.9999998211860657], [0.0, -33.79976272583008, 0.503150224685669], [0.0, 0.0, 1.100000023841858]], [[0.0, 0.0, 0.0], [0.0, 2.0, 0.9999998211860657], [0.0, -33.8997688293457, 0.5016802549362183], [0.0, 0.0, 1.100000023841858]], [[0.0, 0.0, 0.0], [0.0, 2.0, 0.9999998211860657], [0.0, -33.99977493286133, 0.5002102851867676], [0.0, 0.0, 1.100000023841858]], [[0.0, 0.0, 0.0], [0.0, 2.0, 0.9999998211860657], [0.0, -34.09978103637695, 0.4987402558326721], [0.0, 0.0, 1.100000023841858]], [[0.0, 0.0, 0.0], [0.0, 2.0, 0.9999998211860657], [0.0, -34.19978713989258, 0.49727022647857666], [0.0, 0.0, 1.100000023841858]], [[0.0, 0.0, 0.0], [0.0, 2.0, 0.9999998211860657], [0.0, -34.2997932434082, 0.4958001971244812], [0.0, 0.0, 1.100000023841858]], [[0.0, 0.0, 0.0], [0.0, 2.0, 0.9999998211860657], [0.0, -34.39979934692383, 0.49433016777038574], [0.0, 0.0, 1.100000023841858]], [[0.0, 0.0, 0.0], [0.0, 2.0, 0.9999998211860657], [0.0, -34.49980545043945, 0.4928601384162903], [0.0, 0.0, 1.100000023841858]], [[0.0, 0.0, 0.0], [0.0, 2.0, 0.9999998211860657], [0.0, -34.59981155395508, 0.4913901090621948], [0.0, 0.0, 1.100000023841858]], [[0.0, 0.0, 0.0], [0.0, 2.0, 0.9999998211860657], [0.0, -34.6998176574707, 0.48992007970809937], [0.0, 0.0, 1.100000023841858]], [[0.0, 0.0, 0.0], [0.0, 2.0, 0.9999998211860657], [0.0, -34.79982376098633, 0.4884500503540039], [0.0, 0.0, 1.100000023841858]], [[0.0, 0.0, 0.0], [0.0, 2.0, 0.9999998211860657], [0.0, -34.89982986450195, 0.48698002099990845], [0.0, 0.0, 1.100000023841858]], [[0.0, 0.0, 0.0], [0.0, 2.0, 0.9999998211860657], [0.0, -34.99983596801758, 0.485509991645813], [0.0, 0.0, 1.100000023841858]], [[0.0, 0.0, 0.0], [0.0, 2.0, 0.9999998211860657], [0.0, -35.0998420715332, 0.48403996229171753], [0.0, 0.0, 1.100000023841858]], [[0.0, 0.0, 0.0], [0.0, 2.0, 0.9999998211860657], [0.0, -35.19984817504883, 0.48256993293762207], [0.0, 0.0, 1.100000023841858]], [[0.0, 0.0, 0.0], [0.0, 2.0, 0.9999998211860657], [0.0, -35.29985427856445, 0.4810999035835266], [0.0, 0.0, 1.100000023841858]], [[0.0, 0.0, 0.0], [0.0, 2.0, 0.9999998211860657], [0.0, -35.39986038208008, 0.47962987422943115], [0.0, 0.0, 1.100000023841858]], [[0.0, 0.0, 0.0], [0.0, 2.0, 0.9999998211860657], [0.0, -35.4998664855957, 0.4781598448753357], [0.0, 0.0, 1.100000023841858]], [[0.0, 0.0, 0.0], [0.0, 2.0, 0.9999998211860657], [0.0, -35.59987258911133, 0.47668981552124023], [0.0, 0.0, 1.100000023841858]], [[0.0, 0.0, 0.0], [0.0, 2.0, 0.9999998211860657], [0.0, -35.69987869262695, 0.4752197861671448], [0.0, 0.0, 1.100000023841858]], [[0.0, 0.0, 0.0], [0.0, 2.0, 0.9999998211860657], [0.0, -35.79988479614258, 0.4737497568130493], [0.0, 0.0, 1.100000023841858]], [[0.0, 0.0, 0.0], [0.0, 2.0, 0.9999998211860657], [0.0, -35.8998908996582, 0.47227972745895386], [0.0, 0.0, 1.100000023841858]], [[0.0, 0.0, 0.0], [0.0, 2.0, 0.9999998211860657], [0.0, -35.99989700317383, 0.4708096981048584], [0.0, 0.0, 1.100000023841858]], [[0.0, 0.0, 0.0], [0.0, 2.0, 0.9999998211860657], [0.0, -36.09990310668945, 0.46933966875076294], [0.0, 0.0, 1.100000023841858]], [[0.0, 0.0, 0.0], [0.0, 2.0, 0.9999998211860657], [0.0, -36.19990921020508, 0.4678696393966675], [0.0, 0.0, 1.100000023841858]], [[0.0, 0.0, 0.0], [0.0, 2.0, 0.9999998211860657], [0.0, -36.2999153137207, 0.466399610042572], [0.0, 0.0, 1.100000023841858]], [[0.0, 0.0, 0.0], [0.0, 2.0, 0.9999998211860657], [0.0, -36.39992141723633, 0.46492958068847656], [0.0, 0.0, 1.100000023841858]], [[0.0, 0.0, 0.0], [0.0, 2.0, 0.9999998211860657], [0.0, -36.49992752075195, 0.4634595513343811], [0.0, 0.0, 1.100000023841858]], [[0.0, 0.0, 0.0], [0.0, 2.0, 0.9999998211860657], [0.0, -36.59993362426758, 0.46198952198028564], [0.0, 0.0, 1.100000023841858]], [[0.0, 0.0, 0.0], [0.0, 2.0, 0.9999998211860657], [0.0, -36.6999397277832, 0.4605194926261902], [0.0, 0.0, 1.100000023841858]], [[0.0, 0.0, 0.0], [0.0, 2.0, 0.9999998211860657], [0.0, -36.79994583129883, 0.4590494632720947], [0.0, 0.0, 1.100000023841858]], [[0.0, 0.0, 0.0], [0.0, 2.0, 0.9999998211860657], [0.0, -36.89995193481445, 0.45757943391799927], [0.0, 0.0, 1.100000023841858]], [[0.0, 0.0, 0.0], [0.0, 2.0, 0.9999998211860657], [0.0, -36.99995803833008, 0.4561094045639038], [0.0, 0.0, 1.100000023841858]], [[0.0, 0.0, 0.0], [0.0, 2.0, 0.9999998211860657], [0.0, -37.0999641418457, 0.45463937520980835], [0.0, 0.0, 1.100000023841858]], [[0.0, 0.0, 0.0], [0.0, 2.0, 0.9999998211860657], [0.0, -37.19997024536133, 0.4531693458557129], [0.0, 0.0, 1.100000023841858]], [[0.0, 0.0, 0.0], [0.0, 2.0, 0.9999998211860657], [0.0, -37.29997634887695, 0.45169931650161743], [0.0, 0.0, 1.100000023841858]], [[0.0, 0.0, 0.0], [0.0, 2.0, 0.9999998211860657], [0.0, -37.39998245239258, 0.450229287147522], [0.0, 0.0, 1.100000023841858]], [[0.0, 0.0, 0.0], [0.0, 2.0, 0.9999998211860657], [0.0, -37.4999885559082, 0.4487592577934265], [0.0, 0.0, 1.100000023841858]], [[0.0, 0.0, 0.0], [0.0, 2.0, 0.9999998211860657], [0.0, -37.59999465942383, 0.44728922843933105], [0.0, 0.0, 1.100000023841858]], [[0.0, 0.0, 0.0], [0.0, 2.0, 0.9999998211860657], [0.0, -37.70000076293945, 0.4458191990852356], [0.0, 0.0, 1.100000023841858]], [[0.0, 0.0, 0.0], [0.0, 2.0, 0.9999998211860657], [0.0, -37.80000686645508, 0.44434916973114014], [0.0, 0.0, 1.100000023841858]], [[0.0, 0.0, 0.0], [0.0, 2.0, 0.9999998211860657], [0.0, -37.9000129699707, 0.4428791403770447], [0.0, 0.0, 1.100000023841858]], [[0.0, 0.0, 0.0], [0.0, 2.0, 0.9999998211860657], [0.0, -38.00001907348633, 0.4414091110229492], [0.0, 0.0, 1.100000023841858]], [[0.0, 0.0, 0.0], [0.0, 2.0, 0.9999998211860657], [0.0, -38.10002517700195, 0.43993908166885376], [0.0, 0.0, 1.100000023841858]], [[0.0, 0.0, 0.0], [0.0, 2.0, 0.9999998211860657], [0.0, -38.20003128051758, 0.4384690523147583], [0.0, 0.0, 1.100000023841858]], [[0.0, 0.0, 0.0], [0.0, 2.0, 0.9999998211860657], [0.0, -38.3000373840332, 0.43699902296066284], [0.0, 0.0, 1.100000023841858]], [[0.0, 0.0, 0.0], [0.0, 2.0, 0.9999998211860657], [0.0, -38.40004348754883, 0.4355289936065674], [0.0, 0.0, 1.100000023841858]], [[0.0, 0.0, 0.0], [0.0, 2.0, 0.9999998211860657], [0.0, -38.50004959106445, 0.4340589642524719], [0.0, 0.0, 1.100000023841858]], [[0.0, 0.0, 0.0], [0.0, 2.0, 0.9999998211860657], [0.0, -38.60005569458008, 0.43258893489837646], [0.0, 0.0, 1.100000023841858]], [[0.0, 0.0, 0.0], [0.0, 2.0, 0.9999998211860657], [0.0, -38.7000617980957, 0.431118905544281], [0.0, 0.0, 1.100000023841858]], [[0.0, 0.0, 0.0], [0.0, 2.0, 0.9999998211860657], [0.0, -38.80006790161133, 0.42964887619018555], [0.0, 0.0, 1.100000023841858]], [[0.0, 0.0, 0.0], [0.0, 2.0, 0.9999998211860657], [0.0, -38.90007400512695, 0.4281788468360901], [0.0, 0.0, 1.100000023841858]], [[0.0, 0.0, 0.0], [0.0, 2.0, 0.9999998211860657], [0.0, -39.00008010864258, 0.42670881748199463], [0.0, 0.0, 1.100000023841858]], [[0.0, 0.0, 0.0], [0.0, 2.0, 0.9999998211860657], [0.0, -39.1000862121582, 0.42523878812789917], [0.0, 0.0, 1.100000023841858]], [[0.0, 0.0, 0.0], [0.0, 2.0, 0.9999998211860657], [0.0, -39.20009231567383, 0.4237687587738037], [0.0, 0.0, 1.100000023841858]], [[0.0, 0.0, 0.0], [0.0, 2.0, 0.9999998211860657], [0.0, -39.30009841918945, 0.42229872941970825], [0.0, 0.0, 1.100000023841858]], [[0.0, 0.0, 0.0], [0.0, 2.0, 0.9999998211860657], [0.0, -39.40010452270508, 0.4208287000656128], [0.0, 0.0, 1.100000023841858]], [[0.0, 0.0, 0.0], [0.0, 2.0, 0.9999998211860657], [0.0, -39.5001106262207, 0.41935867071151733], [0.0, 0.0, 1.100000023841858]], [[0.0, 0.0, 0.0], [0.0, 2.0, 0.9999998211860657], [0.0, -39.60011672973633, 0.4178886413574219], [0.0, 0.0, 1.100000023841858]], [[0.0, 0.0, 0.0], [0.0, 2.0, 0.9999998211860657], [0.0, -39.70012283325195, 0.4164186120033264], [0.0, 0.0, 1.100000023841858]], [[0.0, 0.0, 0.0], [0.0, 2.0, 0.9999998211860657], [0.0, -39.80012893676758, 0.41494858264923096], [0.0, 0.0, 1.100000023841858]], [[0.0, 0.0, 0.0], [0.0, 2.0, 0.9999998211860657], [0.0, -39.9001350402832, 0.4134785532951355], [0.0, 0.0, 1.100000023841858]], [[0.0, 0.0, 0.0], [0.0, 2.0, 0.9999998211860657], [0.0, -40.00014114379883, 0.41200852394104004], [0.0, 0.0, 1.100000023841858]], [[0.0, 0.0, 0.0], [0.0, 2.0, 0.9999998211860657], [0.0, -40.10014724731445, 0.4105384945869446], [0.0, 0.0, 1.100000023841858]], [[0.0, 0.0, 0.0], [0.0, 2.0, 0.9999998211860657], [0.0, -40.20015335083008, 0.4090684652328491], [0.0, 0.0, 1.100000023841858]], [[0.0, 0.0, 0.0], [0.0, 2.0, 0.9999998211860657], [0.0, -40.3001594543457, 0.40759843587875366], [0.0, 0.0, 1.100000023841858]], [[0.0, 0.0, 0.0], [0.0, 2.0, 0.9999998211860657], [0.0, -40.40016555786133, 0.4061284065246582], [0.0, 0.0, 1.100000023841858]], [[0.0, 0.0, 0.0], [0.0, 2.0, 0.9999998211860657], [0.0, -40.50017166137695, 0.40465837717056274], [0.0, 0.0, 1.100000023841858]], [[0.0, 0.0, 0.0], [0.0, 2.0, 0.9999998211860657], [0.0, -40.60017776489258, 0.4031883478164673], [0.0, 0.0, 1.100000023841858]], [[0.0, 0.0, 0.0], [0.0, 2.0, 0.9999998211860657], [0.0, -40.7001838684082, 0.4017183184623718], [0.0, 0.0, 1.100000023841858]], [[0.0, 0.0, 0.0], [0.0, 2.0, 0.9999998211860657], [0.0, -40.80018997192383, 0.40024828910827637], [0.0, 0.0, 1.100000023841858]], [[0.0, 0.0, 0.0], [0.0, 2.0, 0.9999998211860657], [0.0, -40.90019607543945, 0.3987782597541809], [0.0, 0.0, 1.100000023841858]], [[0.0, 0.0, 0.0], [0.0, 2.0, 0.9999998211860657], [0.0, -41.00020217895508, 0.39730823040008545], [0.0, 0.0, 1.100000023841858]], [[0.0, 0.0, 0.0], [0.0, 2.0, 0.9999998211860657], [0.0, -41.1002082824707, 0.39583820104599], [0.0, 0.0, 1.100000023841858]], [[0.0, 0.0, 0.0], [0.0, 2.0, 0.9999998211860657], [0.0, -41.20021438598633, 0.39436817169189453], [0.0, 0.0, 1.100000023841858]], [[0.0, 0.0, 0.0], [0.0, 2.0, 0.9999998211860657], [0.0, -41.30022048950195, 0.3928981423377991], [0.0, 0.0, 1.100000023841858]], [[0.0, 0.0, 0.0], [0.0, 2.0, 0.9999998211860657], [0.0, -41.40022659301758, 0.3914281129837036], [0.0, 0.0, 1.100000023841858]], [[0.0, 0.0, 0.0], [0.0, 2.0, 0.9999998211860657], [0.0, -41.5002326965332, 0.38995808362960815], [0.0, 0.0, 1.100000023841858]], [[0.0, 0.0, 0.0], [0.0, 2.0, 0.9999998211860657], [0.0, -41.60023880004883, 0.3884880542755127], [0.0, 0.0, 1.100000023841858]], [[0.0, 0.0, 0.0], [0.0, 2.0, 0.9999998211860657], [0.0, -41.70024490356445, 0.38701802492141724], [0.0, 0.0, 1.100000023841858]], [[0.0, 0.0, 0.0], [0.0, 2.0, 0.9999998211860657], [0.0, -41.80025100708008, 0.3855479955673218], [0.0, 0.0, 1.100000023841858]], [[0.0, 0.0, 0.0], [0.0, 2.0, 0.9999998211860657], [0.0, -41.9002571105957, 0.3840779662132263], [0.0, 0.0, 1.100000023841858]], [[0.0, 0.0, 0.0], [0.0, 2.0, 0.9999998211860657], [0.0, -42.00026321411133, 0.38260793685913086], [0.0, 0.0, 1.100000023841858]], [[0.0, 0.0, 0.0], [0.0, 2.0, 0.9999998211860657], [0.0, -42.10026931762695, 0.3811379075050354], [0.0, 0.0, 1.100000023841858]], [[0.0, 0.0, 0.0], [0.0, 2.0, 0.9999998211860657], [0.0, -42.20027542114258, 0.37966787815093994], [0.0, 0.0, 1.100000023841858]], [[0.0, 0.0, 0.0], [0.0, 2.0, 0.9999998211860657], [0.0, -42.3002815246582, 0.3781978487968445], [0.0, 0.0, 1.100000023841858]], [[0.0, 0.0, 0.0], [0.0, 2.0, 0.9999998211860657], [0.0, -42.40028762817383, 0.376727819442749], [0.0, 0.0, 1.100000023841858]], [[0.0, 0.0, 0.0], [0.0, 2.0, 0.9999998211860657], [0.0, -42.50029373168945, 0.37525779008865356], [0.0, 0.0, 1.100000023841858]], [[0.0, 0.0, 0.0], [0.0, 2.0, 0.9999998211860657], [0.0, -42.60029983520508, 0.3737877607345581], [0.0, 0.0, 1.100000023841858]], [[0.0, 0.0, 0.0], [0.0, 2.0, 0.9999998211860657], [0.0, -42.7003059387207, 0.37231773138046265], [0.0, 0.0, 1.100000023841858]], [[0.0, 0.0, 0.0], [0.0, 2.0, 0.9999998211860657], [0.0, -42.80031204223633, 0.3708477020263672], [0.0, 0.0, 1.100000023841858]], [[0.0, 0.0, 0.0], [0.0, 2.0, 0.9999998211860657], [0.0, -42.90031814575195, 0.36937767267227173], [0.0, 0.0, 1.100000023841858]], [[0.0, 0.0, 0.0], [0.0, 2.0, 0.9999998211860657], [0.0, -43.00032424926758, 0.36790764331817627], [0.0, 0.0, 1.100000023841858]], [[0.0, 0.0, 0.0], [0.0, 2.0, 0.9999998211860657], [0.0, -43.1003303527832, 0.3664376139640808], [0.0, 0.0, 1.100000023841858]], [[0.0, 0.0, 0.0], [0.0, 2.0, 0.9999998211860657], [0.0, -43.20033645629883, 0.36496758460998535], [0.0, 0.0, 1.100000023841858]], [[0.0, 0.0, 0.0], [0.0, 2.0, 0.9999998211860657], [0.0, -43.30034255981445, 0.3634975552558899], [0.0, 0.0, 1.100000023841858]], [[0.0, 0.0, 0.0], [0.0, 2.0, 0.9999998211860657], [0.0, -43.40034866333008, 0.36202752590179443], [0.0, 0.0, 1.100000023841858]], [[0.0, 0.0, 0.0], [0.0, 2.0, 0.9999998211860657], [0.0, -43.5003547668457, 0.360557496547699], [0.0, 0.0, 1.100000023841858]], [[0.0, 0.0, 0.0], [0.0, 2.0, 0.9999998211860657], [0.0, -43.60036087036133, 0.3590874671936035], [0.0, 0.0, 1.100000023841858]], [[0.0, 0.0, 0.0], [0.0, 2.0, 0.9999998211860657], [0.0, -43.70036697387695, 0.35761743783950806], [0.0, 0.0, 1.100000023841858]], [[0.0, 0.0, 0.0], [0.0, 2.0, 0.9999998211860657], [0.0, -43.80037307739258, 0.3561474084854126], [0.0, 0.0, 1.100000023841858]], [[0.0, 0.0, 0.0], [0.0, 2.0, 0.9999998211860657], [0.0, -43.9003791809082, 0.35467737913131714], [0.0, 0.0, 1.100000023841858]], [[0.0, 0.0, 0.0], [0.0, 2.0, 0.9999998211860657], [0.0, -44.00038528442383, 0.3532073497772217], [0.0, 0.0, 1.100000023841858]], [[0.0, 0.0, 0.0], [0.0, 2.0, 0.9999998211860657], [0.0, -44.10039138793945, 0.3517373204231262], [0.0, 0.0, 1.100000023841858]], [[0.0, 0.0, 0.0], [0.0, 2.0, 0.9999998211860657], [0.0, -44.20039749145508, 0.35026729106903076], [0.0, 0.0, 1.100000023841858]], [[0.0, 0.0, 0.0], [0.0, 2.0, 0.9999998211860657], [0.0, -44.3004035949707, 0.3487972617149353], [0.0, 0.0, 1.100000023841858]], [[0.0, 0.0, 0.0], [0.0, 2.0, 0.9999998211860657], [0.0, -44.40040969848633, 0.34732723236083984], [0.0, 0.0, 1.100000023841858]], [[0.0, 0.0, 0.0], [0.0, 2.0, 0.9999998211860657], [0.0, -44.50041580200195, 0.3458572030067444], [0.0, 0.0, 1.100000023841858]], [[0.0, 0.0, 0.0], [0.0, 2.0, 0.9999998211860657], [0.0, -44.60042190551758, 0.3443871736526489], [0.0, 0.0, 1.100000023841858]], [[0.0, 0.0, 0.0], [0.0, 2.0, 0.9999998211860657], [0.0, -44.7004280090332, 0.34291714429855347], [0.0, 0.0, 1.100000023841858]], [[0.0, 0.0, 0.0], [0.0, 2.0, 0.9999998211860657], [0.0, -44.80043411254883, 0.341447114944458], [0.0, 0.0, 1.100000023841858]], [[0.0, 0.0, 0.0], [0.0, 2.0, 0.9999998211860657], [0.0, -44.90044021606445, 0.33997708559036255], [0.0, 0.0, 1.100000023841858]], [[0.0, 0.0, 0.0], [0.0, 2.0, 0.9999998211860657], [0.0, -45.00044631958008, 0.3385070562362671], [0.0, 0.0, 1.100000023841858]], [[0.0, 0.0, 0.0], [0.0, 2.0, 0.9999998211860657], [0.0, -45.1004524230957, 0.33703702688217163], [0.0, 0.0, 1.100000023841858]], [[0.0, 0.0, 0.0], [0.0, 2.0, 0.9999998211860657], [0.0, -45.20045852661133, 0.33556699752807617], [0.0, 0.0, 1.100000023841858]], [[0.0, 0.0, 0.0], [0.0, 2.0, 0.9999998211860657], [0.0, -45.30046463012695, 0.3340969681739807], [0.0, 0.0, 1.100000023841858]], [[0.0, 0.0, 0.0], [0.0, 2.0, 0.9999998211860657], [0.0, -45.40047073364258, 0.33262693881988525], [0.0, 0.0, 1.100000023841858]], [[0.0, 0.0, 0.0], [0.0, 2.0, 0.9999998211860657], [0.0, -45.5004768371582, 0.3311569094657898], [0.0, 0.0, 1.100000023841858]], [[0.0, 0.0, 0.0], [0.0, 2.0, 0.9999998211860657], [0.0, -45.60048294067383, 0.32968688011169434], [0.0, 0.0, 1.100000023841858]], [[0.0, 0.0, 0.0], [0.0, 2.0, 0.9999998211860657], [0.0, -45.70048904418945, 0.3282168507575989], [0.0, 0.0, 1.100000023841858]], [[0.0, 0.0, 0.0], [0.0, 2.0, 0.9999998211860657], [0.0, -45.80049514770508, 0.3267468214035034], [0.0, 0.0, 1.100000023841858]], [[0.0, 0.0, 0.0], [0.0, 2.0, 0.9999998211860657], [0.0, -45.9005012512207, 0.32527679204940796], [0.0, 0.0, 1.100000023841858]], [[0.0, 0.0, 0.0], [0.0, 2.0, 0.9999998211860657], [0.0, -46.00050735473633, 0.3238067626953125], [0.0, 0.0, 1.100000023841858]], [[0.0, 0.0, 0.0], [0.0, 2.0, 0.9999998211860657], [0.0, -46.10051345825195, 0.32233673334121704], [0.0, 0.0, 1.100000023841858]], [[0.0, 0.0, 0.0], [0.0, 2.0, 0.9999998211860657], [0.0, -46.20051956176758, 0.3208667039871216], [0.0, 0.0, 1.100000023841858]], [[0.0, 0.0, 0.0], [0.0, 2.0, 0.9999998211860657], [0.0, -46.3005256652832, 0.3193966746330261], [0.0, 0.0, 1.100000023841858]], [[0.0, 0.0, 0.0], [0.0, 2.0, 0.9999998211860657], [0.0, -46.40053176879883, 0.31792664527893066], [0.0, 0.0, 1.100000023841858]], [[0.0, 0.0, 0.0], [0.0, 2.0, 0.9999998211860657], [0.0, -46.50053787231445, 0.3164566159248352], [0.0, 0.0, 1.100000023841858]], [[0.0, 0.0, 0.0], [0.0, 2.0, 0.9999998211860657], [0.0, -46.60054397583008, 0.31498658657073975], [0.0, 0.0, 1.100000023841858]], [[0.0, 0.0, 0.0], [0.0, 2.0, 0.9999998211860657], [0.0, -46.7005500793457, 0.3135165572166443], [0.0, 0.0, 1.100000023841858]], [[0.0, 0.0, 0.0], [0.0, 2.0, 0.9999998211860657], [0.0, -46.80055618286133, 0.31204652786254883], [0.0, 0.0, 1.100000023841858]], [[0.0, 0.0, 0.0], [0.0, 2.0, 0.9999998211860657], [0.0, -46.90056228637695, 0.31057649850845337], [0.0, 0.0, 1.100000023841858]], [[0.0, 0.0, 0.0], [0.0, 2.0, 0.9999998211860657], [0.0, -47.00056838989258, 0.3091064691543579], [0.0, 0.0, 1.100000023841858]], [[0.0, 0.0, 0.0], [0.0, 2.0, 0.9999998211860657], [0.0, -47.1005744934082, 0.30763643980026245], [0.0, 0.0, 1.100000023841858]], [[0.0, 0.0, 0.0], [0.0, 2.0, 0.9999998211860657], [0.0, -47.20058059692383, 0.306166410446167], [0.0, 0.0, 1.100000023841858]], [[0.0, 0.0, 0.0], [0.0, 2.0, 0.9999998211860657], [0.0, -47.30058670043945, 0.30469638109207153], [0.0, 0.0, 1.100000023841858]], [[0.0, 0.0, 0.0], [0.0, 2.0, 0.9999998211860657], [0.0, -47.40059280395508, 0.3032263517379761], [0.0, 0.0, 1.100000023841858]], [[0.0, 0.0, 0.0], [0.0, 2.0, 0.9999998211860657], [0.0, -47.5005989074707, 0.3017563223838806], [0.0, 0.0, 1.100000023841858]], [[0.0, 0.0, 0.0], [0.0, 2.0, 0.9999998211860657], [0.0, -47.60060501098633, 0.30028629302978516], [0.0, 0.0, 1.100000023841858]], [[0.0, 0.0, 0.0], [0.0, 2.0, 0.9999998211860657], [0.0, -47.70061111450195, 0.2988162636756897], [0.0, 0.0, 1.100000023841858]], [[0.0, 0.0, 0.0], [0.0, 2.0, 0.9999998211860657], [0.0, -47.80061721801758, 0.29734623432159424], [0.0, 0.0, 1.100000023841858]], [[0.0, 0.0, 0.0], [0.0, 2.0, 0.9999998211860657], [0.0, -47.9006233215332, 0.2958762049674988], [0.0, 0.0, 1.100000023841858]], [[0.0, 0.0, 0.0], [0.0, 2.0, 0.9999998211860657], [0.0, -48.00062942504883, 0.2944061756134033], [0.0, 0.0, 1.100000023841858]], [[0.0, 0.0, 0.0], [0.0, 2.0, 0.9999998211860657], [0.0, -48.10063552856445, 0.29293614625930786], [0.0, 0.0, 1.100000023841858]], [[0.0, 0.0, 0.0], [0.0, 2.0, 0.9999998211860657], [0.0, -48.20064163208008, 0.2914661169052124], [0.0, 0.0, 1.100000023841858]], [[0.0, 0.0, 0.0], [0.0, 2.0, 0.9999998211860657], [0.0, -48.3006477355957, 0.28999608755111694], [0.0, 0.0, 1.100000023841858]], [[0.0, 0.0, 0.0], [0.0, 2.0, 0.9999998211860657], [0.0, -48.40065383911133, 0.2885260581970215], [0.0, 0.0, 1.100000023841858]], [[0.0, 0.0, 0.0], [0.0, 2.0, 0.9999998211860657], [0.0, -48.50065994262695, 0.287056028842926], [0.0, 0.0, 1.100000023841858]], [[0.0, 0.0, 0.0], [0.0, 2.0, 0.9999998211860657], [0.0, -48.60066604614258, 0.28558599948883057], [0.0, 0.0, 1.100000023841858]], [[0.0, 0.0, 0.0], [0.0, 2.0, 0.9999998211860657], [0.0, -48.7006721496582, 0.2841159701347351], [0.0, 0.0, 1.100000023841858]], [[0.0, 0.0, 0.0], [0.0, 2.0, 0.9999998211860657], [0.0, -48.80067825317383, 0.28264594078063965], [0.0, 0.0, 1.100000023841858]], [[0.0, 0.0, 0.0], [0.0, 2.0, 0.9999998211860657], [0.0, -48.90068435668945, 0.2811759114265442], [0.0, 0.0, 1.100000023841858]], [[0.0, 0.0, 0.0], [0.0, 2.0, 0.9999998211860657], [0.0, -49.00069046020508, 0.27970588207244873], [0.0, 0.0, 1.100000023841858]], [[0.0, 0.0, 0.0], [0.0, 2.0, 0.9999998211860657], [0.0, -49.1006965637207, 0.27823585271835327], [0.0, 0.0, 1.100000023841858]], [[0.0, 0.0, 0.0], [0.0, 2.0, 0.9999998211860657], [0.0, -49.20070266723633, 0.2767658233642578], [0.0, 0.0, 1.100000023841858]], [[0.0, 0.0, 0.0], [0.0, 2.0, 0.9999998211860657], [0.0, -49.30070877075195, 0.27529579401016235], [0.0, 0.0, 1.100000023841858]], [[0.0, 0.0, 0.0], [0.0, 2.0, 0.9999998211860657], [0.0, -49.40071487426758, 0.2738257646560669], [0.0, 0.0, 1.100000023841858]], [[0.0, 0.0, 0.0], [0.0, 2.0, 0.9999998211860657], [0.0, -49.5007209777832, 0.27235573530197144], [0.0, 0.0, 1.100000023841858]], [[0.0, 0.0, 0.0], [0.0, 2.0, 0.9999998211860657], [0.0, -49.60072708129883, 0.270885705947876], [0.0, 0.0, 1.100000023841858]], [[0.0, 0.0, 0.0], [0.0, 2.0, 0.9999998211860657], [0.0, -49.70073318481445, 0.2694156765937805], [0.0, 0.0, 1.100000023841858]], [[0.0, 0.0, 0.0], [0.0, 2.0, 0.9999998211860657], [0.0, -49.80073928833008, 0.26794564723968506], [0.0, 0.0, 1.100000023841858]], [[0.0, 0.0, 0.0], [0.0, 2.0, 0.9999998211860657], [0.0, -49.9007453918457, 0.2664756178855896], [0.0, 0.0, 1.100000023841858]], [[0.0, 0.0, 0.0], [0.0, 2.0, 0.9999998211860657], [0.0, -50.00075149536133, 0.26500558853149414], [0.0, 0.0, 1.100000023841858]], [[0.0, 0.0, 0.0], [0.0, 2.0, 0.9999998211860657], [0.0, -50.10075759887695, 0.2635355591773987], [0.0, 0.0, 1.100000023841858]], [[0.0, 0.0, 0.0], [0.0, 2.0, 0.9999998211860657], [0.0, -50.20076370239258, 0.2620655298233032], [0.0, 0.0, 1.100000023841858]], [[0.0, 0.0, 0.0], [0.0, 2.0, 0.9999998211860657], [0.0, -50.3007698059082, 0.26059550046920776], [0.0, 0.0, 1.100000023841858]], [[0.0, 0.0, 0.0], [0.0, 2.0, 0.9999998211860657], [0.0, -50.40077590942383, 0.2591254711151123], [0.0, 0.0, 1.100000023841858]], [[0.0, 0.0, 0.0], [0.0, 2.0, 0.9999998211860657], [0.0, -50.50078201293945, 0.25765544176101685], [0.0, 0.0, 1.100000023841858]], [[0.0, 0.0, 0.0], [0.0, 2.0, 0.9999998211860657], [0.0, -50.60078811645508, 0.2561854124069214], [0.0, 0.0, 1.100000023841858]], [[0.0, 0.0, 0.0], [0.0, 2.0, 0.9999998211860657], [0.0, -50.7007942199707, 0.2547153830528259], [0.0, 0.0, 1.100000023841858]], [[0.0, 0.0, 0.0], [0.0, 2.0, 0.9999998211860657], [0.0, -50.80080032348633, 0.25324535369873047], [0.0, 0.0, 1.100000023841858]], [[0.0, 0.0, 0.0], [0.0, 2.0, 0.9999998211860657], [0.0, -50.90080642700195, 0.251775324344635], [0.0, 0.0, 1.100000023841858]], [[0.0, 0.0, 0.0], [0.0, 2.0, 0.9999998211860657], [0.0, -51.00081253051758, 0.25030529499053955], [0.0, 0.0, 1.100000023841858]], [[0.0, 0.0, 0.0], [0.0, 2.0, 0.9999998211860657], [0.0, -51.1008186340332, 0.24883529543876648], [0.0, 0.0, 1.100000023841858]], [[0.0, 0.0, 0.0], [0.0, 2.0, 0.9999998211860657], [0.0, -51.20082473754883, 0.2473652958869934], [0.0, 0.0, 1.100000023841858]], [[0.0, 0.0, 0.0], [0.0, 2.0, 0.9999998211860657], [0.0, -51.30083084106445, 0.24589529633522034], [0.0, 0.0, 1.100000023841858]], [[0.0, 0.0, 0.0], [0.0, 2.0, 0.9999998211860657], [0.0, -51.40083694458008, 0.24442529678344727], [0.0, 0.0, 1.100000023841858]], [[0.0, 0.0, 0.0], [0.0, 2.0, 0.9999998211860657], [0.0, -51.5008430480957, 0.2429552972316742], [0.0, 0.0, 1.100000023841858]], [[0.0, 0.0, 0.0], [0.0, 2.0, 0.9999998211860657], [0.0, -51.60084915161133, 0.24148529767990112], [0.0, 0.0, 1.100000023841858]], [[0.0, 0.0, 0.0], [0.0, 2.0, 0.9999998211860657], [0.0, -51.70085525512695, 0.24001529812812805], [0.0, 0.0, 1.100000023841858]], [[0.0, 0.0, 0.0], [0.0, 2.0, 0.9999998211860657], [0.0, -51.80086135864258, 0.23854529857635498], [0.0, 0.0, 1.100000023841858]], [[0.0, 0.0, 0.0], [0.0, 2.0, 0.9999998211860657], [0.0, -51.9008674621582, 0.2370752990245819], [0.0, 0.0, 1.100000023841858]], [[0.0, 0.0, 0.0], [0.0, 2.0, 0.9999998211860657], [0.0, -52.00087356567383, 0.23560529947280884], [0.0, 0.0, 1.100000023841858]], [[0.0, 0.0, 0.0], [0.0, 2.0, 0.9999998211860657], [0.0, -52.10087966918945, 0.23413529992103577], [0.0, 0.0, 1.100000023841858]], [[0.0, 0.0, 0.0], [0.0, 2.0, 0.9999998211860657], [0.0, -52.20088577270508, 0.2326653003692627], [0.0, 0.0, 1.100000023841858]], [[0.0, 0.0, 0.0], [0.0, 2.0, 0.9999998211860657], [0.0, -52.3008918762207, 0.23119530081748962], [0.0, 0.0, 1.100000023841858]], [[0.0, 0.0, 0.0], [0.0, 2.0, 0.9999998211860657], [0.0, -52.40089797973633, 0.22972530126571655], [0.0, 0.0, 1.100000023841858]], [[0.0, 0.0, 0.0], [0.0, 2.0, 0.9999998211860657], [0.0, -52.50090408325195, 0.22825530171394348], [0.0, 0.0, 1.100000023841858]], [[0.0, 0.0, 0.0], [0.0, 2.0, 0.9999998211860657], [0.0, -52.60091018676758, 0.2267853021621704], [0.0, 0.0, 1.100000023841858]], [[0.0, 0.0, 0.0], [0.0, 2.0, 0.9999998211860657], [0.0, -52.7009162902832, 0.22531530261039734], [0.0, 0.0, 1.100000023841858]], [[0.0, 0.0, 0.0], [0.0, 2.0, 0.9999998211860657], [0.0, -52.80092239379883, 0.22384530305862427], [0.0, 0.0, 1.100000023841858]], [[0.0, 0.0, 0.0], [0.0, 2.0, 0.9999998211860657], [0.0, -52.90092849731445, 0.2223753035068512], [0.0, 0.0, 1.100000023841858]], [[0.0, 0.0, 0.0], [0.0, 2.0, 0.9999998211860657], [0.0, -53.00093460083008, 0.22090530395507812], [0.0, 0.0, 1.100000023841858]], [[0.0, 0.0, 0.0], [0.0, 2.0, 0.9999998211860657], [0.0, -53.1009407043457, 0.21943530440330505], [0.0, 0.0, 1.100000023841858]], [[0.0, 0.0, 0.0], [0.0, 2.0, 0.9999998211860657], [0.0, -53.20094680786133, 0.21796530485153198], [0.0, 0.0, 1.100000023841858]], [[0.0, 0.0, 0.0], [0.0, 2.0, 0.9999998211860657], [0.0, -53.30095291137695, 0.2164953052997589], [0.0, 0.0, 1.100000023841858]], [[0.0, 0.0, 0.0], [0.0, 2.0, 0.9999998211860657], [0.0, -53.40095901489258, 0.21502530574798584], [0.0, 0.0, 1.100000023841858]], [[0.0, 0.0, 0.0], [0.0, 2.0, 0.9999998211860657], [0.0, -53.5009651184082, 0.21355530619621277], [0.0, 0.0, 1.100000023841858]], [[0.0, 0.0, 0.0], [0.0, 2.0, 0.9999998211860657], [0.0, -53.60097122192383, 0.2120853066444397], [0.0, 0.0, 1.100000023841858]], [[0.0, 0.0, 0.0], [0.0, 2.0, 0.9999998211860657], [0.0, -53.70097732543945, 0.21061530709266663], [0.0, 0.0, 1.100000023841858]], [[0.0, 0.0, 0.0], [0.0, 2.0, 0.9999998211860657], [0.0, -53.80098342895508, 0.20914530754089355], [0.0, 0.0, 1.100000023841858]], [[0.0, 0.0, 0.0], [0.0, 2.0, 0.9999998211860657], [0.0, -53.9009895324707, 0.20767530798912048], [0.0, 0.0, 1.100000023841858]], [[0.0, 0.0, 0.0], [0.0, 2.0, 0.9999998211860657], [0.0, -54.00099563598633, 0.2062053084373474], [0.0, 0.0, 1.100000023841858]], [[0.0, 0.0, 0.0], [0.0, 2.0, 0.9999998211860657], [0.0, -54.10100173950195, 0.20473530888557434], [0.0, 0.0, 1.100000023841858]], [[0.0, 0.0, 0.0], [0.0, 2.0, 0.9999998211860657], [0.0, -54.20100784301758, 0.20326530933380127], [0.0, 0.0, 1.100000023841858]], [[0.0, 0.0, 0.0], [0.0, 2.0, 0.9999998211860657], [0.0, -54.3010139465332, 0.2017953097820282], [0.0, 0.0, 1.100000023841858]], [[0.0, 0.0, 0.0], [0.0, 2.0, 0.9999998211860657], [0.0, -54.40102005004883, 0.20032531023025513], [0.0, 0.0, 1.100000023841858]], [[0.0, 0.0, 0.0], [0.0, 2.0, 0.9999998211860657], [0.0, -54.50102615356445, 0.19885531067848206], [0.0, 0.0, 1.100000023841858]], [[0.0, 0.0, 0.0], [0.0, 2.0, 0.9999998211860657], [0.0, -54.60103225708008, 0.19738531112670898], [0.0, 0.0, 1.100000023841858]], [[0.0, 0.0, 0.0], [0.0, 2.0, 0.9999998211860657], [0.0, -54.7010383605957, 0.1959153115749359], [0.0, 0.0, 1.100000023841858]], [[0.0, 0.0, 0.0], [0.0, 2.0, 0.9999998211860657], [0.0, -54.80104446411133, 0.19444531202316284], [0.0, 0.0, 1.100000023841858]], [[0.0, 0.0, 0.0], [0.0, 2.0, 0.9999998211860657], [0.0, -54.90105056762695, 0.19297531247138977], [0.0, 0.0, 1.100000023841858]], [[0.0, 0.0, 0.0], [0.0, 2.0, 0.9999998211860657], [0.0, -55.00105667114258, 0.1915053129196167], [0.0, 0.0, 1.100000023841858]], [[0.0, 0.0, 0.0], [0.0, 2.0, 0.9999998211860657], [0.0, -55.1010627746582, 0.19003531336784363], [0.0, 0.0, 1.100000023841858]], [[0.0, 0.0, 0.0], [0.0, 2.0, 0.9999998211860657], [0.0, -55.20106887817383, 0.18856531381607056], [0.0, 0.0, 1.100000023841858]], [[0.0, 0.0, 0.0], [0.0, 2.0, 0.9999998211860657], [0.0, -55.30107498168945, 0.18709531426429749], [0.0, 0.0, 1.100000023841858]], [[0.0, 0.0, 0.0], [0.0, 2.0, 0.9999998211860657], [0.0, -55.40108108520508, 0.18562531471252441], [0.0, 0.0, 1.100000023841858]], [[0.0, 0.0, 0.0], [0.0, 2.0, 0.9999998211860657], [0.0, -55.5010871887207, 0.18415531516075134], [0.0, 0.0, 1.100000023841858]], [[0.0, 0.0, 0.0], [0.0, 2.0, 0.9999998211860657], [0.0, -55.60109329223633, 0.18268531560897827], [0.0, 0.0, 1.100000023841858]], [[0.0, 0.0, 0.0], [0.0, 2.0, 0.9999998211860657], [0.0, -55.70109939575195, 0.1812153160572052], [0.0, 0.0, 1.100000023841858]], [[0.0, 0.0, 0.0], [0.0, 2.0, 0.9999998211860657], [0.0, -55.80110549926758, 0.17974531650543213], [0.0, 0.0, 1.100000023841858]], [[0.0, 0.0, 0.0], [0.0, 2.0, 0.9999998211860657], [0.0, -55.9011116027832, 0.17827531695365906], [0.0, 0.0, 1.100000023841858]], [[0.0, 0.0, 0.0], [0.0, 2.0, 0.9999998211860657], [0.0, -56.00111770629883, 0.176805317401886], [0.0, 0.0, 1.100000023841858]], [[0.0, 0.0, 0.0], [0.0, 2.0, 0.9999998211860657], [0.0, -56.10112380981445, 0.17533531785011292], [0.0, 0.0, 1.100000023841858]], [[0.0, 0.0, 0.0], [0.0, 2.0, 0.9999998211860657], [0.0, -56.20112991333008, 0.17386531829833984], [0.0, 0.0, 1.100000023841858]], [[0.0, 0.0, 0.0], [0.0, 2.0, 0.9999998211860657], [0.0, -56.3011360168457, 0.17239531874656677], [0.0, 0.0, 1.100000023841858]], [[0.0, 0.0, 0.0], [0.0, 2.0, 0.9999998211860657], [0.0, -56.40114212036133, 0.1709253191947937], [0.0, 0.0, 1.100000023841858]], [[0.0, 0.0, 0.0], [0.0, 2.0, 0.9999998211860657], [0.0, -56.50114822387695, 0.16945531964302063], [0.0, 0.0, 1.100000023841858]], [[0.0, 0.0, 0.0], [0.0, 2.0, 0.9999998211860657], [0.0, -56.60115432739258, 0.16798532009124756], [0.0, 0.0, 1.100000023841858]], [[0.0, 0.0, 0.0], [0.0, 2.0, 0.9999998211860657], [0.0, -56.7011604309082, 0.1665153205394745], [0.0, 0.0, 1.100000023841858]], [[0.0, 0.0, 0.0], [0.0, 2.0, 0.9999998211860657], [0.0, -56.80116653442383, 0.16504532098770142], [0.0, 0.0, 1.100000023841858]], [[0.0, 0.0, 0.0], [0.0, 2.0, 0.9999998211860657], [0.0, -56.90117263793945, 0.16357532143592834], [0.0, 0.0, 1.100000023841858]], [[0.0, 0.0, 0.0], [0.0, 2.0, 0.9999998211860657], [0.0, -57.00117874145508, 0.16210532188415527], [0.0, 0.0, 1.100000023841858]], [[0.0, 0.0, 0.0], [0.0, 2.0, 0.9999998211860657], [0.0, -57.1011848449707, 0.1606353223323822], [0.0, 0.0, 1.100000023841858]], [[0.0, 0.0, 0.0], [0.0, 2.0, 0.9999998211860657], [0.0, -57.20119094848633, 0.15916532278060913], [0.0, 0.0, 1.100000023841858]], [[0.0, 0.0, 0.0], [0.0, 2.0, 0.9999998211860657], [0.0, -57.30119705200195, 0.15769532322883606], [0.0, 0.0, 1.100000023841858]], [[0.0, 0.0, 0.0], [0.0, 2.0, 0.9999998211860657], [0.0, -57.40120315551758, 0.156225323677063], [0.0, 0.0, 1.100000023841858]], [[0.0, 0.0, 0.0], [0.0, 2.0, 0.9999998211860657], [0.0, -57.5012092590332, 0.15475532412528992], [0.0, 0.0, 1.100000023841858]], [[0.0, 0.0, 0.0], [0.0, 2.0, 0.9999998211860657], [0.0, -57.60121536254883, 0.15328532457351685], [0.0, 0.0, 1.100000023841858]], [[0.0, 0.0, 0.0], [0.0, 2.0, 0.9999998211860657], [0.0, -57.70122146606445, 0.15181532502174377], [0.0, 0.0, 1.100000023841858]], [[0.0, 0.0, 0.0], [0.0, 2.0, 0.9999998211860657], [0.0, -57.80122756958008, 0.1503453254699707], [0.0, 0.0, 1.100000023841858]], [[0.0, 0.0, 0.0], [0.0, 2.0, 0.9999998211860657], [0.0, -57.9012336730957, 0.14887532591819763], [0.0, 0.0, 1.100000023841858]], [[0.0, 0.0, 0.0], [0.0, 2.0, 0.9999998211860657], [0.0, -58.00123977661133, 0.14740532636642456], [0.0, 0.0, 1.100000023841858]], [[0.0, 0.0, 0.0], [0.0, 2.0, 0.9999998211860657], [0.0, -58.10124588012695, 0.1459353268146515], [0.0, 0.0, 1.100000023841858]], [[0.0, 0.0, 0.0], [0.0, 2.0, 0.9999998211860657], [0.0, -58.20125198364258, 0.14446532726287842], [0.0, 0.0, 1.100000023841858]], [[0.0, 0.0, 0.0], [0.0, 2.0, 0.9999998211860657], [0.0, -58.3012580871582, 0.14299532771110535], [0.0, 0.0, 1.100000023841858]], [[0.0, 0.0, 0.0], [0.0, 2.0, 0.9999998211860657], [0.0, -58.40126419067383, 0.14152532815933228], [0.0, 0.0, 1.100000023841858]], [[0.0, 0.0, 0.0], [0.0, 2.0, 0.9999998211860657], [0.0, -58.50127029418945, 0.1400553286075592], [0.0, 0.0, 1.100000023841858]], [[0.0, 0.0, 0.0], [0.0, 2.0, 0.9999998211860657], [0.0, -58.60127639770508, 0.13858532905578613], [0.0, 0.0, 1.100000023841858]], [[0.0, 0.0, 0.0], [0.0, 2.0, 0.9999998211860657], [0.0, -58.7012825012207, 0.13711532950401306], [0.0, 0.0, 1.100000023841858]], [[0.0, 0.0, 0.0], [0.0, 2.0, 0.9999998211860657], [0.0, -58.80128860473633, 0.13564532995224], [0.0, 0.0, 1.100000023841858]], [[0.0, 0.0, 0.0], [0.0, 2.0, 0.9999998211860657], [0.0, -58.90129470825195, 0.13417533040046692], [0.0, 0.0, 1.100000023841858]], [[0.0, 0.0, 0.0], [0.0, 2.0, 0.9999998211860657], [0.0, -59.00130081176758, 0.13270533084869385], [0.0, 0.0, 1.100000023841858]], [[0.0, 0.0, 0.0], [0.0, 2.0, 0.9999998211860657], [0.0, -59.1013069152832, 0.13123533129692078], [0.0, 0.0, 1.100000023841858]], [[0.0, 0.0, 0.0], [0.0, 2.0, 0.9999998211860657], [0.0, -59.20131301879883, 0.1297653317451477], [0.0, 0.0, 1.100000023841858]], [[0.0, 0.0, 0.0], [0.0, 2.0, 0.9999998211860657], [0.0, -59.30131912231445, 0.12829533219337463], [0.0, 0.0, 1.100000023841858]], [[0.0, 0.0, 0.0], [0.0, 2.0, 0.9999998211860657], [0.0, -59.40132522583008, 0.12682533264160156], [0.0, 0.0, 1.100000023841858]], [[0.0, 0.0, 0.0], [0.0, 2.0, 0.9999998211860657], [0.0, -59.5013313293457, 0.1253553330898285], [0.0, 0.0, 1.100000023841858]], [[0.0, 0.0, 0.0], [0.0, 2.0, 0.9999998211860657], [0.0, -59.60133743286133, 0.12388532608747482], [0.0, 0.0, 1.100000023841858]], [[0.0, 0.0, 0.0], [0.0, 2.0, 0.9999998211860657], [0.0, -59.70134353637695, 0.12241532653570175], [0.0, 0.0, 1.100000023841858]], [[0.0, 0.0, 0.0], [0.0, 2.0, 0.9999998211860657], [0.0, -59.80134963989258, 0.12094532698392868], [0.0, 0.0, 1.100000023841858]], [[0.0, 0.0, 0.0], [0.0, 2.0, 0.9999998211860657], [0.0, -59.9013557434082, 0.11947532743215561], [0.0, 0.0, 1.100000023841858]], [[0.0, 0.0, 0.0], [0.0, 2.0, 0.9999998211860657], [0.0, -60.00136184692383, 0.11800532788038254], [0.0, 0.0, 1.100000023841858]], [[0.0, 0.0, 0.0], [0.0, 2.0, 0.9999998211860657], [0.0, -60.10136795043945, 0.11653532832860947], [0.0, 0.0, 1.100000023841858]], [[0.0, 0.0, 0.0], [0.0, 2.0, 0.9999998211860657], [0.0, -60.20137405395508, 0.1150653287768364], [0.0, 0.0, 1.100000023841858]], [[0.0, 0.0, 0.0], [0.0, 2.0, 0.9999998211860657], [0.0, -60.3013801574707, 0.11359532922506332], [0.0, 0.0, 1.100000023841858]], [[0.0, 0.0, 0.0], [0.0, 2.0, 0.9999998211860657], [0.0, -60.40138626098633, 0.11212532967329025], [0.0, 0.0, 1.100000023841858]], [[0.0, 0.0, 0.0], [0.0, 2.0, 0.9999998211860657], [0.0, -60.50139236450195, 0.11065533012151718], [0.0, 0.0, 1.100000023841858]], [[0.0, 0.0, 0.0], [0.0, 2.0, 0.9999998211860657], [0.0, -60.60139846801758, 0.10918533056974411], [0.0, 0.0, 1.100000023841858]], [[0.0, 0.0, 0.0], [0.0, 2.0, 0.9999998211860657], [0.0, -60.7014045715332, 0.10771533101797104], [0.0, 0.0, 1.100000023841858]], [[0.0, 0.0, 0.0], [0.0, 2.0, 0.9999998211860657], [0.0, -60.80141067504883, 0.10624533146619797], [0.0, 0.0, 1.100000023841858]], [[0.0, 0.0, 0.0], [0.0, 2.0, 0.9999998211860657], [0.0, -60.90141677856445, 0.1047753319144249], [0.0, 0.0, 1.100000023841858]], [[0.0, 0.0, 0.0], [0.0, 2.0, 0.9999998211860657], [0.0, -61.00142288208008, 0.10330533236265182], [0.0, 0.0, 1.100000023841858]], [[0.0, 0.0, 0.0], [0.0, 2.0, 0.9999998211860657], [0.0, -61.1014289855957, 0.10183533281087875], [0.0, 0.0, 1.100000023841858]], [[0.0, 0.0, 0.0], [0.0, 2.0, 0.9999998211860657], [0.0, -61.20143508911133, 0.10036533325910568], [0.0, 0.0, 1.100000023841858]], [[0.0, 0.0, 0.0], [0.0, 2.0, 0.9999998211860657], [0.0, -61.30144119262695, 0.09889533370733261], [0.0, 0.0, 1.100000023841858]], [[0.0, 0.0, 0.0], [0.0, 2.0, 0.9999998211860657], [0.0, -61.40144729614258, 0.09742533415555954], [0.0, 0.0, 1.100000023841858]], [[0.0, 0.0, 0.0], [0.0, 2.0, 0.9999998211860657], [0.0, -61.5014533996582, 0.09595533460378647], [0.0, 0.0, 1.100000023841858]], [[0.0, 0.0, 0.0], [0.0, 2.0, 0.9999998211860657], [0.0, -61.60145950317383, 0.0944853350520134], [0.0, 0.0, 1.100000023841858]], [[0.0, 0.0, 0.0], [0.0, 2.0, 0.9999998211860657], [0.0, -61.70146560668945, 0.09301533550024033], [0.0, 0.0, 1.100000023841858]], [[0.0, 0.0, 0.0], [0.0, 2.0, 0.9999998211860657], [0.0, -61.80147171020508, 0.09154533594846725], [0.0, 0.0, 1.100000023841858]], [[0.0, 0.0, 0.0], [0.0, 2.0, 0.9999998211860657], [0.0, -61.9014778137207, 0.09007533639669418], [0.0, 0.0, 1.100000023841858]], [[0.0, 0.0, 0.0], [0.0, 2.0, 0.9999998211860657], [0.0, -62.00148391723633, 0.08860533684492111], [0.0, 0.0, 1.100000023841858]], [[0.0, 0.0, 0.0], [0.0, 2.0, 0.9999998211860657], [0.0, -62.10149002075195, 0.08713533729314804], [0.0, 0.0, 1.100000023841858]], [[0.0, 0.0, 0.0], [0.0, 2.0, 0.9999998211860657], [0.0, -62.20149612426758, 0.08566533774137497], [0.0, 0.0, 1.100000023841858]], [[0.0, 0.0, 0.0], [0.0, 2.0, 0.9999998211860657], [0.0, -62.3015022277832, 0.0841953381896019], [0.0, 0.0, 1.100000023841858]], [[0.0, 0.0, 0.0], [0.0, 2.0, 0.9999998211860657], [0.0, -62.40150833129883, 0.08272533863782883], [0.0, 0.0, 1.100000023841858]], [[0.0, 0.0, 0.0], [0.0, 2.0, 0.9999998211860657], [0.0, -62.50151443481445, 0.08125533908605576], [0.0, 0.0, 1.100000023841858]], [[0.0, 0.0, 0.0], [0.0, 2.0, 0.9999998211860657], [0.0, -62.60152053833008, 0.07978533953428268], [0.0, 0.0, 1.100000023841858]], [[0.0, 0.0, 0.0], [0.0, 2.0, 0.9999998211860657], [0.0, -62.7015266418457, 0.07831533998250961], [0.0, 0.0, 1.100000023841858]], [[0.0, 0.0, 0.0], [0.0, 2.0, 0.9999998211860657], [0.0, -62.80153274536133, 0.07684534043073654], [0.0, 0.0, 1.100000023841858]], [[0.0, 0.0, 0.0], [0.0, 2.0, 0.9999998211860657], [0.0, -62.90153884887695, 0.07537534087896347], [0.0, 0.0, 1.100000023841858]], [[0.0, 0.0, 0.0], [0.0, 2.0, 0.9999998211860657], [0.0, -63.00154495239258, 0.0739053413271904], [0.0, 0.0, 1.100000023841858]], [[0.0, 0.0, 0.0], [0.0, 2.0, 0.9999998211860657], [0.0, -63.1015510559082, 0.07243534177541733], [0.0, 0.0, 1.100000023841858]], [[0.0, 0.0, 0.0], [0.0, 2.0, 0.9999998211860657], [0.0, -63.20155715942383, 0.07096534222364426], [0.0, 0.0, 1.100000023841858]], [[0.0, 0.0, 0.0], [0.0, 2.0, 0.9999998211860657], [0.0, -63.30156326293945, 0.06949534267187119], [0.0, 0.0, 1.100000023841858]], [[0.0, 0.0, 0.0], [0.0, 2.0, 0.9999998211860657], [0.0, -63.40156936645508, 0.06802534312009811], [0.0, 0.0, 1.100000023841858]], [[0.0, 0.0, 0.0], [0.0, 2.0, 0.9999998211860657], [0.0, -63.5015754699707, 0.06655534356832504], [0.0, 0.0, 1.100000023841858]], [[0.0, 0.0, 0.0], [0.0, 2.0, 0.9999998211860657], [0.0, -63.60158157348633, 0.06508534401655197], [0.0, 0.0, 1.100000023841858]], [[0.0, 0.0, 0.0], [0.0, 2.0, 0.9999998211860657], [0.0, -63.70158767700195, 0.0636153444647789], [0.0, 0.0, 1.100000023841858]], [[0.0, 0.0, 0.0], [0.0, 2.0, 0.9999998211860657], [0.0, -63.80159378051758, 0.06214534491300583], [0.0, 0.0, 1.100000023841858]], [[0.0, 0.0, 0.0], [0.0, 2.0, 0.9999998211860657], [0.0, -63.9015998840332, 0.06067534536123276], [0.0, 0.0, 1.100000023841858]], [[0.0, 0.0, 0.0], [0.0, 2.0, 0.9999998211860657], [0.0, -64.00160217285156, 0.059205345809459686], [0.0, 0.0, 1.100000023841858]], [[0.0, 0.0, 0.0], [0.0, 2.0, 0.9999998211860657], [0.0, -64.10160827636719, 0.057735346257686615], [0.0, 0.0, 1.100000023841858]], [[0.0, 0.0, 0.0], [0.0, 2.0, 0.9999998211860657], [0.0, -64.20161437988281, 0.056265346705913544], [0.0, 0.0, 1.100000023841858]], [[0.0, 0.0, 0.0], [0.0, 2.0, 0.9999998211860657], [0.0, -64.30162048339844, 0.05479534715414047], [0.0, 0.0, 1.100000023841858]], [[0.0, 0.0, 0.0], [0.0, 2.0, 0.9999998211860657], [0.0, -64.40162658691406, 0.0533253476023674], [0.0, 0.0, 1.100000023841858]], [[0.0, 0.0, 0.0], [0.0, 2.0, 0.9999998211860657], [0.0, -64.50163269042969, 0.05185534805059433], [0.0, 0.0, 1.100000023841858]], [[0.0, 0.0, 0.0], [0.0, 2.0, 0.9999998211860657], [0.0, -64.60163879394531, 0.05038534849882126], [0.0, 0.0, 1.100000023841858]], [[0.0, 0.0, 0.0], [0.0, 2.0, 0.9999998211860657], [0.0, -64.70164489746094, 0.04891534894704819], [0.0, 0.0, 1.100000023841858]], [[0.0, 0.0, 0.0], [0.0, 2.0, 0.9999998211860657], [0.0, -64.80165100097656, 0.047445349395275116], [0.0, 0.0, 1.100000023841858]], [[0.0, 0.0, 0.0], [0.0, 2.0, 0.9999998211860657], [0.0, -64.90165710449219, 0.045975349843502045], [0.0, 0.0, 1.100000023841858]], [[0.0, 0.0, 0.0], [0.0, 2.0, 0.9999998211860657], [0.0, -65.00166320800781, 0.04450535029172897], [0.0, 0.0, 1.100000023841858]], [[0.0, 0.0, 0.0], [0.0, 2.0, 0.9999998211860657], [0.0, -65.10166931152344, 0.0430353507399559], [0.0, 0.0, 1.100000023841858]], [[0.0, 0.0, 0.0], [0.0, 2.0, 0.9999998211860657], [0.0, -65.20167541503906, 0.04156535118818283], [0.0, 0.0, 1.100000023841858]], [[0.0, 0.0, 0.0], [0.0, 2.0, 0.9999998211860657], [0.0, -65.30168151855469, 0.04009535163640976], [0.0, 0.0, 1.100000023841858]], [[0.0, 0.0, 0.0], [0.0, 2.0, 0.9999998211860657], [0.0, -65.40168762207031, 0.03862535208463669], [0.0, 0.0, 1.100000023841858]], [[0.0, 0.0, 0.0], [0.0, 2.0, 0.9999998211860657], [0.0, -65.50169372558594, 0.03715535253286362], [0.0, 0.0, 1.100000023841858]], [[0.0, 0.0, 0.0], [0.0, 2.0, 0.9999998211860657], [0.0, -65.60169982910156, 0.035685352981090546], [0.0, 0.0, 1.100000023841858]], [[0.0, 0.0, 0.0], [0.0, 2.0, 0.9999998211860657], [0.0, -65.70170593261719, 0.034215353429317474], [0.0, 0.0, 1.100000023841858]], [[0.0, 0.0, 0.0], [0.0, 2.0, 0.9999998211860657], [0.0, -65.80171203613281, 0.0327453538775444], [0.0, 0.0, 1.100000023841858]], [[0.0, 0.0, 0.0], [0.0, 2.0, 0.9999998211860657], [0.0, -65.90171813964844, 0.03127535432577133], [0.0, 0.0, 1.100000023841858]], [[0.0, 0.0, 0.0], [0.0, 2.0, 0.9999998211860657], [0.0, -66.00172424316406, 0.02980535477399826], [0.0, 0.0, 1.100000023841858]], [[0.0, 0.0, 0.0], [0.0, 2.0, 0.9999998211860657], [0.0, -66.10173034667969, 0.02833535522222519], [0.0, 0.0, 1.100000023841858]], [[0.0, 0.0, 0.0], [0.0, 2.0, 0.9999998211860657], [0.0, -66.20173645019531, 0.026865355670452118], [0.0, 0.0, 1.100000023841858]], [[0.0, 0.0, 0.0], [0.0, 2.0, 0.9999998211860657], [0.0, -66.30174255371094, 0.025395356118679047], [0.0, 0.0, 1.100000023841858]], [[0.0, 0.0, 0.0], [0.0, 2.0, 0.9999998211860657], [0.0, -66.40174865722656, 0.023925356566905975], [0.0, 0.0, 1.100000023841858]], [[0.0, 0.0, 0.0], [0.0, 2.0, 0.9999998211860657], [0.0, -66.50175476074219, 0.022455357015132904], [0.0, 0.0, 1.100000023841858]], [[0.0, 0.0, 0.0], [0.0, 2.0, 0.9999998211860657], [0.0, -66.60176086425781, 0.020985357463359833], [0.0, 0.0, 1.100000023841858]], [[0.0, 0.0, 0.0], [0.0, 2.0, 0.9999998211860657], [0.0, -66.70176696777344, 0.01951535791158676], [0.0, 0.0, 1.100000023841858]], [[0.0, 0.0, 0.0], [0.0, 2.0, 0.9999998211860657], [0.0, -66.80177307128906, 0.01804535835981369], [0.0, 0.0, 1.100000023841858]], [[0.0, 0.0, 0.0], [0.0, 2.0, 0.9999998211860657], [0.0, -66.90177917480469, 0.01657535880804062], [0.0, 0.0, 1.100000023841858]], [[0.0, 0.0, 0.0], [0.0, 2.0, 0.9999998211860657], [0.0, -67.00178527832031, 0.015105359256267548], [0.0, 0.0, 1.100000023841858]], [[0.0, 0.0, 0.0], [0.0, 2.0, 0.9999998211860657], [0.0, -67.10179138183594, 0.013635359704494476], [0.0, 0.0, 1.100000023841858]], [[0.0, 0.0, 0.0], [0.0, 2.0, 0.9999998211860657], [0.0, -67.20179748535156, 0.012165360152721405], [0.0, 0.0, 1.100000023841858]], [[0.0, 0.0, 0.0], [0.0, 2.0, 0.9999998211860657], [0.0, -67.30180358886719, 0.010695360600948334], [0.0, 0.0, 1.100000023841858]], [[0.0, 0.0, 0.0], [0.0, 2.0, 0.9999998211860657], [0.0, -67.40180969238281, 0.009225361049175262], [0.0, 0.0, 1.100000023841858]], [[0.0, 0.0, 0.0], [0.0, 2.0, 0.9999998211860657], [0.0, -67.50181579589844, 0.007755361497402191], [0.0, 0.0, 1.100000023841858]], [[0.0, 0.0, 0.0], [0.0, 2.0, 0.9999998211860657], [0.0, -67.60182189941406, 0.00628536194562912], [0.0, 0.0, 1.100000023841858]], [[0.0, 0.0, 0.0], [0.0, 2.0, 0.9999998211860657], [0.0, -67.70182800292969, 0.004815362393856049], [0.0, 0.0, 1.100000023841858]], [[0.0, 0.0, 0.0], [0.0, 2.0, 0.9999998211860657], [0.0, -67.80183410644531, 0.0033453626092523336], [0.0, 0.0, 1.100000023841858]], [[0.0, 0.0, 0.0], [0.0, 2.0, 0.9999998211860657], [0.0, -67.90184020996094, 0.001875362591817975], [0.0, 0.0, 1.100000023841858]], [[0.0, 0.0, 0.0], [0.0, 2.0, 0.9999998211860657], [0.0, -68.00184631347656, 0.00040536257438361645], [0.0, 0.0, 1.100000023841858]], [[0.0, 0.0, 0.0], [0.0, 2.0, 0.9999998211860657], [0.0, -68.10185241699219, -0.0010646373266354203], [0.0, 0.0, 1.100000023841858]], [[0.0, 0.0, 0.0], [0.0, 2.0, 0.9999998211860657], [0.0, -68.20185852050781, -0.002534637227654457], [0.0, 0.0, 1.100000023841858]], [[0.0, 0.0, 0.0], [0.0, 2.0, 0.9999998211860657], [0.0, -68.30186462402344, -0.004004637245088816], [0.0, 0.0, 1.100000023841858]], [[0.0, 0.0, 0.0], [0.0, 2.0, 0.9999998211860657], [0.0, -68.40187072753906, -0.005474637262523174], [0.0, 0.0, 1.100000023841858]], [[0.0, 0.0, 0.0], [0.0, 2.0, 0.9999998211860657], [0.0, -68.50187683105469, -0.006944636814296246], [0.0, 0.0, 1.100000023841858]], [[0.0, 0.0, 0.0], [0.0, 2.0, 0.9999998211860657], [0.0, -68.60188293457031, -0.008414636366069317], [0.0, 0.0, 1.100000023841858]], [[0.0, 0.0, 0.0], [0.0, 2.0, 0.9999998211860657], [0.0, -68.70188903808594, -0.009884635917842388], [0.0, 0.0, 1.100000023841858]], [[0.0, 0.0, 0.0], [0.0, 2.0, 0.9999998211860657], [0.0, -68.80189514160156, -0.01135463546961546], [0.0, 0.0, 1.100000023841858]], [[0.0, 0.0, 0.0], [0.0, 2.0, 0.9999998211860657], [0.0, -68.90190124511719, -0.01282463502138853], [0.0, 0.0, 1.100000023841858]], [[0.0, 0.0, 0.0], [0.0, 2.0, 0.9999998211860657], [0.0, -69.00190734863281, -0.014294634573161602], [0.0, 0.0, 1.100000023841858]], [[0.0, 0.0, 0.0], [0.0, 2.0, 0.9999998211860657], [0.0, -69.10191345214844, -0.015764635056257248], [0.0, 0.0, 1.100000023841858]], [[0.0, 0.0, 0.0], [0.0, 2.0, 0.9999998211860657], [0.0, -69.20191955566406, -0.01723463460803032], [0.0, 0.0, 1.100000023841858]], [[0.0, 0.0, 0.0], [0.0, 2.0, 0.9999998211860657], [0.0, -69.30192565917969, -0.01870463415980339], [0.0, 0.0, 1.100000023841858]], [[0.0, 0.0, 0.0], [0.0, 2.0, 0.9999998211860657], [0.0, -69.40193176269531, -0.020174633711576462], [0.0, 0.0, 1.100000023841858]], [[0.0, 0.0, 0.0], [0.0, 2.0, 0.9999998211860657], [0.0, -69.50193786621094, -0.021644633263349533], [0.0, 0.0, 1.100000023841858]], [[0.0, 0.0, 0.0], [0.0, 2.0, 0.9999998211860657], [0.0, -69.60194396972656, -0.023114632815122604], [0.0, 0.0, 1.100000023841858]], [[0.0, 0.0, 0.0], [0.0, 2.0, 0.9999998211860657], [0.0, -69.70195007324219, -0.024584632366895676], [0.0, 0.0, 1.100000023841858]], [[0.0, 0.0, 0.0], [0.0, 2.0, 0.9999998211860657], [0.0, -69.80195617675781, -0.026054631918668747], [0.0, 0.0, 1.100000023841858]], [[0.0, 0.0, 0.0], [0.0, 2.0, 0.9999998211860657], [0.0, -69.90196228027344, -0.027524631470441818], [0.0, 0.0, 1.100000023841858]], [[0.0, 0.0, 0.0], [0.0, 2.0, 0.9999998211860657], [0.0, -70.00196838378906, -0.02899463102221489], [0.0, 0.0, 1.100000023841858]], [[0.0, 0.0, 0.0], [0.0, 2.0, 0.9999998211860657], [0.0, -70.10197448730469, -0.03046463057398796], [0.0, 0.0, 1.100000023841858]], [[0.0, 0.0, 0.0], [0.0, 2.0, 0.9999998211860657], [0.0, -70.20198059082031, -0.03193463012576103], [0.0, 0.0, 1.100000023841858]], [[0.0, 0.0, 0.0], [0.0, 2.0, 0.9999998211860657], [0.0, -70.30198669433594, -0.0334046296775341], [0.0, 0.0, 1.100000023841858]], [[0.0, 0.0, 0.0], [0.0, 2.0, 0.9999998211860657], [0.0, -70.40199279785156, -0.034874629229307175], [0.0, 0.0, 1.100000023841858]], [[0.0, 0.0, 0.0], [0.0, 2.0, 0.9999998211860657], [0.0, -70.50199890136719, -0.036344628781080246], [0.0, 0.0, 1.100000023841858]], [[0.0, 0.0, 0.0], [0.0, 2.0, 0.9999998211860657], [0.0, -70.60200500488281, -0.03781462833285332], [0.0, 0.0, 1.100000023841858]], [[0.0, 0.0, 0.0], [0.0, 2.0, 0.9999998211860657], [0.0, -70.70201110839844, -0.03928462788462639], [0.0, 0.0, 1.100000023841858]], [[0.0, 0.0, 0.0], [0.0, 2.0, 0.9999998211860657], [0.0, -70.80201721191406, -0.04075462743639946], [0.0, 0.0, 1.100000023841858]], [[0.0, 0.0, 0.0], [0.0, 2.0, 0.9999998211860657], [0.0, -70.90202331542969, -0.04222462698817253], [0.0, 0.0, 1.100000023841858]], [[0.0, 0.0, 0.0], [0.0, 2.0, 0.9999998211860657], [0.0, -71.00202941894531, -0.0436946265399456], [0.0, 0.0, 1.100000023841858]], [[0.0, 0.0, 0.0], [0.0, 2.0, 0.9999998211860657], [0.0, -71.10203552246094, -0.045164626091718674], [0.0, 0.0, 1.100000023841858]], [[0.0, 0.0, 0.0], [0.0, 2.0, 0.9999998211860657], [0.0, -71.20204162597656, -0.046634625643491745], [0.0, 0.0, 1.100000023841858]], [[0.0, 0.0, 0.0], [0.0, 2.0, 0.9999998211860657], [0.0, -71.30204772949219, -0.048104625195264816], [0.0, 0.0, 1.100000023841858]], [[0.0, 0.0, 0.0], [0.0, 2.0, 0.9999998211860657], [0.0, -71.40205383300781, -0.04957462474703789], [0.0, 0.0, 1.100000023841858]], [[0.0, 0.0, 0.0], [0.0, 2.0, 0.9999998211860657], [0.0, -71.50205993652344, -0.05104462429881096], [0.0, 0.0, 1.100000023841858]], [[0.0, 0.0, 0.0], [0.0, 2.0, 0.9999998211860657], [0.0, -71.60206604003906, -0.05251462385058403], [0.0, 0.0, 1.100000023841858]], [[0.0, 0.0, 0.0], [0.0, 2.0, 0.9999998211860657], [0.0, -71.70207214355469, -0.0539846234023571], [0.0, 0.0, 1.100000023841858]], [[0.0, 0.0, 0.0], [0.0, 2.0, 0.9999998211860657], [0.0, -71.80207824707031, -0.05545462295413017], [0.0, 0.0, 1.100000023841858]], [[0.0, 0.0, 0.0], [0.0, 2.0, 0.9999998211860657], [0.0, -71.90208435058594, -0.056924622505903244], [0.0, 0.0, 1.100000023841858]], [[0.0, 0.0, 0.0], [0.0, 2.0, 0.9999998211860657], [0.0, -72.00209045410156, -0.058394622057676315], [0.0, 0.0, 1.100000023841858]], [[0.0, 0.0, 0.0], [0.0, 2.0, 0.9999998211860657], [0.0, -72.10209655761719, -0.05986462160944939], [0.0, 0.0, 1.100000023841858]], [[0.0, 0.0, 0.0], [0.0, 2.0, 0.9999998211860657], [0.0, -72.20210266113281, -0.06133462116122246], [0.0, 0.0, 1.100000023841858]], [[0.0, 0.0, 0.0], [0.0, 2.0, 0.9999998211860657], [0.0, -72.30210876464844, -0.06280462443828583], [0.0, 0.0, 1.100000023841858]], [[0.0, 0.0, 0.0], [0.0, 2.0, 0.9999998211860657], [0.0, -72.40211486816406, -0.0642746239900589], [0.0, 0.0, 1.100000023841858]], [[0.0, 0.0, 0.0], [0.0, 2.0, 0.9999998211860657], [0.0, -72.50212097167969, -0.06574462354183197], [0.0, 0.0, 1.100000023841858]], [[0.0, 0.0, 0.0], [0.0, 2.0, 0.9999998211860657], [0.0, -72.60212707519531, -0.06721462309360504], [0.0, 0.0, 1.100000023841858]], [[0.0, 0.0, 0.0], [0.0, 2.0, 0.9999998211860657], [0.0, -72.70213317871094, -0.06868462264537811], [0.0, 0.0, 1.100000023841858]], [[0.0, 0.0, 0.0], [0.0, 2.0, 0.9999998211860657], [0.0, -72.80213928222656, -0.07015462219715118], [0.0, 0.0, 1.100000023841858]], [[0.0, 0.0, 0.0], [0.0, 2.0, 0.9999998211860657], [0.0, -72.90214538574219, -0.07162462174892426], [0.0, 0.0, 1.100000023841858]], [[0.0, 0.0, 0.0], [0.0, 2.0, 0.9999998211860657], [0.0, -73.00215148925781, -0.07309462130069733], [0.0, 0.0, 1.100000023841858]], [[0.0, 0.0, 0.0], [0.0, 2.0, 0.9999998211860657], [0.0, -73.10215759277344, -0.0745646208524704], [0.0, 0.0, 1.100000023841858]], [[0.0, 0.0, 0.0], [0.0, 2.0, 0.9999998211860657], [0.0, -73.20216369628906, -0.07603462040424347], [0.0, 0.0, 1.100000023841858]], [[0.0, 0.0, 0.0], [0.0, 2.0, 0.9999998211860657], [0.0, -73.30216979980469, -0.07750461995601654], [0.0, 0.0, 1.100000023841858]], [[0.0, 0.0, 0.0], [0.0, 2.0, 0.9999998211860657], [0.0, -73.40217590332031, -0.07897461950778961], [0.0, 0.0, 1.100000023841858]], [[0.0, 0.0, 0.0], [0.0, 2.0, 0.9999998211860657], [0.0, -73.50218200683594, -0.08044461905956268], [0.0, 0.0, 1.100000023841858]], [[0.0, 0.0, 0.0], [0.0, 2.0, 0.9999998211860657], [0.0, -73.60218811035156, -0.08191461861133575], [0.0, 0.0, 1.100000023841858]], [[0.0, 0.0, 0.0], [0.0, 2.0, 0.9999998211860657], [0.0, -73.70219421386719, -0.08338461816310883], [0.0, 0.0, 1.100000023841858]], [[0.0, 0.0, 0.0], [0.0, 2.0, 0.9999998211860657], [0.0, -73.80220031738281, -0.0848546177148819], [0.0, 0.0, 1.100000023841858]], [[0.0, 0.0, 0.0], [0.0, 2.0, 0.9999998211860657], [0.0, -73.90220642089844, -0.08632461726665497], [0.0, 0.0, 1.100000023841858]], [[0.0, 0.0, 0.0], [0.0, 2.0, 0.9999998211860657], [0.0, -74.00221252441406, -0.08779461681842804], [0.0, 0.0, 1.100000023841858]], [[0.0, 0.0, 0.0], [0.0, 2.0, 0.9999998211860657], [0.0, -74.10221862792969, -0.08926461637020111], [0.0, 0.0, 1.100000023841858]], [[0.0, 0.0, 0.0], [0.0, 2.0, 0.9999998211860657], [0.0, -74.20222473144531, -0.09073461592197418], [0.0, 0.0, 1.100000023841858]], [[0.0, 0.0, 0.0], [0.0, 2.0, 0.9999998211860657], [0.0, -74.30223083496094, -0.09220461547374725], [0.0, 0.0, 1.100000023841858]], [[0.0, 0.0, 0.0], [0.0, 2.0, 0.9999998211860657], [0.0, -74.40223693847656, -0.09367461502552032], [0.0, 0.0, 1.100000023841858]], [[0.0, 0.0, 0.0], [0.0, 2.0, 0.9999998211860657], [0.0, -74.50224304199219, -0.0951446145772934], [0.0, 0.0, 1.100000023841858]], [[0.0, 0.0, 0.0], [0.0, 2.0, 0.9999998211860657], [0.0, -74.60224914550781, -0.09661461412906647], [0.0, 0.0, 1.100000023841858]], [[0.0, 0.0, 0.0], [0.0, 2.0, 0.9999998211860657], [0.0, -74.70225524902344, -0.09808461368083954], [0.0, 0.0, 1.100000023841858]], [[0.0, 0.0, 0.0], [0.0, 2.0, 0.9999998211860657], [0.0, -74.80226135253906, -0.09955461323261261], [0.0, 0.0, 1.100000023841858]], [[0.0, 0.0, 0.0], [0.0, 2.0, 0.9999998211860657], [0.0, -74.90226745605469, -0.10102461278438568], [0.0, 0.0, 1.100000023841858]], [[0.0, 0.0, 0.0], [0.0, 2.0, 0.9999998211860657], [0.0, -75.00227355957031, -0.10249461233615875], [0.0, 0.0, 1.100000023841858]], [[0.0, 0.0, 0.0], [0.0, 2.0, 0.9999998211860657], [0.0, -75.10227966308594, -0.10396461188793182], [0.0, 0.0, 1.100000023841858]], [[0.0, 0.0, 0.0], [0.0, 2.0, 0.9999998211860657], [0.0, -75.20228576660156, -0.1054346114397049], [0.0, 0.0, 1.100000023841858]], [[0.0, 0.0, 0.0], [0.0, 2.0, 0.9999998211860657], [0.0, -75.30229187011719, -0.10690461099147797], [0.0, 0.0, 1.100000023841858]], [[0.0, 0.0, 0.0], [0.0, 2.0, 0.9999998211860657], [0.0, -75.40229797363281, -0.10837461054325104], [0.0, 0.0, 1.100000023841858]], [[0.0, 0.0, 0.0], [0.0, 2.0, 0.9999998211860657], [0.0, -75.50230407714844, -0.10984461009502411], [0.0, 0.0, 1.100000023841858]], [[0.0, 0.0, 0.0], [0.0, 2.0, 0.9999998211860657], [0.0, -75.60231018066406, -0.11131460964679718], [0.0, 0.0, 1.100000023841858]], [[0.0, 0.0, 0.0], [0.0, 2.0, 0.9999998211860657], [0.0, -75.70231628417969, -0.11278460919857025], [0.0, 0.0, 1.100000023841858]], [[0.0, 0.0, 0.0], [0.0, 2.0, 0.9999998211860657], [0.0, -75.80232238769531, -0.11425460875034332], [0.0, 0.0, 1.100000023841858]], [[0.0, 0.0, 0.0], [0.0, 2.0, 0.9999998211860657], [0.0, -75.90232849121094, -0.1157246083021164], [0.0, 0.0, 1.100000023841858]], [[0.0, 0.0, 0.0], [0.0, 2.0, 0.9999998211860657], [0.0, -76.00233459472656, -0.11719460785388947], [0.0, 0.0, 1.100000023841858]], [[0.0, 0.0, 0.0], [0.0, 2.0, 0.9999998211860657], [0.0, -76.10234069824219, -0.11866460740566254], [0.0, 0.0, 1.100000023841858]], [[0.0, 0.0, 0.0], [0.0, 2.0, 0.9999998211860657], [0.0, -76.20234680175781, -0.12013460695743561], [0.0, 0.0, 1.100000023841858]], [[0.0, 0.0, 0.0], [0.0, 2.0, 0.9999998211860657], [0.0, -76.30235290527344, -0.12160460650920868], [0.0, 0.0, 1.100000023841858]], [[0.0, 0.0, 0.0], [0.0, 2.0, 0.9999998211860657], [0.0, -76.40235900878906, -0.12307460606098175], [0.0, 0.0, 1.100000023841858]], [[0.0, 0.0, 0.0], [0.0, 2.0, 0.9999998211860657], [0.0, -76.50236511230469, -0.12454460561275482], [0.0, 0.0, 1.100000023841858]], [[0.0, 0.0, 0.0], [0.0, 2.0, 0.9999998211860657], [0.0, -76.60237121582031, -0.1260146051645279], [0.0, 0.0, 1.100000023841858]], [[0.0, 0.0, 0.0], [0.0, 2.0, 0.9999998211860657], [0.0, -76.70237731933594, -0.12748460471630096], [0.0, 0.0, 1.100000023841858]], [[0.0, 0.0, 0.0], [0.0, 2.0, 0.9999998211860657], [0.0, -76.80238342285156, -0.12895460426807404], [0.0, 0.0, 1.100000023841858]], [[0.0, 0.0, 0.0], [0.0, 2.0, 0.9999998211860657], [0.0, -76.90238952636719, -0.1304246038198471], [0.0, 0.0, 1.100000023841858]], [[0.0, 0.0, 0.0], [0.0, 2.0, 0.9999998211860657], [0.0, -77.00239562988281, -0.13189460337162018], [0.0, 0.0, 1.100000023841858]], [[0.0, 0.0, 0.0], [0.0, 2.0, 0.9999998211860657], [0.0, -77.10240173339844, -0.13336460292339325], [0.0, 0.0, 1.100000023841858]], [[0.0, 0.0, 0.0], [0.0, 2.0, 0.9999998211860657], [0.0, -77.20240783691406, -0.13483460247516632], [0.0, 0.0, 1.100000023841858]], [[0.0, 0.0, 0.0], [0.0, 2.0, 0.9999998211860657], [0.0, -77.30241394042969, -0.1363046020269394], [0.0, 0.0, 1.100000023841858]], [[0.0, 0.0, 0.0], [0.0, 2.0, 0.9999998211860657], [0.0, -77.40242004394531, -0.13777460157871246], [0.0, 0.0, 1.100000023841858]], [[0.0, 0.0, 0.0], [0.0, 2.0, 0.9999998211860657], [0.0, -77.50242614746094, -0.13924460113048553], [0.0, 0.0, 1.100000023841858]], [[0.0, 0.0, 0.0], [0.0, 2.0, 0.9999998211860657], [0.0, -77.60243225097656, -0.1407146006822586], [0.0, 0.0, 1.100000023841858]], [[0.0, 0.0, 0.0], [0.0, 2.0, 0.9999998211860657], [0.0, -77.70243835449219, -0.14218460023403168], [0.0, 0.0, 1.100000023841858]], [[0.0, 0.0, 0.0], [0.0, 2.0, 0.9999998211860657], [0.0, -77.80244445800781, -0.14365459978580475], [0.0, 0.0, 1.100000023841858]], [[0.0, 0.0, 0.0], [0.0, 2.0, 0.9999998211860657], [0.0, -77.90245056152344, -0.14512459933757782], [0.0, 0.0, 1.100000023841858]], [[0.0, 0.0, 0.0], [0.0, 2.0, 0.9999998211860657], [0.0, -78.00245666503906, -0.1465945988893509], [0.0, 0.0, 1.100000023841858]], [[0.0, 0.0, 0.0], [0.0, 2.0, 0.9999998211860657], [0.0, -78.10246276855469, -0.14806459844112396], [0.0, 0.0, 1.100000023841858]], [[0.0, 0.0, 0.0], [0.0, 2.0, 0.9999998211860657], [0.0, -78.20246887207031, -0.14953459799289703], [0.0, 0.0, 1.100000023841858]], [[0.0, 0.0, 0.0], [0.0, 2.0, 0.9999998211860657], [0.0, -78.30247497558594, -0.1510045975446701], [0.0, 0.0, 1.100000023841858]], [[0.0, 0.0, 0.0], [0.0, 2.0, 0.9999998211860657], [0.0, -78.40248107910156, -0.15247459709644318], [0.0, 0.0, 1.100000023841858]], [[0.0, 0.0, 0.0], [0.0, 2.0, 0.9999998211860657], [0.0, -78.50248718261719, -0.15394459664821625], [0.0, 0.0, 1.100000023841858]], [[0.0, 0.0, 0.0], [0.0, 2.0, 0.9999998211860657], [0.0, -78.60249328613281, -0.15541459619998932], [0.0, 0.0, 1.100000023841858]], [[0.0, 0.0, 0.0], [0.0, 2.0, 0.9999998211860657], [0.0, -78.70249938964844, -0.1568845957517624], [0.0, 0.0, 1.100000023841858]], [[0.0, 0.0, 0.0], [0.0, 2.0, 0.9999998211860657], [0.0, -78.80250549316406, -0.15835459530353546], [0.0, 0.0, 1.100000023841858]], [[0.0, 0.0, 0.0], [0.0, 2.0, 0.9999998211860657], [0.0, -78.90251159667969, -0.15982459485530853], [0.0, 0.0, 1.100000023841858]], [[0.0, 0.0, 0.0], [0.0, 2.0, 0.9999998211860657], [0.0, -79.00251770019531, -0.1612945944070816], [0.0, 0.0, 1.100000023841858]], [[0.0, 0.0, 0.0], [0.0, 2.0, 0.9999998211860657], [0.0, -79.10252380371094, -0.16276459395885468], [0.0, 0.0, 1.100000023841858]], [[0.0, 0.0, 0.0], [0.0, 2.0, 0.9999998211860657], [0.0, -79.20252990722656, -0.16423459351062775], [0.0, 0.0, 1.100000023841858]], [[0.0, 0.0, 0.0], [0.0, 2.0, 0.9999998211860657], [0.0, -79.30253601074219, -0.16570459306240082], [0.0, 0.0, 1.100000023841858]], [[0.0, 0.0, 0.0], [0.0, 2.0, 0.9999998211860657], [0.0, -79.40254211425781, -0.1671745926141739], [0.0, 0.0, 1.100000023841858]], [[0.0, 0.0, 0.0], [0.0, 2.0, 0.9999998211860657], [0.0, -79.50254821777344, -0.16864459216594696], [0.0, 0.0, 1.100000023841858]], [[0.0, 0.0, 0.0], [0.0, 2.0, 0.9999998211860657], [0.0, -79.60255432128906, -0.17011459171772003], [0.0, 0.0, 1.100000023841858]], [[0.0, 0.0, 0.0], [0.0, 2.0, 0.9999998211860657], [0.0, -79.70256042480469, -0.1715845912694931], [0.0, 0.0, 1.100000023841858]], [[0.0, 0.0, 0.0], [0.0, 2.0, 0.9999998211860657], [0.0, -79.80256652832031, -0.17305459082126617], [0.0, 0.0, 1.100000023841858]], [[0.0, 0.0, 0.0], [0.0, 2.0, 0.9999998211860657], [0.0, -79.90257263183594, -0.17452459037303925], [0.0, 0.0, 1.100000023841858]]], \"rot\": [[[1.0, 0.0, 0.0, 0.0], [1.0, 0.0, 0.0, 0.0], [1.0, 0.0, 0.0, 0.0], [1.0, 0.0, 0.0, 0.0]], [[1.0, 0.0, 0.0, 0.0], [1.0, 0.0, 0.0, 0.0], [1.0, 0.0, 0.0, 0.0], [1.0, 0.0, 0.0, 0.0]], [[1.0, 0.0, 0.0, 0.0], [1.0, 0.0, 0.0, 0.0], [1.0, 0.0, 0.0, 0.0], [1.0, 0.0, 0.0, 0.0]], [[1.0, 0.0, 0.0, 0.0], [1.0, 0.0, 0.0, 0.0], [1.0, 0.0, 0.0, 0.0], [1.0, 0.0, 0.0, 0.0]], [[1.0, 0.0, 0.0, 0.0], [1.0, 0.0, 0.0, 0.0], [1.0, 0.0, 0.0, 0.0], [1.0, 0.0, 0.0, 0.0]], [[1.0, 0.0, 0.0, 0.0], [1.0, 0.0, 0.0, 0.0], [1.0, 0.0, 0.0, 0.0], [1.0, 0.0, 0.0, 0.0]], [[1.0, 0.0, 0.0, 0.0], [1.0, 0.0, 0.0, 0.0], [1.0, 0.0, 0.0, 0.0], [1.0, 0.0, 0.0, 0.0]], [[1.0, 0.0, 0.0, 0.0], [1.0, 0.0, 0.0, 0.0], [1.0, 0.0, 0.0, 0.0], [1.0, 0.0, 0.0, 0.0]], [[1.0, 0.0, 0.0, 0.0], [1.0, 0.0, 0.0, 0.0], [1.0, 0.0, 0.0, 0.0], [1.0, 0.0, 0.0, 0.0]], [[1.0, 0.0, 0.0, 0.0], [1.0, 0.0, 0.0, 0.0], [1.0, 0.0, 0.0, 0.0], [1.0, 0.0, 0.0, 0.0]], [[1.0, 0.0, 0.0, 0.0], [1.0, 0.0, 0.0, 0.0], [1.0, 0.0, 0.0, 0.0], [1.0, 0.0, 0.0, 0.0]], [[1.0, 0.0, 0.0, 0.0], [1.0, 0.0, 0.0, 0.0], [1.0, 0.0, 0.0, 0.0], [1.0, 0.0, 0.0, 0.0]], [[1.0, 0.0, 0.0, 0.0], [1.0, 0.0, 0.0, 0.0], [1.0, 0.0, 0.0, 0.0], [1.0, 0.0, 0.0, 0.0]], [[1.0, 0.0, 0.0, 0.0], [1.0, 0.0, 0.0, 0.0], [1.0, 0.0, 0.0, 0.0], [1.0, 0.0, 0.0, 0.0]], [[1.0, 0.0, 0.0, 0.0], [1.0, 0.0, 0.0, 0.0], [1.0, 0.0, 0.0, 0.0], [1.0, 0.0, 0.0, 0.0]], [[1.0, 0.0, 0.0, 0.0], [1.0, 0.0, 0.0, 0.0], [1.0, 0.0, 0.0, 0.0], [1.0, 0.0, 0.0, 0.0]], [[1.0, 0.0, 0.0, 0.0], [1.0, 0.0, 0.0, 0.0], [1.0, 0.0, 0.0, 0.0], [1.0, 0.0, 0.0, 0.0]], [[1.0, 0.0, 0.0, 0.0], [1.0, 0.0, 0.0, 0.0], [1.0, 0.0, 0.0, 0.0], [1.0, 0.0, 0.0, 0.0]], [[1.0, 0.0, 0.0, 0.0], [1.0, 0.0, 0.0, 0.0], [1.0, 0.0, 0.0, 0.0], [1.0, 0.0, 0.0, 0.0]], [[1.0, 0.0, 0.0, 0.0], [1.0, 0.0, 0.0, 0.0], [1.0, 0.0, 0.0, 0.0], [1.0, 0.0, 0.0, 0.0]], [[1.0, 0.0, 0.0, 0.0], [1.0, 0.0, 0.0, 0.0], [1.0, 0.0, 0.0, 0.0], [1.0, 0.0, 0.0, 0.0]], [[1.0, 0.0, 0.0, 0.0], [1.0, 0.0, 0.0, 0.0], [1.0, 0.0, 0.0, 0.0], [1.0, 0.0, 0.0, 0.0]], [[1.0, 0.0, 0.0, 0.0], [1.0, 0.0, 0.0, 0.0], [1.0, 0.0, 0.0, 0.0], [1.0, 0.0, 0.0, 0.0]], [[1.0, 0.0, 0.0, 0.0], [1.0, 0.0, 0.0, 0.0], [1.0, 0.0, 0.0, 0.0], [1.0, 0.0, 0.0, 0.0]], [[1.0, 0.0, 0.0, 0.0], [1.0, 0.0, 0.0, 0.0], [1.0, 0.0, 0.0, 0.0], [1.0, 0.0, 0.0, 0.0]], [[1.0, 0.0, 0.0, 0.0], [1.0, 0.0, 0.0, 0.0], [1.0, 0.0, 0.0, 0.0], [1.0, 0.0, 0.0, 0.0]], [[1.0, 0.0, 0.0, 0.0], [1.0, 0.0, 0.0, 0.0], [1.0, 0.0, 0.0, 0.0], [1.0, 0.0, 0.0, 0.0]], [[1.0, 0.0, 0.0, 0.0], [1.0, 0.0, 0.0, 0.0], [1.0, 0.0, 0.0, 0.0], [1.0, 0.0, 0.0, 0.0]], [[1.0, 0.0, 0.0, 0.0], [1.0, 0.0, 0.0, 0.0], [1.0, 0.0, 0.0, 0.0], [1.0, 0.0, 0.0, 0.0]], [[1.0, 0.0, 0.0, 0.0], [1.0, 0.0, 0.0, 0.0], [1.0, 0.0, 0.0, 0.0], [1.0, 0.0, 0.0, 0.0]], [[1.0, 0.0, 0.0, 0.0], [1.0, 0.0, 0.0, 0.0], [1.0, 0.0, 0.0, 0.0], [1.0, 0.0, 0.0, 0.0]], [[1.0, 0.0, 0.0, 0.0], [1.0, 0.0, 0.0, 0.0], [1.0, 0.0, 0.0, 0.0], [1.0, 0.0, 0.0, 0.0]], [[1.0, 0.0, 0.0, 0.0], [1.0, 0.0, 0.0, 0.0], [1.0, 0.0, 0.0, 0.0], [1.0, 0.0, 0.0, 0.0]], [[1.0, 0.0, 0.0, 0.0], [1.0, 0.0, 0.0, 0.0], [1.0, 0.0, 0.0, 0.0], [1.0, 0.0, 0.0, 0.0]], [[1.0, 0.0, 0.0, 0.0], [1.0, 0.0, 0.0, 0.0], [1.0, 0.0, 0.0, 0.0], [1.0, 0.0, 0.0, 0.0]], [[1.0, 0.0, 0.0, 0.0], [1.0, 0.0, 0.0, 0.0], [1.0, 0.0, 0.0, 0.0], [1.0, 0.0, 0.0, 0.0]], [[1.0, 0.0, 0.0, 0.0], [1.0, 0.0, 0.0, 0.0], [1.0, 0.0, 0.0, 0.0], [1.0, 0.0, 0.0, 0.0]], [[1.0, 0.0, 0.0, 0.0], [1.0, 0.0, 0.0, 0.0], [1.0, 0.0, 0.0, 0.0], [1.0, 0.0, 0.0, 0.0]], [[1.0, 0.0, 0.0, 0.0], [1.0, 0.0, 0.0, 0.0], [1.0, 0.0, 0.0, 0.0], [1.0, 0.0, 0.0, 0.0]], [[1.0, 0.0, 0.0, 0.0], [1.0, 0.0, 0.0, 0.0], [1.0, 0.0, 0.0, 0.0], [1.0, 0.0, 0.0, 0.0]], [[1.0, 0.0, 0.0, 0.0], [1.0, 0.0, 0.0, 0.0], [1.0, 0.0, 0.0, 0.0], [1.0, 0.0, 0.0, 0.0]], [[1.0, 0.0, 0.0, 0.0], [1.0, 0.0, 0.0, 0.0], [1.0, 0.0, 0.0, 0.0], [1.0, 0.0, 0.0, 0.0]], [[1.0, 0.0, 0.0, 0.0], [1.0, 0.0, 0.0, 0.0], [1.0, 0.0, 0.0, 0.0], [1.0, 0.0, 0.0, 0.0]], [[1.0, 0.0, 0.0, 0.0], [1.0, 0.0, 0.0, 0.0], [1.0, 0.0, 0.0, 0.0], [1.0, 0.0, 0.0, 0.0]], [[1.0, 0.0, 0.0, 0.0], [1.0, 0.0, 0.0, 0.0], [1.0, 0.0, 0.0, 0.0], [1.0, 0.0, 0.0, 0.0]], [[1.0, 0.0, 0.0, 0.0], [1.0, 0.0, 0.0, 0.0], [1.0, 0.0, 0.0, 0.0], [1.0, 0.0, 0.0, 0.0]], [[1.0, 0.0, 0.0, 0.0], [1.0, 0.0, 0.0, 0.0], [1.0, 0.0, 0.0, 0.0], [1.0, 0.0, 0.0, 0.0]], [[1.0, 0.0, 0.0, 0.0], [1.0, 0.0, 0.0, 0.0], [1.0, 0.0, 0.0, 0.0], [1.0, 0.0, 0.0, 0.0]], [[1.0, 0.0, 0.0, 0.0], [1.0, 0.0, 0.0, 0.0], [1.0, 0.0, 0.0, 0.0], [1.0, 0.0, 0.0, 0.0]], [[1.0, 0.0, 0.0, 0.0], [1.0, 0.0, 0.0, 0.0], [1.0, 0.0, 0.0, 0.0], [1.0, 0.0, 0.0, 0.0]], [[1.0, 0.0, 0.0, 0.0], [1.0, 0.0, 0.0, 0.0], [1.0, 0.0, 0.0, 0.0], [1.0, 0.0, 0.0, 0.0]], [[1.0, 0.0, 0.0, 0.0], [1.0, 0.0, 0.0, 0.0], [1.0, 0.0, 0.0, 0.0], [1.0, 0.0, 0.0, 0.0]], [[1.0, 0.0, 0.0, 0.0], [1.0, 0.0, 0.0, 0.0], [1.0, 0.0, 0.0, 0.0], [1.0, 0.0, 0.0, 0.0]], [[1.0, 0.0, 0.0, 0.0], [1.0, 0.0, 0.0, 0.0], [1.0, 0.0, 0.0, 0.0], [1.0, 0.0, 0.0, 0.0]], [[1.0, 0.0, 0.0, 0.0], [1.0, 0.0, 0.0, 0.0], [1.0, 0.0, 0.0, 0.0], [1.0, 0.0, 0.0, 0.0]], [[1.0, 0.0, 0.0, 0.0], [1.0, 0.0, 0.0, 0.0], [1.0, 0.0, 0.0, 0.0], [1.0, 0.0, 0.0, 0.0]], [[1.0, 0.0, 0.0, 0.0], [1.0, 0.0, 0.0, 0.0], [1.0, 0.0, 0.0, 0.0], [1.0, 0.0, 0.0, 0.0]], [[1.0, 0.0, 0.0, 0.0], [1.0, 0.0, 0.0, 0.0], [1.0, 0.0, 0.0, 0.0], [1.0, 0.0, 0.0, 0.0]], [[1.0, 0.0, 0.0, 0.0], [1.0, 0.0, 0.0, 0.0], [1.0, 0.0, 0.0, 0.0], [1.0, 0.0, 0.0, 0.0]], [[1.0, 0.0, 0.0, 0.0], [1.0, 0.0, 0.0, 0.0], [1.0, 0.0, 0.0, 0.0], [1.0, 0.0, 0.0, 0.0]], [[1.0, 0.0, 0.0, 0.0], [1.0, 0.0, 0.0, 0.0], [1.0, 0.0, 0.0, 0.0], [1.0, 0.0, 0.0, 0.0]], [[1.0, 0.0, 0.0, 0.0], [1.0, 0.0, 0.0, 0.0], [1.0, 0.0, 0.0, 0.0], [1.0, 0.0, 0.0, 0.0]], [[1.0, 0.0, 0.0, 0.0], [1.0, 0.0, 0.0, 0.0], [1.0, 0.0, 0.0, 0.0], [1.0, 0.0, 0.0, 0.0]], [[1.0, 0.0, 0.0, 0.0], [1.0, 0.0, 0.0, 0.0], [1.0, 0.0, 0.0, 0.0], [1.0, 0.0, 0.0, 0.0]], [[1.0, 0.0, 0.0, 0.0], [1.0, 0.0, 0.0, 0.0], [1.0, 0.0, 0.0, 0.0], [1.0, 0.0, 0.0, 0.0]], [[1.0, 0.0, 0.0, 0.0], [1.0, 0.0, 0.0, 0.0], [1.0, 0.0, 0.0, 0.0], [1.0, 0.0, 0.0, 0.0]], [[1.0, 0.0, 0.0, 0.0], [1.0, 0.0, 0.0, 0.0], [1.0, 0.0, 0.0, 0.0], [1.0, 0.0, 0.0, 0.0]], [[1.0, 0.0, 0.0, 0.0], [1.0, 0.0, 0.0, 0.0], [1.0, 0.0, 0.0, 0.0], [1.0, 0.0, 0.0, 0.0]], [[1.0, 0.0, 0.0, 0.0], [1.0, 0.0, 0.0, 0.0], [1.0, 0.0, 0.0, 0.0], [1.0, 0.0, 0.0, 0.0]], [[1.0, 0.0, 0.0, 0.0], [1.0, 0.0, 0.0, 0.0], [1.0, 0.0, 0.0, 0.0], [1.0, 0.0, 0.0, 0.0]], [[1.0, 0.0, 0.0, 0.0], [1.0, 0.0, 0.0, 0.0], [1.0, 0.0, 0.0, 0.0], [1.0, 0.0, 0.0, 0.0]], [[1.0, 0.0, 0.0, 0.0], [1.0, 0.0, 0.0, 0.0], [1.0, 0.0, 0.0, 0.0], [1.0, 0.0, 0.0, 0.0]], [[1.0, 0.0, 0.0, 0.0], [1.0, 0.0, 0.0, 0.0], [1.0, 0.0, 0.0, 0.0], [1.0, 0.0, 0.0, 0.0]], [[1.0, 0.0, 0.0, 0.0], [1.0, 0.0, 0.0, 0.0], [1.0, 0.0, 0.0, 0.0], [1.0, 0.0, 0.0, 0.0]], [[1.0, 0.0, 0.0, 0.0], [1.0, 0.0, 0.0, 0.0], [1.0, 0.0, 0.0, 0.0], [1.0, 0.0, 0.0, 0.0]], [[1.0, 0.0, 0.0, 0.0], [1.0, 0.0, 0.0, 0.0], [1.0, 0.0, 0.0, 0.0], [1.0, 0.0, 0.0, 0.0]], [[1.0, 0.0, 0.0, 0.0], [1.0, 0.0, 0.0, 0.0], [1.0, 0.0, 0.0, 0.0], [1.0, 0.0, 0.0, 0.0]], [[1.0, 0.0, 0.0, 0.0], [1.0, 0.0, 0.0, 0.0], [1.0, 0.0, 0.0, 0.0], [1.0, 0.0, 0.0, 0.0]], [[1.0, 0.0, 0.0, 0.0], [1.0, 0.0, 0.0, 0.0], [1.0, 0.0, 0.0, 0.0], [1.0, 0.0, 0.0, 0.0]], [[1.0, 0.0, 0.0, 0.0], [1.0, 0.0, 0.0, 0.0], [1.0, 0.0, 0.0, 0.0], [1.0, 0.0, 0.0, 0.0]], [[1.0, 0.0, 0.0, 0.0], [1.0, 0.0, 0.0, 0.0], [1.0, 0.0, 0.0, 0.0], [1.0, 0.0, 0.0, 0.0]], [[1.0, 0.0, 0.0, 0.0], [1.0, 0.0, 0.0, 0.0], [1.0, 0.0, 0.0, 0.0], [1.0, 0.0, 0.0, 0.0]], [[1.0, 0.0, 0.0, 0.0], [1.0, 0.0, 0.0, 0.0], [1.0, 0.0, 0.0, 0.0], [1.0, 0.0, 0.0, 0.0]], [[1.0, 0.0, 0.0, 0.0], [1.0, 0.0, 0.0, 0.0], [1.0, 0.0, 0.0, 0.0], [1.0, 0.0, 0.0, 0.0]], [[1.0, 0.0, 0.0, 0.0], [1.0, 0.0, 0.0, 0.0], [1.0, 0.0, 0.0, 0.0], [1.0, 0.0, 0.0, 0.0]], [[1.0, 0.0, 0.0, 0.0], [1.0, 0.0, 0.0, 0.0], [1.0, 0.0, 0.0, 0.0], [1.0, 0.0, 0.0, 0.0]], [[1.0, 0.0, 0.0, 0.0], [1.0, 0.0, 0.0, 0.0], [1.0, 0.0, 0.0, 0.0], [1.0, 0.0, 0.0, 0.0]], [[1.0, 0.0, 0.0, 0.0], [1.0, 0.0, 0.0, 0.0], [1.0, 0.0, 0.0, 0.0], [1.0, 0.0, 0.0, 0.0]], [[1.0, 0.0, 0.0, 0.0], [1.0, 0.0, 0.0, 0.0], [1.0, 0.0, 0.0, 0.0], [1.0, 0.0, 0.0, 0.0]], [[1.0, 0.0, 0.0, 0.0], [1.0, 0.0, 0.0, 0.0], [1.0, 0.0, 0.0, 0.0], [1.0, 0.0, 0.0, 0.0]], [[1.0, 0.0, 0.0, 0.0], [1.0, 0.0, 0.0, 0.0], [1.0, 0.0, 0.0, 0.0], [1.0, 0.0, 0.0, 0.0]], [[1.0, 0.0, 0.0, 0.0], [1.0, 0.0, 0.0, 0.0], [1.0, 0.0, 0.0, 0.0], [1.0, 0.0, 0.0, 0.0]], [[1.0, 0.0, 0.0, 0.0], [1.0, 0.0, 0.0, 0.0], [1.0, 0.0, 0.0, 0.0], [1.0, 0.0, 0.0, 0.0]], [[1.0, 0.0, 0.0, 0.0], [1.0, 0.0, 0.0, 0.0], [1.0, 0.0, 0.0, 0.0], [1.0, 0.0, 0.0, 0.0]], [[1.0, 0.0, 0.0, 0.0], [1.0, 0.0, 0.0, 0.0], [1.0, 0.0, 0.0, 0.0], [1.0, 0.0, 0.0, 0.0]], [[1.0, 0.0, 0.0, 0.0], [1.0, 0.0, 0.0, 0.0], [1.0, 0.0, 0.0, 0.0], [1.0, 0.0, 0.0, 0.0]], [[1.0, 0.0, 0.0, 0.0], [1.0, 0.0, 0.0, 0.0], [1.0, 0.0, 0.0, 0.0], [1.0, 0.0, 0.0, 0.0]], [[1.0, 0.0, 0.0, 0.0], [1.0, 0.0, 0.0, 0.0], [1.0, 0.0, 0.0, 0.0], [1.0, 0.0, 0.0, 0.0]], [[1.0, 0.0, 0.0, 0.0], [1.0, 0.0, 0.0, 0.0], [1.0, 0.0, 0.0, 0.0], [1.0, 0.0, 0.0, 0.0]], [[1.0, 0.0, 0.0, 0.0], [1.0, 0.0, 0.0, 0.0], [1.0, 0.0, 0.0, 0.0], [1.0, 0.0, 0.0, 0.0]], [[1.0, 0.0, 0.0, 0.0], [1.0, 0.0, 0.0, 0.0], [1.0, 0.0, 0.0, 0.0], [1.0, 0.0, 0.0, 0.0]], [[1.0, 0.0, 0.0, 0.0], [1.0, 0.0, 0.0, 0.0], [1.0, 0.0, 0.0, 0.0], [1.0, 0.0, 0.0, 0.0]], [[1.0, 0.0, 0.0, 0.0], [1.0, 0.0, 0.0, 0.0], [1.0, 0.0, 0.0, 0.0], [1.0, 0.0, 0.0, 0.0]], [[1.0, 0.0, 0.0, 0.0], [1.0, 0.0, 0.0, 0.0], [1.0, 0.0, 0.0, 0.0], [1.0, 0.0, 0.0, 0.0]], [[1.0, 0.0, 0.0, 0.0], [1.0, 0.0, 0.0, 0.0], [1.0, 0.0, 0.0, 0.0], [1.0, 0.0, 0.0, 0.0]], [[1.0, 0.0, 0.0, 0.0], [1.0, 0.0, 0.0, 0.0], [1.0, 0.0, 0.0, 0.0], [1.0, 0.0, 0.0, 0.0]], [[1.0, 0.0, 0.0, 0.0], [1.0, 0.0, 0.0, 0.0], [1.0, 0.0, 0.0, 0.0], [1.0, 0.0, 0.0, 0.0]], [[1.0, 0.0, 0.0, 0.0], [1.0, 0.0, 0.0, 0.0], [1.0, 0.0, 0.0, 0.0], [1.0, 0.0, 0.0, 0.0]], [[1.0, 0.0, 0.0, 0.0], [1.0, 0.0, 0.0, 0.0], [1.0, 0.0, 0.0, 0.0], [1.0, 0.0, 0.0, 0.0]], [[1.0, 0.0, 0.0, 0.0], [1.0, 0.0, 0.0, 0.0], [1.0, 0.0, 0.0, 0.0], [1.0, 0.0, 0.0, 0.0]], [[1.0, 0.0, 0.0, 0.0], [1.0, 0.0, 0.0, 0.0], [1.0, 0.0, 0.0, 0.0], [1.0, 0.0, 0.0, 0.0]], [[1.0, 0.0, 0.0, 0.0], [1.0, 0.0, 0.0, 0.0], [1.0, 0.0, 0.0, 0.0], [1.0, 0.0, 0.0, 0.0]], [[1.0, 0.0, 0.0, 0.0], [1.0, 0.0, 0.0, 0.0], [1.0, 0.0, 0.0, 0.0], [1.0, 0.0, 0.0, 0.0]], [[1.0, 0.0, 0.0, 0.0], [1.0, 0.0, 0.0, 0.0], [1.0, 0.0, 0.0, 0.0], [1.0, 0.0, 0.0, 0.0]], [[1.0, 0.0, 0.0, 0.0], [1.0, 0.0, 0.0, 0.0], [1.0, 0.0, 0.0, 0.0], [1.0, 0.0, 0.0, 0.0]], [[1.0, 0.0, 0.0, 0.0], [1.0, 0.0, 0.0, 0.0], [1.0, 0.0, 0.0, 0.0], [1.0, 0.0, 0.0, 0.0]], [[1.0, 0.0, 0.0, 0.0], [1.0, 0.0, 0.0, 0.0], [1.0, 0.0, 0.0, 0.0], [1.0, 0.0, 0.0, 0.0]], [[1.0, 0.0, 0.0, 0.0], [1.0, 0.0, 0.0, 0.0], [1.0, 0.0, 0.0, 0.0], [1.0, 0.0, 0.0, 0.0]], [[1.0, 0.0, 0.0, 0.0], [1.0, 0.0, 0.0, 0.0], [1.0, 0.0, 0.0, 0.0], [1.0, 0.0, 0.0, 0.0]], [[1.0, 0.0, 0.0, 0.0], [1.0, 0.0, 0.0, 0.0], [1.0, 0.0, 0.0, 0.0], [1.0, 0.0, 0.0, 0.0]], [[1.0, 0.0, 0.0, 0.0], [1.0, 0.0, 0.0, 0.0], [1.0, 0.0, 0.0, 0.0], [1.0, 0.0, 0.0, 0.0]], [[1.0, 0.0, 0.0, 0.0], [1.0, 0.0, 0.0, 0.0], [1.0, 0.0, 0.0, 0.0], [1.0, 0.0, 0.0, 0.0]], [[1.0, 0.0, 0.0, 0.0], [1.0, 0.0, 0.0, 0.0], [1.0, 0.0, 0.0, 0.0], [1.0, 0.0, 0.0, 0.0]], [[1.0, 0.0, 0.0, 0.0], [1.0, 0.0, 0.0, 0.0], [1.0, 0.0, 0.0, 0.0], [1.0, 0.0, 0.0, 0.0]], [[1.0, 0.0, 0.0, 0.0], [1.0, 0.0, 0.0, 0.0], [1.0, 0.0, 0.0, 0.0], [1.0, 0.0, 0.0, 0.0]], [[1.0, 0.0, 0.0, 0.0], [1.0, 0.0, 0.0, 0.0], [1.0, 0.0, 0.0, 0.0], [1.0, 0.0, 0.0, 0.0]], [[1.0, 0.0, 0.0, 0.0], [1.0, 0.0, 0.0, 0.0], [1.0, 0.0, 0.0, 0.0], [1.0, 0.0, 0.0, 0.0]], [[1.0, 0.0, 0.0, 0.0], [1.0, 0.0, 0.0, 0.0], [1.0, 0.0, 0.0, 0.0], [1.0, 0.0, 0.0, 0.0]], [[1.0, 0.0, 0.0, 0.0], [1.0, 0.0, 0.0, 0.0], [1.0, 0.0, 0.0, 0.0], [1.0, 0.0, 0.0, 0.0]], [[1.0, 0.0, 0.0, 0.0], [1.0, 0.0, 0.0, 0.0], [1.0, 0.0, 0.0, 0.0], [1.0, 0.0, 0.0, 0.0]], [[1.0, 0.0, 0.0, 0.0], [1.0, 0.0, 0.0, 0.0], [1.0, 0.0, 0.0, 0.0], [1.0, 0.0, 0.0, 0.0]], [[1.0, 0.0, 0.0, 0.0], [1.0, 0.0, 0.0, 0.0], [1.0, 0.0, 0.0, 0.0], [1.0, 0.0, 0.0, 0.0]], [[1.0, 0.0, 0.0, 0.0], [1.0, 0.0, 0.0, 0.0], [1.0, 0.0, 0.0, 0.0], [1.0, 0.0, 0.0, 0.0]], [[1.0, 0.0, 0.0, 0.0], [1.0, 0.0, 0.0, 0.0], [1.0, 0.0, 0.0, 0.0], [1.0, 0.0, 0.0, 0.0]], [[1.0, 0.0, 0.0, 0.0], [1.0, 0.0, 0.0, 0.0], [1.0, 0.0, 0.0, 0.0], [1.0, 0.0, 0.0, 0.0]], [[1.0, 0.0, 0.0, 0.0], [1.0, 0.0, 0.0, 0.0], [1.0, 0.0, 0.0, 0.0], [1.0, 0.0, 0.0, 0.0]], [[1.0, 0.0, 0.0, 0.0], [1.0, 0.0, 0.0, 0.0], [1.0, 0.0, 0.0, 0.0], [1.0, 0.0, 0.0, 0.0]], [[1.0, 0.0, 0.0, 0.0], [1.0, 0.0, 0.0, 0.0], [1.0, 0.0, 0.0, 0.0], [1.0, 0.0, 0.0, 0.0]], [[1.0, 0.0, 0.0, 0.0], [1.0, 0.0, 0.0, 0.0], [1.0, 0.0, 0.0, 0.0], [1.0, 0.0, 0.0, 0.0]], [[1.0, 0.0, 0.0, 0.0], [1.0, 0.0, 0.0, 0.0], [1.0, 0.0, 0.0, 0.0], [1.0, 0.0, 0.0, 0.0]], [[1.0, 0.0, 0.0, 0.0], [1.0, 0.0, 0.0, 0.0], [1.0, 0.0, 0.0, 0.0], [1.0, 0.0, 0.0, 0.0]], [[1.0, 0.0, 0.0, 0.0], [1.0, 0.0, 0.0, 0.0], [1.0, 0.0, 0.0, 0.0], [1.0, 0.0, 0.0, 0.0]], [[1.0, 0.0, 0.0, 0.0], [1.0, 0.0, 0.0, 0.0], [1.0, 0.0, 0.0, 0.0], [1.0, 0.0, 0.0, 0.0]], [[1.0, 0.0, 0.0, 0.0], [1.0, 0.0, 0.0, 0.0], [1.0, 0.0, 0.0, 0.0], [1.0, 0.0, 0.0, 0.0]], [[1.0, 0.0, 0.0, 0.0], [1.0, 0.0, 0.0, 0.0], [1.0, 0.0, 0.0, 0.0], [1.0, 0.0, 0.0, 0.0]], [[1.0, 0.0, 0.0, 0.0], [1.0, 0.0, 0.0, 0.0], [1.0, 0.0, 0.0, 0.0], [1.0, 0.0, 0.0, 0.0]], [[1.0, 0.0, 0.0, 0.0], [1.0, 0.0, 0.0, 0.0], [1.0, 0.0, 0.0, 0.0], [1.0, 0.0, 0.0, 0.0]], [[1.0, 0.0, 0.0, 0.0], [1.0, 0.0, 0.0, 0.0], [1.0, 0.0, 0.0, 0.0], [1.0, 0.0, 0.0, 0.0]], [[1.0, 0.0, 0.0, 0.0], [1.0, 0.0, 0.0, 0.0], [1.0, 0.0, 0.0, 0.0], [1.0, 0.0, 0.0, 0.0]], [[1.0, 0.0, 0.0, 0.0], [1.0, 0.0, 0.0, 0.0], [1.0, 0.0, 0.0, 0.0], [1.0, 0.0, 0.0, 0.0]], [[1.0, 0.0, 0.0, 0.0], [1.0, 0.0, 0.0, 0.0], [1.0, 0.0, 0.0, 0.0], [1.0, 0.0, 0.0, 0.0]], [[1.0, 0.0, 0.0, 0.0], [1.0, 0.0, 0.0, 0.0], [1.0, 0.0, 0.0, 0.0], [1.0, 0.0, 0.0, 0.0]], [[1.0, 0.0, 0.0, 0.0], [1.0, 0.0, 0.0, 0.0], [1.0, 0.0, 0.0, 0.0], [1.0, 0.0, 0.0, 0.0]], [[1.0, 0.0, 0.0, 0.0], [1.0, 0.0, 0.0, 0.0], [1.0, 0.0, 0.0, 0.0], [1.0, 0.0, 0.0, 0.0]], [[1.0, 0.0, 0.0, 0.0], [1.0, 0.0, 0.0, 0.0], [1.0, 0.0, 0.0, 0.0], [1.0, 0.0, 0.0, 0.0]], [[1.0, 0.0, 0.0, 0.0], [1.0, 0.0, 0.0, 0.0], [1.0, 0.0, 0.0, 0.0], [1.0, 0.0, 0.0, 0.0]], [[1.0, 0.0, 0.0, 0.0], [1.0, 0.0, 0.0, 0.0], [1.0, 0.0, 0.0, 0.0], [1.0, 0.0, 0.0, 0.0]], [[1.0, 0.0, 0.0, 0.0], [1.0, 0.0, 0.0, 0.0], [1.0, 0.0, 0.0, 0.0], [1.0, 0.0, 0.0, 0.0]], [[1.0, 0.0, 0.0, 0.0], [1.0, 0.0, 0.0, 0.0], [1.0, 0.0, 0.0, 0.0], [1.0, 0.0, 0.0, 0.0]], [[1.0, 0.0, 0.0, 0.0], [1.0, 0.0, 0.0, 0.0], [1.0, 0.0, 0.0, 0.0], [1.0, 0.0, 0.0, 0.0]], [[1.0, 0.0, 0.0, 0.0], [1.0, 0.0, 0.0, 0.0], [1.0, 0.0, 0.0, 0.0], [1.0, 0.0, 0.0, 0.0]], [[1.0, 0.0, 0.0, 0.0], [1.0, 0.0, 0.0, 0.0], [1.0, 0.0, 0.0, 0.0], [1.0, 0.0, 0.0, 0.0]], [[1.0, 0.0, 0.0, 0.0], [1.0, 0.0, 0.0, 0.0], [1.0, 0.0, 0.0, 0.0], [1.0, 0.0, 0.0, 0.0]], [[1.0, 0.0, 0.0, 0.0], [1.0, 0.0, 0.0, 0.0], [1.0, 0.0, 0.0, 0.0], [1.0, 0.0, 0.0, 0.0]], [[1.0, 0.0, 0.0, 0.0], [1.0, 0.0, 0.0, 0.0], [1.0, 0.0, 0.0, 0.0], [1.0, 0.0, 0.0, 0.0]], [[1.0, 0.0, 0.0, 0.0], [1.0, 0.0, 0.0, 0.0], [1.0, 0.0, 0.0, 0.0], [1.0, 0.0, 0.0, 0.0]], [[1.0, 0.0, 0.0, 0.0], [1.0, 0.0, 0.0, 0.0], [1.0, 0.0, 0.0, 0.0], [1.0, 0.0, 0.0, 0.0]], [[1.0, 0.0, 0.0, 0.0], [1.0, 0.0, 0.0, 0.0], [1.0, 0.0, 0.0, 0.0], [1.0, 0.0, 0.0, 0.0]], [[1.0, 0.0, 0.0, 0.0], [1.0, 0.0, 0.0, 0.0], [1.0, 0.0, 0.0, 0.0], [1.0, 0.0, 0.0, 0.0]], [[1.0, 0.0, 0.0, 0.0], [1.0, 0.0, 0.0, 0.0], [1.0, 0.0, 0.0, 0.0], [1.0, 0.0, 0.0, 0.0]], [[1.0, 0.0, 0.0, 0.0], [1.0, 0.0, 0.0, 0.0], [1.0, 0.0, 0.0, 0.0], [1.0, 0.0, 0.0, 0.0]], [[1.0, 0.0, 0.0, 0.0], [1.0, 0.0, 0.0, 0.0], [1.0, 0.0, 0.0, 0.0], [1.0, 0.0, 0.0, 0.0]], [[1.0, 0.0, 0.0, 0.0], [1.0, 0.0, 0.0, 0.0], [1.0, 0.0, 0.0, 0.0], [1.0, 0.0, 0.0, 0.0]], [[1.0, 0.0, 0.0, 0.0], [1.0, 0.0, 0.0, 0.0], [1.0, 0.0, 0.0, 0.0], [1.0, 0.0, 0.0, 0.0]], [[1.0, 0.0, 0.0, 0.0], [1.0, 0.0, 0.0, 0.0], [1.0, 0.0, 0.0, 0.0], [1.0, 0.0, 0.0, 0.0]], [[1.0, 0.0, 0.0, 0.0], [1.0, 0.0, 0.0, 0.0], [1.0, 0.0, 0.0, 0.0], [1.0, 0.0, 0.0, 0.0]], [[1.0, 0.0, 0.0, 0.0], [1.0, 0.0, 0.0, 0.0], [1.0, 0.0, 0.0, 0.0], [1.0, 0.0, 0.0, 0.0]], [[1.0, 0.0, 0.0, 0.0], [1.0, 0.0, 0.0, 0.0], [1.0, 0.0, 0.0, 0.0], [1.0, 0.0, 0.0, 0.0]], [[1.0, 0.0, 0.0, 0.0], [1.0, 0.0, 0.0, 0.0], [1.0, 0.0, 0.0, 0.0], [1.0, 0.0, 0.0, 0.0]], [[1.0, 0.0, 0.0, 0.0], [1.0, 0.0, 0.0, 0.0], [1.0, 0.0, 0.0, 0.0], [1.0, 0.0, 0.0, 0.0]], [[1.0, 0.0, 0.0, 0.0], [1.0, 0.0, 0.0, 0.0], [1.0, 0.0, 0.0, 0.0], [1.0, 0.0, 0.0, 0.0]], [[1.0, 0.0, 0.0, 0.0], [1.0, 0.0, 0.0, 0.0], [1.0, 0.0, 0.0, 0.0], [1.0, 0.0, 0.0, 0.0]], [[1.0, 0.0, 0.0, 0.0], [1.0, 0.0, 0.0, 0.0], [1.0, 0.0, 0.0, 0.0], [1.0, 0.0, 0.0, 0.0]], [[1.0, 0.0, 0.0, 0.0], [1.0, 0.0, 0.0, 0.0], [1.0, 0.0, 0.0, 0.0], [1.0, 0.0, 0.0, 0.0]], [[1.0, 0.0, 0.0, 0.0], [1.0, 0.0, 0.0, 0.0], [1.0, 0.0, 0.0, 0.0], [1.0, 0.0, 0.0, 0.0]], [[1.0, 0.0, 0.0, 0.0], [1.0, 0.0, 0.0, 0.0], [1.0, 0.0, 0.0, 0.0], [1.0, 0.0, 0.0, 0.0]], [[1.0, 0.0, 0.0, 0.0], [1.0, 0.0, 0.0, 0.0], [1.0, 0.0, 0.0, 0.0], [1.0, 0.0, 0.0, 0.0]], [[1.0, 0.0, 0.0, 0.0], [1.0, 0.0, 0.0, 0.0], [1.0, 0.0, 0.0, 0.0], [1.0, 0.0, 0.0, 0.0]], [[1.0, 0.0, 0.0, 0.0], [1.0, 0.0, 0.0, 0.0], [1.0, 0.0, 0.0, 0.0], [1.0, 0.0, 0.0, 0.0]], [[1.0, 0.0, 0.0, 0.0], [1.0, 0.0, 0.0, 0.0], [1.0, 0.0, 0.0, 0.0], [1.0, 0.0, 0.0, 0.0]], [[1.0, 0.0, 0.0, 0.0], [1.0, 0.0, 0.0, 0.0], [1.0, 0.0, 0.0, 0.0], [1.0, 0.0, 0.0, 0.0]], [[1.0, 0.0, 0.0, 0.0], [1.0, 0.0, 0.0, 0.0], [1.0, 0.0, 0.0, 0.0], [1.0, 0.0, 0.0, 0.0]], [[1.0, 0.0, 0.0, 0.0], [1.0, 0.0, 0.0, 0.0], [1.0, 0.0, 0.0, 0.0], [1.0, 0.0, 0.0, 0.0]], [[1.0, 0.0, 0.0, 0.0], [1.0, 0.0, 0.0, 0.0], [1.0, 0.0, 0.0, 0.0], [1.0, 0.0, 0.0, 0.0]], [[1.0, 0.0, 0.0, 0.0], [1.0, 0.0, 0.0, 0.0], [1.0, 0.0, 0.0, 0.0], [1.0, 0.0, 0.0, 0.0]], [[1.0, 0.0, 0.0, 0.0], [1.0, 0.0, 0.0, 0.0], [1.0, 0.0, 0.0, 0.0], [1.0, 0.0, 0.0, 0.0]], [[1.0, 0.0, 0.0, 0.0], [1.0, 0.0, 0.0, 0.0], [1.0, 0.0, 0.0, 0.0], [1.0, 0.0, 0.0, 0.0]], [[1.0, 0.0, 0.0, 0.0], [1.0, 0.0, 0.0, 0.0], [1.0, 0.0, 0.0, 0.0], [1.0, 0.0, 0.0, 0.0]], [[1.0, 0.0, 0.0, 0.0], [1.0, 0.0, 0.0, 0.0], [1.0, 0.0, 0.0, 0.0], [1.0, 0.0, 0.0, 0.0]], [[1.0, 0.0, 0.0, 0.0], [1.0, 0.0, 0.0, 0.0], [1.0, 0.0, 0.0, 0.0], [1.0, 0.0, 0.0, 0.0]], [[1.0, 0.0, 0.0, 0.0], [1.0, 0.0, 0.0, 0.0], [1.0, 0.0, 0.0, 0.0], [1.0, 0.0, 0.0, 0.0]], [[1.0, 0.0, 0.0, 0.0], [1.0, 0.0, 0.0, 0.0], [1.0, 0.0, 0.0, 0.0], [1.0, 0.0, 0.0, 0.0]], [[1.0, 0.0, 0.0, 0.0], [1.0, 0.0, 0.0, 0.0], [1.0, 0.0, 0.0, 0.0], [1.0, 0.0, 0.0, 0.0]], [[1.0, 0.0, 0.0, 0.0], [1.0, 0.0, 0.0, 0.0], [1.0, 0.0, 0.0, 0.0], [1.0, 0.0, 0.0, 0.0]], [[1.0, 0.0, 0.0, 0.0], [1.0, 0.0, 0.0, 0.0], [1.0, 0.0, 0.0, 0.0], [1.0, 0.0, 0.0, 0.0]], [[1.0, 0.0, 0.0, 0.0], [1.0, 0.0, 0.0, 0.0], [1.0, 0.0, 0.0, 0.0], [1.0, 0.0, 0.0, 0.0]], [[1.0, 0.0, 0.0, 0.0], [1.0, 0.0, 0.0, 0.0], [1.0, 0.0, 0.0, 0.0], [1.0, 0.0, 0.0, 0.0]], [[1.0, 0.0, 0.0, 0.0], [1.0, 0.0, 0.0, 0.0], [1.0, 0.0, 0.0, 0.0], [1.0, 0.0, 0.0, 0.0]], [[1.0, 0.0, 0.0, 0.0], [1.0, 0.0, 0.0, 0.0], [1.0, 0.0, 0.0, 0.0], [1.0, 0.0, 0.0, 0.0]], [[1.0, 0.0, 0.0, 0.0], [1.0, 0.0, 0.0, 0.0], [1.0, 0.0, 0.0, 0.0], [1.0, 0.0, 0.0, 0.0]], [[1.0, 0.0, 0.0, 0.0], [1.0, 0.0, 0.0, 0.0], [1.0, 0.0, 0.0, 0.0], [1.0, 0.0, 0.0, 0.0]], [[1.0, 0.0, 0.0, 0.0], [1.0, 0.0, 0.0, 0.0], [1.0, 0.0, 0.0, 0.0], [1.0, 0.0, 0.0, 0.0]], [[1.0, 0.0, 0.0, 0.0], [1.0, 0.0, 0.0, 0.0], [1.0, 0.0, 0.0, 0.0], [1.0, 0.0, 0.0, 0.0]], [[1.0, 0.0, 0.0, 0.0], [1.0, 0.0, 0.0, 0.0], [1.0, 0.0, 0.0, 0.0], [1.0, 0.0, 0.0, 0.0]], [[1.0, 0.0, 0.0, 0.0], [1.0, 0.0, 0.0, 0.0], [1.0, 0.0, 0.0, 0.0], [1.0, 0.0, 0.0, 0.0]], [[1.0, 0.0, 0.0, 0.0], [1.0, 0.0, 0.0, 0.0], [1.0, 0.0, 0.0, 0.0], [1.0, 0.0, 0.0, 0.0]], [[1.0, 0.0, 0.0, 0.0], [1.0, 0.0, 0.0, 0.0], [1.0, 0.0, 0.0, 0.0], [1.0, 0.0, 0.0, 0.0]], [[1.0, 0.0, 0.0, 0.0], [1.0, 0.0, 0.0, 0.0], [1.0, 0.0, 0.0, 0.0], [1.0, 0.0, 0.0, 0.0]], [[1.0, 0.0, 0.0, 0.0], [1.0, 0.0, 0.0, 0.0], [1.0, 0.0, 0.0, 0.0], [1.0, 0.0, 0.0, 0.0]], [[1.0, 0.0, 0.0, 0.0], [1.0, 0.0, 0.0, 0.0], [1.0, 0.0, 0.0, 0.0], [1.0, 0.0, 0.0, 0.0]], [[1.0, 0.0, 0.0, 0.0], [1.0, 0.0, 0.0, 0.0], [1.0, 0.0, 0.0, 0.0], [1.0, 0.0, 0.0, 0.0]], [[1.0, 0.0, 0.0, 0.0], [1.0, 0.0, 0.0, 0.0], [1.0, 0.0, 0.0, 0.0], [1.0, 0.0, 0.0, 0.0]], [[1.0, 0.0, 0.0, 0.0], [1.0, 0.0, 0.0, 0.0], [1.0, 0.0, 0.0, 0.0], [1.0, 0.0, 0.0, 0.0]], [[1.0, 0.0, 0.0, 0.0], [1.0, 0.0, 0.0, 0.0], [1.0, 0.0, 0.0, 0.0], [1.0, 0.0, 0.0, 0.0]], [[1.0, 0.0, 0.0, 0.0], [1.0, 0.0, 0.0, 0.0], [1.0, 0.0, 0.0, 0.0], [1.0, 0.0, 0.0, 0.0]], [[1.0, 0.0, 0.0, 0.0], [1.0, 0.0, 0.0, 0.0], [1.0, 0.0, 0.0, 0.0], [1.0, 0.0, 0.0, 0.0]], [[1.0, 0.0, 0.0, 0.0], [1.0, 0.0, 0.0, 0.0], [1.0, 0.0, 0.0, 0.0], [1.0, 0.0, 0.0, 0.0]], [[1.0, 0.0, 0.0, 0.0], [1.0, 0.0, 0.0, 0.0], [1.0, 0.0, 0.0, 0.0], [1.0, 0.0, 0.0, 0.0]], [[1.0, 0.0, 0.0, 0.0], [1.0, 0.0, 0.0, 0.0], [1.0, 0.0, 0.0, 0.0], [1.0, 0.0, 0.0, 0.0]], [[1.0, 0.0, 0.0, 0.0], [1.0, 0.0, 0.0, 0.0], [1.0, 0.0, 0.0, 0.0], [1.0, 0.0, 0.0, 0.0]], [[1.0, 0.0, 0.0, 0.0], [1.0, 0.0, 0.0, 0.0], [1.0, 0.0, 0.0, 0.0], [1.0, 0.0, 0.0, 0.0]], [[1.0, 0.0, 0.0, 0.0], [1.0, 0.0, 0.0, 0.0], [1.0, 0.0, 0.0, 0.0], [1.0, 0.0, 0.0, 0.0]], [[1.0, 0.0, 0.0, 0.0], [1.0, 0.0, 0.0, 0.0], [1.0, 0.0, 0.0, 0.0], [1.0, 0.0, 0.0, 0.0]], [[1.0, 0.0, 0.0, 0.0], [1.0, 0.0, 0.0, 0.0], [1.0, 0.0, 0.0, 0.0], [1.0, 0.0, 0.0, 0.0]], [[1.0, 0.0, 0.0, 0.0], [1.0, 0.0, 0.0, 0.0], [1.0, 0.0, 0.0, 0.0], [1.0, 0.0, 0.0, 0.0]], [[1.0, 0.0, 0.0, 0.0], [1.0, 0.0, 0.0, 0.0], [1.0, 0.0, 0.0, 0.0], [1.0, 0.0, 0.0, 0.0]], [[1.0, 0.0, 0.0, 0.0], [1.0, 0.0, 0.0, 0.0], [1.0, 0.0, 0.0, 0.0], [1.0, 0.0, 0.0, 0.0]], [[1.0, 0.0, 0.0, 0.0], [1.0, 0.0, 0.0, 0.0], [1.0, 0.0, 0.0, 0.0], [1.0, 0.0, 0.0, 0.0]], [[1.0, 0.0, 0.0, 0.0], [1.0, 0.0, 0.0, 0.0], [1.0, 0.0, 0.0, 0.0], [1.0, 0.0, 0.0, 0.0]], [[1.0, 0.0, 0.0, 0.0], [1.0, 0.0, 0.0, 0.0], [1.0, 0.0, 0.0, 0.0], [1.0, 0.0, 0.0, 0.0]], [[1.0, 0.0, 0.0, 0.0], [1.0, 0.0, 0.0, 0.0], [1.0, 0.0, 0.0, 0.0], [1.0, 0.0, 0.0, 0.0]], [[1.0, 0.0, 0.0, 0.0], [1.0, 0.0, 0.0, 0.0], [1.0, 0.0, 0.0, 0.0], [1.0, 0.0, 0.0, 0.0]], [[1.0, 0.0, 0.0, 0.0], [1.0, 0.0, 0.0, 0.0], [1.0, 0.0, 0.0, 0.0], [1.0, 0.0, 0.0, 0.0]], [[1.0, 0.0, 0.0, 0.0], [1.0, 0.0, 0.0, 0.0], [1.0, 0.0, 0.0, 0.0], [1.0, 0.0, 0.0, 0.0]], [[1.0, 0.0, 0.0, 0.0], [1.0, 0.0, 0.0, 0.0], [1.0, 0.0, 0.0, 0.0], [1.0, 0.0, 0.0, 0.0]], [[1.0, 0.0, 0.0, 0.0], [1.0, 0.0, 0.0, 0.0], [1.0, 0.0, 0.0, 0.0], [1.0, 0.0, 0.0, 0.0]], [[1.0, 0.0, 0.0, 0.0], [1.0, 0.0, 0.0, 0.0], [1.0, 0.0, 0.0, 0.0], [1.0, 0.0, 0.0, 0.0]], [[1.0, 0.0, 0.0, 0.0], [1.0, 0.0, 0.0, 0.0], [1.0, 0.0, 0.0, 0.0], [1.0, 0.0, 0.0, 0.0]], [[1.0, 0.0, 0.0, 0.0], [1.0, 0.0, 0.0, 0.0], [1.0, 0.0, 0.0, 0.0], [1.0, 0.0, 0.0, 0.0]], [[1.0, 0.0, 0.0, 0.0], [1.0, 0.0, 0.0, 0.0], [1.0, 0.0, 0.0, 0.0], [1.0, 0.0, 0.0, 0.0]], [[1.0, 0.0, 0.0, 0.0], [1.0, 0.0, 0.0, 0.0], [1.0, 0.0, 0.0, 0.0], [1.0, 0.0, 0.0, 0.0]], [[1.0, 0.0, 0.0, 0.0], [1.0, 0.0, 0.0, 0.0], [1.0, 0.0, 0.0, 0.0], [1.0, 0.0, 0.0, 0.0]], [[1.0, 0.0, 0.0, 0.0], [1.0, 0.0, 0.0, 0.0], [1.0, 0.0, 0.0, 0.0], [1.0, 0.0, 0.0, 0.0]], [[1.0, 0.0, 0.0, 0.0], [1.0, 0.0, 0.0, 0.0], [1.0, 0.0, 0.0, 0.0], [1.0, 0.0, 0.0, 0.0]], [[1.0, 0.0, 0.0, 0.0], [1.0, 0.0, 0.0, 0.0], [1.0, 0.0, 0.0, 0.0], [1.0, 0.0, 0.0, 0.0]], [[1.0, 0.0, 0.0, 0.0], [1.0, 0.0, 0.0, 0.0], [1.0, 0.0, 0.0, 0.0], [1.0, 0.0, 0.0, 0.0]], [[1.0, 0.0, 0.0, 0.0], [1.0, 0.0, 0.0, 0.0], [1.0, 0.0, 0.0, 0.0], [1.0, 0.0, 0.0, 0.0]], [[1.0, 0.0, 0.0, 0.0], [1.0, 0.0, 0.0, 0.0], [1.0, 0.0, 0.0, 0.0], [1.0, 0.0, 0.0, 0.0]], [[1.0, 0.0, 0.0, 0.0], [1.0, 0.0, 0.0, 0.0], [1.0, 0.0, 0.0, 0.0], [1.0, 0.0, 0.0, 0.0]], [[1.0, 0.0, 0.0, 0.0], [1.0, 0.0, 0.0, 0.0], [1.0, 0.0, 0.0, 0.0], [1.0, 0.0, 0.0, 0.0]], [[1.0, 0.0, 0.0, 0.0], [1.0, 0.0, 0.0, 0.0], [1.0, 0.0, 0.0, 0.0], [1.0, 0.0, 0.0, 0.0]], [[1.0, 0.0, 0.0, 0.0], [1.0, 0.0, 0.0, 0.0], [1.0, 0.0, 0.0, 0.0], [1.0, 0.0, 0.0, 0.0]], [[1.0, 0.0, 0.0, 0.0], [1.0, 0.0, 0.0, 0.0], [1.0, 0.0, 0.0, 0.0], [1.0, 0.0, 0.0, 0.0]], [[1.0, 0.0, 0.0, 0.0], [1.0, 0.0, 0.0, 0.0], [1.0, 0.0, 0.0, 0.0], [1.0, 0.0, 0.0, 0.0]], [[1.0, 0.0, 0.0, 0.0], [1.0, 0.0, 0.0, 0.0], [1.0, 0.0, 0.0, 0.0], [1.0, 0.0, 0.0, 0.0]], [[1.0, 0.0, 0.0, 0.0], [1.0, 0.0, 0.0, 0.0], [1.0, 0.0, 0.0, 0.0], [1.0, 0.0, 0.0, 0.0]], [[1.0, 0.0, 0.0, 0.0], [1.0, 0.0, 0.0, 0.0], [1.0, 0.0, 0.0, 0.0], [1.0, 0.0, 0.0, 0.0]], [[1.0, 0.0, 0.0, 0.0], [1.0, 0.0, 0.0, 0.0], [1.0, 0.0, 0.0, 0.0], [1.0, 0.0, 0.0, 0.0]], [[1.0, 0.0, 0.0, 0.0], [1.0, 0.0, 0.0, 0.0], [1.0, 0.0, 0.0, 0.0], [1.0, 0.0, 0.0, 0.0]], [[1.0, 0.0, 0.0, 0.0], [1.0, 0.0, 0.0, 0.0], [1.0, 0.0, 0.0, 0.0], [1.0, 0.0, 0.0, 0.0]], [[1.0, 0.0, 0.0, 0.0], [1.0, 0.0, 0.0, 0.0], [1.0, 0.0, 0.0, 0.0], [1.0, 0.0, 0.0, 0.0]], [[1.0, 0.0, 0.0, 0.0], [1.0, 0.0, 0.0, 0.0], [1.0, 0.0, 0.0, 0.0], [1.0, 0.0, 0.0, 0.0]], [[1.0, 0.0, 0.0, 0.0], [1.0, 0.0, 0.0, 0.0], [1.0, 0.0, 0.0, 0.0], [1.0, 0.0, 0.0, 0.0]], [[1.0, 0.0, 0.0, 0.0], [1.0, 0.0, 0.0, 0.0], [1.0, 0.0, 0.0, 0.0], [1.0, 0.0, 0.0, 0.0]], [[1.0, 0.0, 0.0, 0.0], [1.0, 0.0, 0.0, 0.0], [1.0, 0.0, 0.0, 0.0], [1.0, 0.0, 0.0, 0.0]], [[1.0, 0.0, 0.0, 0.0], [1.0, 0.0, 0.0, 0.0], [1.0, 0.0, 0.0, 0.0], [1.0, 0.0, 0.0, 0.0]], [[1.0, 0.0, 0.0, 0.0], [1.0, 0.0, 0.0, 0.0], [1.0, 0.0, 0.0, 0.0], [1.0, 0.0, 0.0, 0.0]], [[1.0, 0.0, 0.0, 0.0], [1.0, 0.0, 0.0, 0.0], [1.0, 0.0, 0.0, 0.0], [1.0, 0.0, 0.0, 0.0]], [[1.0, 0.0, 0.0, 0.0], [1.0, 0.0, 0.0, 0.0], [1.0, 0.0, 0.0, 0.0], [1.0, 0.0, 0.0, 0.0]], [[1.0, 0.0, 0.0, 0.0], [1.0, 0.0, 0.0, 0.0], [1.0, 0.0, 0.0, 0.0], [1.0, 0.0, 0.0, 0.0]], [[1.0, 0.0, 0.0, 0.0], [1.0, 0.0, 0.0, 0.0], [1.0, 0.0, 0.0, 0.0], [1.0, 0.0, 0.0, 0.0]], [[1.0, 0.0, 0.0, 0.0], [1.0, 0.0, 0.0, 0.0], [1.0, 0.0, 0.0, 0.0], [1.0, 0.0, 0.0, 0.0]], [[1.0, 0.0, 0.0, 0.0], [1.0, 0.0, 0.0, 0.0], [1.0, 0.0, 0.0, 0.0], [1.0, 0.0, 0.0, 0.0]], [[1.0, 0.0, 0.0, 0.0], [1.0, 0.0, 0.0, 0.0], [1.0, 0.0, 0.0, 0.0], [1.0, 0.0, 0.0, 0.0]], [[1.0, 0.0, 0.0, 0.0], [1.0, 0.0, 0.0, 0.0], [1.0, 0.0, 0.0, 0.0], [1.0, 0.0, 0.0, 0.0]], [[1.0, 0.0, 0.0, 0.0], [1.0, 0.0, 0.0, 0.0], [1.0, 0.0, 0.0, 0.0], [1.0, 0.0, 0.0, 0.0]], [[1.0, 0.0, 0.0, 0.0], [1.0, 0.0, 0.0, 0.0], [1.0, 0.0, 0.0, 0.0], [1.0, 0.0, 0.0, 0.0]], [[1.0, 0.0, 0.0, 0.0], [1.0, 0.0, 0.0, 0.0], [1.0, 0.0, 0.0, 0.0], [1.0, 0.0, 0.0, 0.0]], [[1.0, 0.0, 0.0, 0.0], [1.0, 0.0, 0.0, 0.0], [1.0, 0.0, 0.0, 0.0], [1.0, 0.0, 0.0, 0.0]], [[1.0, 0.0, 0.0, 0.0], [1.0, 0.0, 0.0, 0.0], [1.0, 0.0, 0.0, 0.0], [1.0, 0.0, 0.0, 0.0]], [[1.0, 0.0, 0.0, 0.0], [1.0, 0.0, 0.0, 0.0], [1.0, 0.0, 0.0, 0.0], [1.0, 0.0, 0.0, 0.0]], [[1.0, 0.0, 0.0, 0.0], [1.0, 0.0, 0.0, 0.0], [1.0, 0.0, 0.0, 0.0], [1.0, 0.0, 0.0, 0.0]], [[1.0, 0.0, 0.0, 0.0], [1.0, 0.0, 0.0, 0.0], [1.0, 0.0, 0.0, 0.0], [1.0, 0.0, 0.0, 0.0]], [[1.0, 0.0, 0.0, 0.0], [1.0, 0.0, 0.0, 0.0], [1.0, 0.0, 0.0, 0.0], [1.0, 0.0, 0.0, 0.0]], [[1.0, 0.0, 0.0, 0.0], [1.0, 0.0, 0.0, 0.0], [1.0, 0.0, 0.0, 0.0], [1.0, 0.0, 0.0, 0.0]], [[1.0, 0.0, 0.0, 0.0], [1.0, 0.0, 0.0, 0.0], [1.0, 0.0, 0.0, 0.0], [1.0, 0.0, 0.0, 0.0]], [[1.0, 0.0, 0.0, 0.0], [1.0, 0.0, 0.0, 0.0], [1.0, 0.0, 0.0, 0.0], [1.0, 0.0, 0.0, 0.0]], [[1.0, 0.0, 0.0, 0.0], [1.0, 0.0, 0.0, 0.0], [1.0, 0.0, 0.0, 0.0], [1.0, 0.0, 0.0, 0.0]], [[1.0, 0.0, 0.0, 0.0], [1.0, 0.0, 0.0, 0.0], [1.0, 0.0, 0.0, 0.0], [1.0, 0.0, 0.0, 0.0]], [[1.0, 0.0, 0.0, 0.0], [1.0, 0.0, 0.0, 0.0], [1.0, 0.0, 0.0, 0.0], [1.0, 0.0, 0.0, 0.0]], [[1.0, 0.0, 0.0, 0.0], [1.0, 0.0, 0.0, 0.0], [1.0, 0.0, 0.0, 0.0], [1.0, 0.0, 0.0, 0.0]], [[1.0, 0.0, 0.0, 0.0], [1.0, 0.0, 0.0, 0.0], [1.0, 0.0, 0.0, 0.0], [1.0, 0.0, 0.0, 0.0]], [[1.0, 0.0, 0.0, 0.0], [1.0, 0.0, 0.0, 0.0], [1.0, 0.0, 0.0, 0.0], [1.0, 0.0, 0.0, 0.0]], [[1.0, 0.0, 0.0, 0.0], [1.0, 0.0, 0.0, 0.0], [1.0, 0.0, 0.0, 0.0], [1.0, 0.0, 0.0, 0.0]], [[1.0, 0.0, 0.0, 0.0], [1.0, 0.0, 0.0, 0.0], [1.0, 0.0, 0.0, 0.0], [1.0, 0.0, 0.0, 0.0]], [[1.0, 0.0, 0.0, 0.0], [1.0, 0.0, 0.0, 0.0], [1.0, 0.0, 0.0, 0.0], [1.0, 0.0, 0.0, 0.0]], [[1.0, 0.0, 0.0, 0.0], [1.0, 0.0, 0.0, 0.0], [1.0, 0.0, 0.0, 0.0], [1.0, 0.0, 0.0, 0.0]], [[1.0, 0.0, 0.0, 0.0], [1.0, 0.0, 0.0, 0.0], [1.0, 0.0, 0.0, 0.0], [1.0, 0.0, 0.0, 0.0]], [[1.0, 0.0, 0.0, 0.0], [1.0, 0.0, 0.0, 0.0], [1.0, 0.0, 0.0, 0.0], [1.0, 0.0, 0.0, 0.0]], [[1.0, 0.0, 0.0, 0.0], [1.0, 0.0, 0.0, 0.0], [1.0, 0.0, 0.0, 0.0], [1.0, 0.0, 0.0, 0.0]], [[1.0, 0.0, 0.0, 0.0], [1.0, 0.0, 0.0, 0.0], [1.0, 0.0, 0.0, 0.0], [1.0, 0.0, 0.0, 0.0]], [[1.0, 0.0, 0.0, 0.0], [1.0, 0.0, 0.0, 0.0], [1.0, 0.0, 0.0, 0.0], [1.0, 0.0, 0.0, 0.0]], [[1.0, 0.0, 0.0, 0.0], [1.0, 0.0, 0.0, 0.0], [1.0, 0.0, 0.0, 0.0], [1.0, 0.0, 0.0, 0.0]], [[1.0, 0.0, 0.0, 0.0], [1.0, 0.0, 0.0, 0.0], [1.0, 0.0, 0.0, 0.0], [1.0, 0.0, 0.0, 0.0]], [[1.0, 0.0, 0.0, 0.0], [1.0, 0.0, 0.0, 0.0], [1.0, 0.0, 0.0, 0.0], [1.0, 0.0, 0.0, 0.0]], [[1.0, 0.0, 0.0, 0.0], [1.0, 0.0, 0.0, 0.0], [1.0, 0.0, 0.0, 0.0], [1.0, 0.0, 0.0, 0.0]], [[1.0, 0.0, 0.0, 0.0], [1.0, 0.0, 0.0, 0.0], [1.0, 0.0, 0.0, 0.0], [1.0, 0.0, 0.0, 0.0]], [[1.0, 0.0, 0.0, 0.0], [1.0, 0.0, 0.0, 0.0], [1.0, 0.0, 0.0, 0.0], [1.0, 0.0, 0.0, 0.0]], [[1.0, 0.0, 0.0, 0.0], [1.0, 0.0, 0.0, 0.0], [1.0, 0.0, 0.0, 0.0], [1.0, 0.0, 0.0, 0.0]], [[1.0, 0.0, 0.0, 0.0], [1.0, 0.0, 0.0, 0.0], [1.0, 0.0, 0.0, 0.0], [1.0, 0.0, 0.0, 0.0]], [[1.0, 0.0, 0.0, 0.0], [1.0, 0.0, 0.0, 0.0], [1.0, 0.0, 0.0, 0.0], [1.0, 0.0, 0.0, 0.0]], [[1.0, 0.0, 0.0, 0.0], [1.0, 0.0, 0.0, 0.0], [1.0, 0.0, 0.0, 0.0], [1.0, 0.0, 0.0, 0.0]], [[1.0, 0.0, 0.0, 0.0], [1.0, 0.0, 0.0, 0.0], [1.0, 0.0, 0.0, 0.0], [1.0, 0.0, 0.0, 0.0]], [[1.0, 0.0, 0.0, 0.0], [1.0, 0.0, 0.0, 0.0], [1.0, 0.0, 0.0, 0.0], [1.0, 0.0, 0.0, 0.0]], [[1.0, 0.0, 0.0, 0.0], [1.0, 0.0, 0.0, 0.0], [1.0, 0.0, 0.0, 0.0], [1.0, 0.0, 0.0, 0.0]], [[1.0, 0.0, 0.0, 0.0], [1.0, 0.0, 0.0, 0.0], [1.0, 0.0, 0.0, 0.0], [1.0, 0.0, 0.0, 0.0]], [[1.0, 0.0, 0.0, 0.0], [1.0, 0.0, 0.0, 0.0], [1.0, 0.0, 0.0, 0.0], [1.0, 0.0, 0.0, 0.0]], [[1.0, 0.0, 0.0, 0.0], [1.0, 0.0, 0.0, 0.0], [1.0, 0.0, 0.0, 0.0], [1.0, 0.0, 0.0, 0.0]], [[1.0, 0.0, 0.0, 0.0], [1.0, 0.0, 0.0, 0.0], [1.0, 0.0, 0.0, 0.0], [1.0, 0.0, 0.0, 0.0]], [[1.0, 0.0, 0.0, 0.0], [1.0, 0.0, 0.0, 0.0], [1.0, 0.0, 0.0, 0.0], [1.0, 0.0, 0.0, 0.0]], [[1.0, 0.0, 0.0, 0.0], [1.0, 0.0, 0.0, 0.0], [1.0, 0.0, 0.0, 0.0], [1.0, 0.0, 0.0, 0.0]], [[1.0, 0.0, 0.0, 0.0], [1.0, 0.0, 0.0, 0.0], [1.0, 0.0, 0.0, 0.0], [1.0, 0.0, 0.0, 0.0]], [[1.0, 0.0, 0.0, 0.0], [1.0, 0.0, 0.0, 0.0], [1.0, 0.0, 0.0, 0.0], [1.0, 0.0, 0.0, 0.0]], [[1.0, 0.0, 0.0, 0.0], [1.0, 0.0, 0.0, 0.0], [1.0, 0.0, 0.0, 0.0], [1.0, 0.0, 0.0, 0.0]], [[1.0, 0.0, 0.0, 0.0], [1.0, 0.0, 0.0, 0.0], [1.0, 0.0, 0.0, 0.0], [1.0, 0.0, 0.0, 0.0]], [[1.0, 0.0, 0.0, 0.0], [1.0, 0.0, 0.0, 0.0], [1.0, 0.0, 0.0, 0.0], [1.0, 0.0, 0.0, 0.0]], [[1.0, 0.0, 0.0, 0.0], [1.0, 0.0, 0.0, 0.0], [1.0, 0.0, 0.0, 0.0], [1.0, 0.0, 0.0, 0.0]], [[1.0, 0.0, 0.0, 0.0], [1.0, 0.0, 0.0, 0.0], [1.0, 0.0, 0.0, 0.0], [1.0, 0.0, 0.0, 0.0]], [[1.0, 0.0, 0.0, 0.0], [1.0, 0.0, 0.0, 0.0], [1.0, 0.0, 0.0, 0.0], [1.0, 0.0, 0.0, 0.0]], [[1.0, 0.0, 0.0, 0.0], [1.0, 0.0, 0.0, 0.0], [1.0, 0.0, 0.0, 0.0], [1.0, 0.0, 0.0, 0.0]], [[1.0, 0.0, 0.0, 0.0], [1.0, 0.0, 0.0, 0.0], [1.0, 0.0, 0.0, 0.0], [1.0, 0.0, 0.0, 0.0]], [[1.0, 0.0, 0.0, 0.0], [1.0, 0.0, 0.0, 0.0], [1.0, 0.0, 0.0, 0.0], [1.0, 0.0, 0.0, 0.0]], [[1.0, 0.0, 0.0, 0.0], [1.0, 0.0, 0.0, 0.0], [1.0, 0.0, 0.0, 0.0], [1.0, 0.0, 0.0, 0.0]], [[1.0, 0.0, 0.0, 0.0], [1.0, 0.0, 0.0, 0.0], [1.0, 0.0, 0.0, 0.0], [1.0, 0.0, 0.0, 0.0]], [[1.0, 0.0, 0.0, 0.0], [1.0, 0.0, 0.0, 0.0], [1.0, 0.0, 0.0, 0.0], [1.0, 0.0, 0.0, 0.0]], [[1.0, 0.0, 0.0, 0.0], [1.0, 0.0, 0.0, 0.0], [1.0, 0.0, 0.0, 0.0], [1.0, 0.0, 0.0, 0.0]], [[1.0, 0.0, 0.0, 0.0], [1.0, 0.0, 0.0, 0.0], [1.0, 0.0, 0.0, 0.0], [1.0, 0.0, 0.0, 0.0]], [[1.0, 0.0, 0.0, 0.0], [1.0, 0.0, 0.0, 0.0], [1.0, 0.0, 0.0, 0.0], [1.0, 0.0, 0.0, 0.0]], [[1.0, 0.0, 0.0, 0.0], [1.0, 0.0, 0.0, 0.0], [1.0, 0.0, 0.0, 0.0], [1.0, 0.0, 0.0, 0.0]], [[1.0, 0.0, 0.0, 0.0], [1.0, 0.0, 0.0, 0.0], [1.0, 0.0, 0.0, 0.0], [1.0, 0.0, 0.0, 0.0]], [[1.0, 0.0, 0.0, 0.0], [1.0, 0.0, 0.0, 0.0], [1.0, 0.0, 0.0, 0.0], [1.0, 0.0, 0.0, 0.0]], [[1.0, 0.0, 0.0, 0.0], [1.0, 0.0, 0.0, 0.0], [1.0, 0.0, 0.0, 0.0], [1.0, 0.0, 0.0, 0.0]], [[1.0, 0.0, 0.0, 0.0], [1.0, 0.0, 0.0, 0.0], [1.0, 0.0, 0.0, 0.0], [1.0, 0.0, 0.0, 0.0]], [[1.0, 0.0, 0.0, 0.0], [1.0, 0.0, 0.0, 0.0], [1.0, 0.0, 0.0, 0.0], [1.0, 0.0, 0.0, 0.0]], [[1.0, 0.0, 0.0, 0.0], [1.0, 0.0, 0.0, 0.0], [1.0, 0.0, 0.0, 0.0], [1.0, 0.0, 0.0, 0.0]], [[1.0, 0.0, 0.0, 0.0], [1.0, 0.0, 0.0, 0.0], [1.0, 0.0, 0.0, 0.0], [1.0, 0.0, 0.0, 0.0]], [[1.0, 0.0, 0.0, 0.0], [1.0, 0.0, 0.0, 0.0], [1.0, 0.0, 0.0, 0.0], [1.0, 0.0, 0.0, 0.0]], [[1.0, 0.0, 0.0, 0.0], [1.0, 0.0, 0.0, 0.0], [1.0, 0.0, 0.0, 0.0], [1.0, 0.0, 0.0, 0.0]], [[1.0, 0.0, 0.0, 0.0], [1.0, 0.0, 0.0, 0.0], [1.0, 0.0, 0.0, 0.0], [1.0, 0.0, 0.0, 0.0]], [[1.0, 0.0, 0.0, 0.0], [1.0, 0.0, 0.0, 0.0], [1.0, 0.0, 0.0, 0.0], [1.0, 0.0, 0.0, 0.0]], [[1.0, 0.0, 0.0, 0.0], [1.0, 0.0, 0.0, 0.0], [1.0, 0.0, 0.0, 0.0], [1.0, 0.0, 0.0, 0.0]], [[1.0, 0.0, 0.0, 0.0], [1.0, 0.0, 0.0, 0.0], [1.0, 0.0, 0.0, 0.0], [1.0, 0.0, 0.0, 0.0]], [[1.0, 0.0, 0.0, 0.0], [1.0, 0.0, 0.0, 0.0], [1.0, 0.0, 0.0, 0.0], [1.0, 0.0, 0.0, 0.0]], [[1.0, 0.0, 0.0, 0.0], [1.0, 0.0, 0.0, 0.0], [1.0, 0.0, 0.0, 0.0], [1.0, 0.0, 0.0, 0.0]], [[1.0, 0.0, 0.0, 0.0], [1.0, 0.0, 0.0, 0.0], [1.0, 0.0, 0.0, 0.0], [1.0, 0.0, 0.0, 0.0]], [[1.0, 0.0, 0.0, 0.0], [1.0, 0.0, 0.0, 0.0], [1.0, 0.0, 0.0, 0.0], [1.0, 0.0, 0.0, 0.0]], [[1.0, 0.0, 0.0, 0.0], [1.0, 0.0, 0.0, 0.0], [1.0, 0.0, 0.0, 0.0], [1.0, 0.0, 0.0, 0.0]], [[1.0, 0.0, 0.0, 0.0], [1.0, 0.0, 0.0, 0.0], [1.0, 0.0, 0.0, 0.0], [1.0, 0.0, 0.0, 0.0]], [[1.0, 0.0, 0.0, 0.0], [1.0, 0.0, 0.0, 0.0], [1.0, 0.0, 0.0, 0.0], [1.0, 0.0, 0.0, 0.0]], [[1.0, 0.0, 0.0, 0.0], [1.0, 0.0, 0.0, 0.0], [1.0, 0.0, 0.0, 0.0], [1.0, 0.0, 0.0, 0.0]], [[1.0, 0.0, 0.0, 0.0], [1.0, 0.0, 0.0, 0.0], [1.0, 0.0, 0.0, 0.0], [1.0, 0.0, 0.0, 0.0]], [[1.0, 0.0, 0.0, 0.0], [1.0, 0.0, 0.0, 0.0], [1.0, 0.0, 0.0, 0.0], [1.0, 0.0, 0.0, 0.0]], [[1.0, 0.0, 0.0, 0.0], [1.0, 0.0, 0.0, 0.0], [1.0, 0.0, 0.0, 0.0], [1.0, 0.0, 0.0, 0.0]], [[1.0, 0.0, 0.0, 0.0], [1.0, 0.0, 0.0, 0.0], [1.0, 0.0, 0.0, 0.0], [1.0, 0.0, 0.0, 0.0]], [[1.0, 0.0, 0.0, 0.0], [1.0, 0.0, 0.0, 0.0], [1.0, 0.0, 0.0, 0.0], [1.0, 0.0, 0.0, 0.0]], [[1.0, 0.0, 0.0, 0.0], [1.0, 0.0, 0.0, 0.0], [1.0, 0.0, 0.0, 0.0], [1.0, 0.0, 0.0, 0.0]], [[1.0, 0.0, 0.0, 0.0], [1.0, 0.0, 0.0, 0.0], [1.0, 0.0, 0.0, 0.0], [1.0, 0.0, 0.0, 0.0]], [[1.0, 0.0, 0.0, 0.0], [1.0, 0.0, 0.0, 0.0], [1.0, 0.0, 0.0, 0.0], [1.0, 0.0, 0.0, 0.0]], [[1.0, 0.0, 0.0, 0.0], [1.0, 0.0, 0.0, 0.0], [1.0, 0.0, 0.0, 0.0], [1.0, 0.0, 0.0, 0.0]], [[1.0, 0.0, 0.0, 0.0], [1.0, 0.0, 0.0, 0.0], [1.0, 0.0, 0.0, 0.0], [1.0, 0.0, 0.0, 0.0]], [[1.0, 0.0, 0.0, 0.0], [1.0, 0.0, 0.0, 0.0], [1.0, 0.0, 0.0, 0.0], [1.0, 0.0, 0.0, 0.0]], [[1.0, 0.0, 0.0, 0.0], [1.0, 0.0, 0.0, 0.0], [1.0, 0.0, 0.0, 0.0], [1.0, 0.0, 0.0, 0.0]], [[1.0, 0.0, 0.0, 0.0], [1.0, 0.0, 0.0, 0.0], [1.0, 0.0, 0.0, 0.0], [1.0, 0.0, 0.0, 0.0]], [[1.0, 0.0, 0.0, 0.0], [1.0, 0.0, 0.0, 0.0], [1.0, 0.0, 0.0, 0.0], [1.0, 0.0, 0.0, 0.0]], [[1.0, 0.0, 0.0, 0.0], [1.0, 0.0, 0.0, 0.0], [1.0, 0.0, 0.0, 0.0], [1.0, 0.0, 0.0, 0.0]], [[1.0, 0.0, 0.0, 0.0], [1.0, 0.0, 0.0, 0.0], [1.0, 0.0, 0.0, 0.0], [1.0, 0.0, 0.0, 0.0]], [[1.0, 0.0, 0.0, 0.0], [1.0, 0.0, 0.0, 0.0], [1.0, 0.0, 0.0, 0.0], [1.0, 0.0, 0.0, 0.0]], [[1.0, 0.0, 0.0, 0.0], [1.0, 0.0, 0.0, 0.0], [1.0, 0.0, 0.0, 0.0], [1.0, 0.0, 0.0, 0.0]], [[1.0, 0.0, 0.0, 0.0], [1.0, 0.0, 0.0, 0.0], [1.0, 0.0, 0.0, 0.0], [1.0, 0.0, 0.0, 0.0]], [[1.0, 0.0, 0.0, 0.0], [1.0, 0.0, 0.0, 0.0], [1.0, 0.0, 0.0, 0.0], [1.0, 0.0, 0.0, 0.0]], [[1.0, 0.0, 0.0, 0.0], [1.0, 0.0, 0.0, 0.0], [1.0, 0.0, 0.0, 0.0], [1.0, 0.0, 0.0, 0.0]], [[1.0, 0.0, 0.0, 0.0], [1.0, 0.0, 0.0, 0.0], [1.0, 0.0, 0.0, 0.0], [1.0, 0.0, 0.0, 0.0]], [[1.0, 0.0, 0.0, 0.0], [1.0, 0.0, 0.0, 0.0], [1.0, 0.0, 0.0, 0.0], [1.0, 0.0, 0.0, 0.0]], [[1.0, 0.0, 0.0, 0.0], [1.0, 0.0, 0.0, 0.0], [1.0, 0.0, 0.0, 0.0], [1.0, 0.0, 0.0, 0.0]], [[1.0, 0.0, 0.0, 0.0], [1.0, 0.0, 0.0, 0.0], [1.0, 0.0, 0.0, 0.0], [1.0, 0.0, 0.0, 0.0]], [[1.0, 0.0, 0.0, 0.0], [1.0, 0.0, 0.0, 0.0], [1.0, 0.0, 0.0, 0.0], [1.0, 0.0, 0.0, 0.0]], [[1.0, 0.0, 0.0, 0.0], [1.0, 0.0, 0.0, 0.0], [1.0, 0.0, 0.0, 0.0], [1.0, 0.0, 0.0, 0.0]], [[1.0, 0.0, 0.0, 0.0], [1.0, 0.0, 0.0, 0.0], [1.0, 0.0, 0.0, 0.0], [1.0, 0.0, 0.0, 0.0]], [[1.0, 0.0, 0.0, 0.0], [1.0, 0.0, 0.0, 0.0], [1.0, 0.0, 0.0, 0.0], [1.0, 0.0, 0.0, 0.0]], [[1.0, 0.0, 0.0, 0.0], [1.0, 0.0, 0.0, 0.0], [1.0, 0.0, 0.0, 0.0], [1.0, 0.0, 0.0, 0.0]], [[1.0, 0.0, 0.0, 0.0], [1.0, 0.0, 0.0, 0.0], [1.0, 0.0, 0.0, 0.0], [1.0, 0.0, 0.0, 0.0]], [[1.0, 0.0, 0.0, 0.0], [1.0, 0.0, 0.0, 0.0], [1.0, 0.0, 0.0, 0.0], [1.0, 0.0, 0.0, 0.0]], [[1.0, 0.0, 0.0, 0.0], [1.0, 0.0, 0.0, 0.0], [1.0, 0.0, 0.0, 0.0], [1.0, 0.0, 0.0, 0.0]], [[1.0, 0.0, 0.0, 0.0], [1.0, 0.0, 0.0, 0.0], [1.0, 0.0, 0.0, 0.0], [1.0, 0.0, 0.0, 0.0]], [[1.0, 0.0, 0.0, 0.0], [1.0, 0.0, 0.0, 0.0], [1.0, 0.0, 0.0, 0.0], [1.0, 0.0, 0.0, 0.0]], [[1.0, 0.0, 0.0, 0.0], [1.0, 0.0, 0.0, 0.0], [1.0, 0.0, 0.0, 0.0], [1.0, 0.0, 0.0, 0.0]], [[1.0, 0.0, 0.0, 0.0], [1.0, 0.0, 0.0, 0.0], [1.0, 0.0, 0.0, 0.0], [1.0, 0.0, 0.0, 0.0]], [[1.0, 0.0, 0.0, 0.0], [1.0, 0.0, 0.0, 0.0], [1.0, 0.0, 0.0, 0.0], [1.0, 0.0, 0.0, 0.0]], [[1.0, 0.0, 0.0, 0.0], [1.0, 0.0, 0.0, 0.0], [1.0, 0.0, 0.0, 0.0], [1.0, 0.0, 0.0, 0.0]], [[1.0, 0.0, 0.0, 0.0], [1.0, 0.0, 0.0, 0.0], [1.0, 0.0, 0.0, 0.0], [1.0, 0.0, 0.0, 0.0]], [[1.0, 0.0, 0.0, 0.0], [1.0, 0.0, 0.0, 0.0], [1.0, 0.0, 0.0, 0.0], [1.0, 0.0, 0.0, 0.0]], [[1.0, 0.0, 0.0, 0.0], [1.0, 0.0, 0.0, 0.0], [1.0, 0.0, 0.0, 0.0], [1.0, 0.0, 0.0, 0.0]], [[1.0, 0.0, 0.0, 0.0], [1.0, 0.0, 0.0, 0.0], [1.0, 0.0, 0.0, 0.0], [1.0, 0.0, 0.0, 0.0]], [[1.0, 0.0, 0.0, 0.0], [1.0, 0.0, 0.0, 0.0], [1.0, 0.0, 0.0, 0.0], [1.0, 0.0, 0.0, 0.0]], [[1.0, 0.0, 0.0, 0.0], [1.0, 0.0, 0.0, 0.0], [1.0, 0.0, 0.0, 0.0], [1.0, 0.0, 0.0, 0.0]], [[1.0, 0.0, 0.0, 0.0], [1.0, 0.0, 0.0, 0.0], [1.0, 0.0, 0.0, 0.0], [1.0, 0.0, 0.0, 0.0]], [[1.0, 0.0, 0.0, 0.0], [1.0, 0.0, 0.0, 0.0], [1.0, 0.0, 0.0, 0.0], [1.0, 0.0, 0.0, 0.0]], [[1.0, 0.0, 0.0, 0.0], [1.0, 0.0, 0.0, 0.0], [1.0, 0.0, 0.0, 0.0], [1.0, 0.0, 0.0, 0.0]], [[1.0, 0.0, 0.0, 0.0], [1.0, 0.0, 0.0, 0.0], [1.0, 0.0, 0.0, 0.0], [1.0, 0.0, 0.0, 0.0]], [[1.0, 0.0, 0.0, 0.0], [1.0, 0.0, 0.0, 0.0], [1.0, 0.0, 0.0, 0.0], [1.0, 0.0, 0.0, 0.0]], [[1.0, 0.0, 0.0, 0.0], [1.0, 0.0, 0.0, 0.0], [1.0, 0.0, 0.0, 0.0], [1.0, 0.0, 0.0, 0.0]], [[1.0, 0.0, 0.0, 0.0], [1.0, 0.0, 0.0, 0.0], [1.0, 0.0, 0.0, 0.0], [1.0, 0.0, 0.0, 0.0]], [[1.0, 0.0, 0.0, 0.0], [1.0, 0.0, 0.0, 0.0], [1.0, 0.0, 0.0, 0.0], [1.0, 0.0, 0.0, 0.0]], [[1.0, 0.0, 0.0, 0.0], [1.0, 0.0, 0.0, 0.0], [1.0, 0.0, 0.0, 0.0], [1.0, 0.0, 0.0, 0.0]], [[1.0, 0.0, 0.0, 0.0], [1.0, 0.0, 0.0, 0.0], [1.0, 0.0, 0.0, 0.0], [1.0, 0.0, 0.0, 0.0]], [[1.0, 0.0, 0.0, 0.0], [1.0, 0.0, 0.0, 0.0], [1.0, 0.0, 0.0, 0.0], [1.0, 0.0, 0.0, 0.0]], [[1.0, 0.0, 0.0, 0.0], [1.0, 0.0, 0.0, 0.0], [1.0, 0.0, 0.0, 0.0], [1.0, 0.0, 0.0, 0.0]], [[1.0, 0.0, 0.0, 0.0], [1.0, 0.0, 0.0, 0.0], [1.0, 0.0, 0.0, 0.0], [1.0, 0.0, 0.0, 0.0]], [[1.0, 0.0, 0.0, 0.0], [1.0, 0.0, 0.0, 0.0], [1.0, 0.0, 0.0, 0.0], [1.0, 0.0, 0.0, 0.0]], [[1.0, 0.0, 0.0, 0.0], [1.0, 0.0, 0.0, 0.0], [1.0, 0.0, 0.0, 0.0], [1.0, 0.0, 0.0, 0.0]], [[1.0, 0.0, 0.0, 0.0], [1.0, 0.0, 0.0, 0.0], [1.0, 0.0, 0.0, 0.0], [1.0, 0.0, 0.0, 0.0]], [[1.0, 0.0, 0.0, 0.0], [1.0, 0.0, 0.0, 0.0], [1.0, 0.0, 0.0, 0.0], [1.0, 0.0, 0.0, 0.0]], [[1.0, 0.0, 0.0, 0.0], [1.0, 0.0, 0.0, 0.0], [1.0, 0.0, 0.0, 0.0], [1.0, 0.0, 0.0, 0.0]], [[1.0, 0.0, 0.0, 0.0], [1.0, 0.0, 0.0, 0.0], [1.0, 0.0, 0.0, 0.0], [1.0, 0.0, 0.0, 0.0]], [[1.0, 0.0, 0.0, 0.0], [1.0, 0.0, 0.0, 0.0], [1.0, 0.0, 0.0, 0.0], [1.0, 0.0, 0.0, 0.0]], [[1.0, 0.0, 0.0, 0.0], [1.0, 0.0, 0.0, 0.0], [1.0, 0.0, 0.0, 0.0], [1.0, 0.0, 0.0, 0.0]], [[1.0, 0.0, 0.0, 0.0], [1.0, 0.0, 0.0, 0.0], [1.0, 0.0, 0.0, 0.0], [1.0, 0.0, 0.0, 0.0]], [[1.0, 0.0, 0.0, 0.0], [1.0, 0.0, 0.0, 0.0], [1.0, 0.0, 0.0, 0.0], [1.0, 0.0, 0.0, 0.0]], [[1.0, 0.0, 0.0, 0.0], [1.0, 0.0, 0.0, 0.0], [1.0, 0.0, 0.0, 0.0], [1.0, 0.0, 0.0, 0.0]], [[1.0, 0.0, 0.0, 0.0], [1.0, 0.0, 0.0, 0.0], [1.0, 0.0, 0.0, 0.0], [1.0, 0.0, 0.0, 0.0]], [[1.0, 0.0, 0.0, 0.0], [1.0, 0.0, 0.0, 0.0], [1.0, 0.0, 0.0, 0.0], [1.0, 0.0, 0.0, 0.0]], [[1.0, 0.0, 0.0, 0.0], [1.0, 0.0, 0.0, 0.0], [1.0, 0.0, 0.0, 0.0], [1.0, 0.0, 0.0, 0.0]], [[1.0, 0.0, 0.0, 0.0], [1.0, 0.0, 0.0, 0.0], [1.0, 0.0, 0.0, 0.0], [1.0, 0.0, 0.0, 0.0]], [[1.0, 0.0, 0.0, 0.0], [1.0, 0.0, 0.0, 0.0], [1.0, 0.0, 0.0, 0.0], [1.0, 0.0, 0.0, 0.0]], [[1.0, 0.0, 0.0, 0.0], [1.0, 0.0, 0.0, 0.0], [1.0, 0.0, 0.0, 0.0], [1.0, 0.0, 0.0, 0.0]], [[1.0, 0.0, 0.0, 0.0], [1.0, 0.0, 0.0, 0.0], [1.0, 0.0, 0.0, 0.0], [1.0, 0.0, 0.0, 0.0]], [[1.0, 0.0, 0.0, 0.0], [1.0, 0.0, 0.0, 0.0], [1.0, 0.0, 0.0, 0.0], [1.0, 0.0, 0.0, 0.0]], [[1.0, 0.0, 0.0, 0.0], [1.0, 0.0, 0.0, 0.0], [1.0, 0.0, 0.0, 0.0], [1.0, 0.0, 0.0, 0.0]], [[1.0, 0.0, 0.0, 0.0], [1.0, 0.0, 0.0, 0.0], [1.0, 0.0, 0.0, 0.0], [1.0, 0.0, 0.0, 0.0]], [[1.0, 0.0, 0.0, 0.0], [1.0, 0.0, 0.0, 0.0], [1.0, 0.0, 0.0, 0.0], [1.0, 0.0, 0.0, 0.0]], [[1.0, 0.0, 0.0, 0.0], [1.0, 0.0, 0.0, 0.0], [1.0, 0.0, 0.0, 0.0], [1.0, 0.0, 0.0, 0.0]], [[1.0, 0.0, 0.0, 0.0], [1.0, 0.0, 0.0, 0.0], [1.0, 0.0, 0.0, 0.0], [1.0, 0.0, 0.0, 0.0]], [[1.0, 0.0, 0.0, 0.0], [1.0, 0.0, 0.0, 0.0], [1.0, 0.0, 0.0, 0.0], [1.0, 0.0, 0.0, 0.0]], [[1.0, 0.0, 0.0, 0.0], [1.0, 0.0, 0.0, 0.0], [1.0, 0.0, 0.0, 0.0], [1.0, 0.0, 0.0, 0.0]], [[1.0, 0.0, 0.0, 0.0], [1.0, 0.0, 0.0, 0.0], [1.0, 0.0, 0.0, 0.0], [1.0, 0.0, 0.0, 0.0]], [[1.0, 0.0, 0.0, 0.0], [1.0, 0.0, 0.0, 0.0], [1.0, 0.0, 0.0, 0.0], [1.0, 0.0, 0.0, 0.0]], [[1.0, 0.0, 0.0, 0.0], [1.0, 0.0, 0.0, 0.0], [1.0, 0.0, 0.0, 0.0], [1.0, 0.0, 0.0, 0.0]], [[1.0, 0.0, 0.0, 0.0], [1.0, 0.0, 0.0, 0.0], [1.0, 0.0, 0.0, 0.0], [1.0, 0.0, 0.0, 0.0]], [[1.0, 0.0, 0.0, 0.0], [1.0, 0.0, 0.0, 0.0], [1.0, 0.0, 0.0, 0.0], [1.0, 0.0, 0.0, 0.0]], [[1.0, 0.0, 0.0, 0.0], [1.0, 0.0, 0.0, 0.0], [1.0, 0.0, 0.0, 0.0], [1.0, 0.0, 0.0, 0.0]], [[1.0, 0.0, 0.0, 0.0], [1.0, 0.0, 0.0, 0.0], [1.0, 0.0, 0.0, 0.0], [1.0, 0.0, 0.0, 0.0]], [[1.0, 0.0, 0.0, 0.0], [1.0, 0.0, 0.0, 0.0], [1.0, 0.0, 0.0, 0.0], [1.0, 0.0, 0.0, 0.0]], [[1.0, 0.0, 0.0, 0.0], [1.0, 0.0, 0.0, 0.0], [1.0, 0.0, 0.0, 0.0], [1.0, 0.0, 0.0, 0.0]], [[1.0, 0.0, 0.0, 0.0], [1.0, 0.0, 0.0, 0.0], [1.0, 0.0, 0.0, 0.0], [1.0, 0.0, 0.0, 0.0]], [[1.0, 0.0, 0.0, 0.0], [1.0, 0.0, 0.0, 0.0], [1.0, 0.0, 0.0, 0.0], [1.0, 0.0, 0.0, 0.0]], [[1.0, 0.0, 0.0, 0.0], [1.0, 0.0, 0.0, 0.0], [1.0, 0.0, 0.0, 0.0], [1.0, 0.0, 0.0, 0.0]], [[1.0, 0.0, 0.0, 0.0], [1.0, 0.0, 0.0, 0.0], [1.0, 0.0, 0.0, 0.0], [1.0, 0.0, 0.0, 0.0]], [[1.0, 0.0, 0.0, 0.0], [1.0, 0.0, 0.0, 0.0], [1.0, 0.0, 0.0, 0.0], [1.0, 0.0, 0.0, 0.0]], [[1.0, 0.0, 0.0, 0.0], [1.0, 0.0, 0.0, 0.0], [1.0, 0.0, 0.0, 0.0], [1.0, 0.0, 0.0, 0.0]], [[1.0, 0.0, 0.0, 0.0], [1.0, 0.0, 0.0, 0.0], [1.0, 0.0, 0.0, 0.0], [1.0, 0.0, 0.0, 0.0]], [[1.0, 0.0, 0.0, 0.0], [1.0, 0.0, 0.0, 0.0], [1.0, 0.0, 0.0, 0.0], [1.0, 0.0, 0.0, 0.0]], [[1.0, 0.0, 0.0, 0.0], [1.0, 0.0, 0.0, 0.0], [1.0, 0.0, 0.0, 0.0], [1.0, 0.0, 0.0, 0.0]], [[1.0, 0.0, 0.0, 0.0], [1.0, 0.0, 0.0, 0.0], [1.0, 0.0, 0.0, 0.0], [1.0, 0.0, 0.0, 0.0]], [[1.0, 0.0, 0.0, 0.0], [1.0, 0.0, 0.0, 0.0], [1.0, 0.0, 0.0, 0.0], [1.0, 0.0, 0.0, 0.0]], [[1.0, 0.0, 0.0, 0.0], [1.0, 0.0, 0.0, 0.0], [1.0, 0.0, 0.0, 0.0], [1.0, 0.0, 0.0, 0.0]], [[1.0, 0.0, 0.0, 0.0], [1.0, 0.0, 0.0, 0.0], [1.0, 0.0, 0.0, 0.0], [1.0, 0.0, 0.0, 0.0]], [[1.0, 0.0, 0.0, 0.0], [1.0, 0.0, 0.0, 0.0], [1.0, 0.0, 0.0, 0.0], [1.0, 0.0, 0.0, 0.0]], [[1.0, 0.0, 0.0, 0.0], [1.0, 0.0, 0.0, 0.0], [1.0, 0.0, 0.0, 0.0], [1.0, 0.0, 0.0, 0.0]], [[1.0, 0.0, 0.0, 0.0], [1.0, 0.0, 0.0, 0.0], [1.0, 0.0, 0.0, 0.0], [1.0, 0.0, 0.0, 0.0]], [[1.0, 0.0, 0.0, 0.0], [1.0, 0.0, 0.0, 0.0], [1.0, 0.0, 0.0, 0.0], [1.0, 0.0, 0.0, 0.0]], [[1.0, 0.0, 0.0, 0.0], [1.0, 0.0, 0.0, 0.0], [1.0, 0.0, 0.0, 0.0], [1.0, 0.0, 0.0, 0.0]], [[1.0, 0.0, 0.0, 0.0], [1.0, 0.0, 0.0, 0.0], [1.0, 0.0, 0.0, 0.0], [1.0, 0.0, 0.0, 0.0]], [[1.0, 0.0, 0.0, 0.0], [1.0, 0.0, 0.0, 0.0], [1.0, 0.0, 0.0, 0.0], [1.0, 0.0, 0.0, 0.0]], [[1.0, 0.0, 0.0, 0.0], [1.0, 0.0, 0.0, 0.0], [1.0, 0.0, 0.0, 0.0], [1.0, 0.0, 0.0, 0.0]], [[1.0, 0.0, 0.0, 0.0], [1.0, 0.0, 0.0, 0.0], [1.0, 0.0, 0.0, 0.0], [1.0, 0.0, 0.0, 0.0]], [[1.0, 0.0, 0.0, 0.0], [1.0, 0.0, 0.0, 0.0], [1.0, 0.0, 0.0, 0.0], [1.0, 0.0, 0.0, 0.0]], [[1.0, 0.0, 0.0, 0.0], [1.0, 0.0, 0.0, 0.0], [1.0, 0.0, 0.0, 0.0], [1.0, 0.0, 0.0, 0.0]], [[1.0, 0.0, 0.0, 0.0], [1.0, 0.0, 0.0, 0.0], [1.0, 0.0, 0.0, 0.0], [1.0, 0.0, 0.0, 0.0]], [[1.0, 0.0, 0.0, 0.0], [1.0, 0.0, 0.0, 0.0], [1.0, 0.0, 0.0, 0.0], [1.0, 0.0, 0.0, 0.0]], [[1.0, 0.0, 0.0, 0.0], [1.0, 0.0, 0.0, 0.0], [1.0, 0.0, 0.0, 0.0], [1.0, 0.0, 0.0, 0.0]], [[1.0, 0.0, 0.0, 0.0], [1.0, 0.0, 0.0, 0.0], [1.0, 0.0, 0.0, 0.0], [1.0, 0.0, 0.0, 0.0]], [[1.0, 0.0, 0.0, 0.0], [1.0, 0.0, 0.0, 0.0], [1.0, 0.0, 0.0, 0.0], [1.0, 0.0, 0.0, 0.0]], [[1.0, 0.0, 0.0, 0.0], [1.0, 0.0, 0.0, 0.0], [1.0, 0.0, 0.0, 0.0], [1.0, 0.0, 0.0, 0.0]], [[1.0, 0.0, 0.0, 0.0], [1.0, 0.0, 0.0, 0.0], [1.0, 0.0, 0.0, 0.0], [1.0, 0.0, 0.0, 0.0]], [[1.0, 0.0, 0.0, 0.0], [1.0, 0.0, 0.0, 0.0], [1.0, 0.0, 0.0, 0.0], [1.0, 0.0, 0.0, 0.0]], [[1.0, 0.0, 0.0, 0.0], [1.0, 0.0, 0.0, 0.0], [1.0, 0.0, 0.0, 0.0], [1.0, 0.0, 0.0, 0.0]], [[1.0, 0.0, 0.0, 0.0], [1.0, 0.0, 0.0, 0.0], [1.0, 0.0, 0.0, 0.0], [1.0, 0.0, 0.0, 0.0]], [[1.0, 0.0, 0.0, 0.0], [1.0, 0.0, 0.0, 0.0], [1.0, 0.0, 0.0, 0.0], [1.0, 0.0, 0.0, 0.0]], [[1.0, 0.0, 0.0, 0.0], [1.0, 0.0, 0.0, 0.0], [1.0, 0.0, 0.0, 0.0], [1.0, 0.0, 0.0, 0.0]], [[1.0, 0.0, 0.0, 0.0], [1.0, 0.0, 0.0, 0.0], [1.0, 0.0, 0.0, 0.0], [1.0, 0.0, 0.0, 0.0]], [[1.0, 0.0, 0.0, 0.0], [1.0, 0.0, 0.0, 0.0], [1.0, 0.0, 0.0, 0.0], [1.0, 0.0, 0.0, 0.0]], [[1.0, 0.0, 0.0, 0.0], [1.0, 0.0, 0.0, 0.0], [1.0, 0.0, 0.0, 0.0], [1.0, 0.0, 0.0, 0.0]], [[1.0, 0.0, 0.0, 0.0], [1.0, 0.0, 0.0, 0.0], [1.0, 0.0, 0.0, 0.0], [1.0, 0.0, 0.0, 0.0]], [[1.0, 0.0, 0.0, 0.0], [1.0, 0.0, 0.0, 0.0], [1.0, 0.0, 0.0, 0.0], [1.0, 0.0, 0.0, 0.0]], [[1.0, 0.0, 0.0, 0.0], [1.0, 0.0, 0.0, 0.0], [1.0, 0.0, 0.0, 0.0], [1.0, 0.0, 0.0, 0.0]], [[1.0, 0.0, 0.0, 0.0], [1.0, 0.0, 0.0, 0.0], [1.0, 0.0, 0.0, 0.0], [1.0, 0.0, 0.0, 0.0]], [[1.0, 0.0, 0.0, 0.0], [1.0, 0.0, 0.0, 0.0], [1.0, 0.0, 0.0, 0.0], [1.0, 0.0, 0.0, 0.0]], [[1.0, 0.0, 0.0, 0.0], [1.0, 0.0, 0.0, 0.0], [1.0, 0.0, 0.0, 0.0], [1.0, 0.0, 0.0, 0.0]], [[1.0, 0.0, 0.0, 0.0], [1.0, 0.0, 0.0, 0.0], [1.0, 0.0, 0.0, 0.0], [1.0, 0.0, 0.0, 0.0]], [[1.0, 0.0, 0.0, 0.0], [1.0, 0.0, 0.0, 0.0], [1.0, 0.0, 0.0, 0.0], [1.0, 0.0, 0.0, 0.0]], [[1.0, 0.0, 0.0, 0.0], [1.0, 0.0, 0.0, 0.0], [1.0, 0.0, 0.0, 0.0], [1.0, 0.0, 0.0, 0.0]], [[1.0, 0.0, 0.0, 0.0], [1.0, 0.0, 0.0, 0.0], [1.0, 0.0, 0.0, 0.0], [1.0, 0.0, 0.0, 0.0]], [[1.0, 0.0, 0.0, 0.0], [1.0, 0.0, 0.0, 0.0], [1.0, 0.0, 0.0, 0.0], [1.0, 0.0, 0.0, 0.0]], [[1.0, 0.0, 0.0, 0.0], [1.0, 0.0, 0.0, 0.0], [1.0, 0.0, 0.0, 0.0], [1.0, 0.0, 0.0, 0.0]], [[1.0, 0.0, 0.0, 0.0], [1.0, 0.0, 0.0, 0.0], [1.0, 0.0, 0.0, 0.0], [1.0, 0.0, 0.0, 0.0]], [[1.0, 0.0, 0.0, 0.0], [1.0, 0.0, 0.0, 0.0], [1.0, 0.0, 0.0, 0.0], [1.0, 0.0, 0.0, 0.0]], [[1.0, 0.0, 0.0, 0.0], [1.0, 0.0, 0.0, 0.0], [1.0, 0.0, 0.0, 0.0], [1.0, 0.0, 0.0, 0.0]], [[1.0, 0.0, 0.0, 0.0], [1.0, 0.0, 0.0, 0.0], [1.0, 0.0, 0.0, 0.0], [1.0, 0.0, 0.0, 0.0]], [[1.0, 0.0, 0.0, 0.0], [1.0, 0.0, 0.0, 0.0], [1.0, 0.0, 0.0, 0.0], [1.0, 0.0, 0.0, 0.0]], [[1.0, 0.0, 0.0, 0.0], [1.0, 0.0, 0.0, 0.0], [1.0, 0.0, 0.0, 0.0], [1.0, 0.0, 0.0, 0.0]], [[1.0, 0.0, 0.0, 0.0], [1.0, 0.0, 0.0, 0.0], [1.0, 0.0, 0.0, 0.0], [1.0, 0.0, 0.0, 0.0]], [[1.0, 0.0, 0.0, 0.0], [1.0, 0.0, 0.0, 0.0], [1.0, 0.0, 0.0, 0.0], [1.0, 0.0, 0.0, 0.0]], [[1.0, 0.0, 0.0, 0.0], [1.0, 0.0, 0.0, 0.0], [1.0, 0.0, 0.0, 0.0], [1.0, 0.0, 0.0, 0.0]], [[1.0, 0.0, 0.0, 0.0], [1.0, 0.0, 0.0, 0.0], [1.0, 0.0, 0.0, 0.0], [1.0, 0.0, 0.0, 0.0]], [[1.0, 0.0, 0.0, 0.0], [1.0, 0.0, 0.0, 0.0], [1.0, 0.0, 0.0, 0.0], [1.0, 0.0, 0.0, 0.0]], [[1.0, 0.0, 0.0, 0.0], [1.0, 0.0, 0.0, 0.0], [1.0, 0.0, 0.0, 0.0], [1.0, 0.0, 0.0, 0.0]], [[1.0, 0.0, 0.0, 0.0], [1.0, 0.0, 0.0, 0.0], [1.0, 0.0, 0.0, 0.0], [1.0, 0.0, 0.0, 0.0]], [[1.0, 0.0, 0.0, 0.0], [1.0, 0.0, 0.0, 0.0], [1.0, 0.0, 0.0, 0.0], [1.0, 0.0, 0.0, 0.0]], [[1.0, 0.0, 0.0, 0.0], [1.0, 0.0, 0.0, 0.0], [1.0, 0.0, 0.0, 0.0], [1.0, 0.0, 0.0, 0.0]], [[1.0, 0.0, 0.0, 0.0], [1.0, 0.0, 0.0, 0.0], [1.0, 0.0, 0.0, 0.0], [1.0, 0.0, 0.0, 0.0]], [[1.0, 0.0, 0.0, 0.0], [1.0, 0.0, 0.0, 0.0], [1.0, 0.0, 0.0, 0.0], [1.0, 0.0, 0.0, 0.0]], [[1.0, 0.0, 0.0, 0.0], [1.0, 0.0, 0.0, 0.0], [1.0, 0.0, 0.0, 0.0], [1.0, 0.0, 0.0, 0.0]], [[1.0, 0.0, 0.0, 0.0], [1.0, 0.0, 0.0, 0.0], [1.0, 0.0, 0.0, 0.0], [1.0, 0.0, 0.0, 0.0]], [[1.0, 0.0, 0.0, 0.0], [1.0, 0.0, 0.0, 0.0], [1.0, 0.0, 0.0, 0.0], [1.0, 0.0, 0.0, 0.0]], [[1.0, 0.0, 0.0, 0.0], [1.0, 0.0, 0.0, 0.0], [1.0, 0.0, 0.0, 0.0], [1.0, 0.0, 0.0, 0.0]], [[1.0, 0.0, 0.0, 0.0], [1.0, 0.0, 0.0, 0.0], [1.0, 0.0, 0.0, 0.0], [1.0, 0.0, 0.0, 0.0]], [[1.0, 0.0, 0.0, 0.0], [1.0, 0.0, 0.0, 0.0], [1.0, 0.0, 0.0, 0.0], [1.0, 0.0, 0.0, 0.0]], [[1.0, 0.0, 0.0, 0.0], [1.0, 0.0, 0.0, 0.0], [1.0, 0.0, 0.0, 0.0], [1.0, 0.0, 0.0, 0.0]], [[1.0, 0.0, 0.0, 0.0], [1.0, 0.0, 0.0, 0.0], [1.0, 0.0, 0.0, 0.0], [1.0, 0.0, 0.0, 0.0]], [[1.0, 0.0, 0.0, 0.0], [1.0, 0.0, 0.0, 0.0], [1.0, 0.0, 0.0, 0.0], [1.0, 0.0, 0.0, 0.0]], [[1.0, 0.0, 0.0, 0.0], [1.0, 0.0, 0.0, 0.0], [1.0, 0.0, 0.0, 0.0], [1.0, 0.0, 0.0, 0.0]], [[1.0, 0.0, 0.0, 0.0], [1.0, 0.0, 0.0, 0.0], [1.0, 0.0, 0.0, 0.0], [1.0, 0.0, 0.0, 0.0]], [[1.0, 0.0, 0.0, 0.0], [1.0, 0.0, 0.0, 0.0], [1.0, 0.0, 0.0, 0.0], [1.0, 0.0, 0.0, 0.0]], [[1.0, 0.0, 0.0, 0.0], [1.0, 0.0, 0.0, 0.0], [1.0, 0.0, 0.0, 0.0], [1.0, 0.0, 0.0, 0.0]], [[1.0, 0.0, 0.0, 0.0], [1.0, 0.0, 0.0, 0.0], [1.0, 0.0, 0.0, 0.0], [1.0, 0.0, 0.0, 0.0]], [[1.0, 0.0, 0.0, 0.0], [1.0, 0.0, 0.0, 0.0], [1.0, 0.0, 0.0, 0.0], [1.0, 0.0, 0.0, 0.0]], [[1.0, 0.0, 0.0, 0.0], [1.0, 0.0, 0.0, 0.0], [1.0, 0.0, 0.0, 0.0], [1.0, 0.0, 0.0, 0.0]], [[1.0, 0.0, 0.0, 0.0], [1.0, 0.0, 0.0, 0.0], [1.0, 0.0, 0.0, 0.0], [1.0, 0.0, 0.0, 0.0]], [[1.0, 0.0, 0.0, 0.0], [1.0, 0.0, 0.0, 0.0], [1.0, 0.0, 0.0, 0.0], [1.0, 0.0, 0.0, 0.0]], [[1.0, 0.0, 0.0, 0.0], [1.0, 0.0, 0.0, 0.0], [1.0, 0.0, 0.0, 0.0], [1.0, 0.0, 0.0, 0.0]], [[1.0, 0.0, 0.0, 0.0], [1.0, 0.0, 0.0, 0.0], [1.0, 0.0, 0.0, 0.0], [1.0, 0.0, 0.0, 0.0]], [[1.0, 0.0, 0.0, 0.0], [1.0, 0.0, 0.0, 0.0], [1.0, 0.0, 0.0, 0.0], [1.0, 0.0, 0.0, 0.0]], [[1.0, 0.0, 0.0, 0.0], [1.0, 0.0, 0.0, 0.0], [1.0, 0.0, 0.0, 0.0], [1.0, 0.0, 0.0, 0.0]], [[1.0, 0.0, 0.0, 0.0], [1.0, 0.0, 0.0, 0.0], [1.0, 0.0, 0.0, 0.0], [1.0, 0.0, 0.0, 0.0]], [[1.0, 0.0, 0.0, 0.0], [1.0, 0.0, 0.0, 0.0], [1.0, 0.0, 0.0, 0.0], [1.0, 0.0, 0.0, 0.0]], [[1.0, 0.0, 0.0, 0.0], [1.0, 0.0, 0.0, 0.0], [1.0, 0.0, 0.0, 0.0], [1.0, 0.0, 0.0, 0.0]], [[1.0, 0.0, 0.0, 0.0], [1.0, 0.0, 0.0, 0.0], [1.0, 0.0, 0.0, 0.0], [1.0, 0.0, 0.0, 0.0]], [[1.0, 0.0, 0.0, 0.0], [1.0, 0.0, 0.0, 0.0], [1.0, 0.0, 0.0, 0.0], [1.0, 0.0, 0.0, 0.0]], [[1.0, 0.0, 0.0, 0.0], [1.0, 0.0, 0.0, 0.0], [1.0, 0.0, 0.0, 0.0], [1.0, 0.0, 0.0, 0.0]], [[1.0, 0.0, 0.0, 0.0], [1.0, 0.0, 0.0, 0.0], [1.0, 0.0, 0.0, 0.0], [1.0, 0.0, 0.0, 0.0]], [[1.0, 0.0, 0.0, 0.0], [1.0, 0.0, 0.0, 0.0], [1.0, 0.0, 0.0, 0.0], [1.0, 0.0, 0.0, 0.0]], [[1.0, 0.0, 0.0, 0.0], [1.0, 0.0, 0.0, 0.0], [1.0, 0.0, 0.0, 0.0], [1.0, 0.0, 0.0, 0.0]], [[1.0, 0.0, 0.0, 0.0], [1.0, 0.0, 0.0, 0.0], [1.0, 0.0, 0.0, 0.0], [1.0, 0.0, 0.0, 0.0]], [[1.0, 0.0, 0.0, 0.0], [1.0, 0.0, 0.0, 0.0], [1.0, 0.0, 0.0, 0.0], [1.0, 0.0, 0.0, 0.0]], [[1.0, 0.0, 0.0, 0.0], [1.0, 0.0, 0.0, 0.0], [1.0, 0.0, 0.0, 0.0], [1.0, 0.0, 0.0, 0.0]], [[1.0, 0.0, 0.0, 0.0], [1.0, 0.0, 0.0, 0.0], [1.0, 0.0, 0.0, 0.0], [1.0, 0.0, 0.0, 0.0]], [[1.0, 0.0, 0.0, 0.0], [1.0, 0.0, 0.0, 0.0], [1.0, 0.0, 0.0, 0.0], [1.0, 0.0, 0.0, 0.0]], [[1.0, 0.0, 0.0, 0.0], [1.0, 0.0, 0.0, 0.0], [1.0, 0.0, 0.0, 0.0], [1.0, 0.0, 0.0, 0.0]], [[1.0, 0.0, 0.0, 0.0], [1.0, 0.0, 0.0, 0.0], [1.0, 0.0, 0.0, 0.0], [1.0, 0.0, 0.0, 0.0]], [[1.0, 0.0, 0.0, 0.0], [1.0, 0.0, 0.0, 0.0], [1.0, 0.0, 0.0, 0.0], [1.0, 0.0, 0.0, 0.0]], [[1.0, 0.0, 0.0, 0.0], [1.0, 0.0, 0.0, 0.0], [1.0, 0.0, 0.0, 0.0], [1.0, 0.0, 0.0, 0.0]], [[1.0, 0.0, 0.0, 0.0], [1.0, 0.0, 0.0, 0.0], [1.0, 0.0, 0.0, 0.0], [1.0, 0.0, 0.0, 0.0]], [[1.0, 0.0, 0.0, 0.0], [1.0, 0.0, 0.0, 0.0], [1.0, 0.0, 0.0, 0.0], [1.0, 0.0, 0.0, 0.0]], [[1.0, 0.0, 0.0, 0.0], [1.0, 0.0, 0.0, 0.0], [1.0, 0.0, 0.0, 0.0], [1.0, 0.0, 0.0, 0.0]], [[1.0, 0.0, 0.0, 0.0], [1.0, 0.0, 0.0, 0.0], [1.0, 0.0, 0.0, 0.0], [1.0, 0.0, 0.0, 0.0]], [[1.0, 0.0, 0.0, 0.0], [1.0, 0.0, 0.0, 0.0], [1.0, 0.0, 0.0, 0.0], [1.0, 0.0, 0.0, 0.0]], [[1.0, 0.0, 0.0, 0.0], [1.0, 0.0, 0.0, 0.0], [1.0, 0.0, 0.0, 0.0], [1.0, 0.0, 0.0, 0.0]], [[1.0, 0.0, 0.0, 0.0], [1.0, 0.0, 0.0, 0.0], [1.0, 0.0, 0.0, 0.0], [1.0, 0.0, 0.0, 0.0]], [[1.0, 0.0, 0.0, 0.0], [1.0, 0.0, 0.0, 0.0], [1.0, 0.0, 0.0, 0.0], [1.0, 0.0, 0.0, 0.0]], [[1.0, 0.0, 0.0, 0.0], [1.0, 0.0, 0.0, 0.0], [1.0, 0.0, 0.0, 0.0], [1.0, 0.0, 0.0, 0.0]], [[1.0, 0.0, 0.0, 0.0], [1.0, 0.0, 0.0, 0.0], [1.0, 0.0, 0.0, 0.0], [1.0, 0.0, 0.0, 0.0]], [[1.0, 0.0, 0.0, 0.0], [1.0, 0.0, 0.0, 0.0], [1.0, 0.0, 0.0, 0.0], [1.0, 0.0, 0.0, 0.0]], [[1.0, 0.0, 0.0, 0.0], [1.0, 0.0, 0.0, 0.0], [1.0, 0.0, 0.0, 0.0], [1.0, 0.0, 0.0, 0.0]], [[1.0, 0.0, 0.0, 0.0], [1.0, 0.0, 0.0, 0.0], [1.0, 0.0, 0.0, 0.0], [1.0, 0.0, 0.0, 0.0]], [[1.0, 0.0, 0.0, 0.0], [1.0, 0.0, 0.0, 0.0], [1.0, 0.0, 0.0, 0.0], [1.0, 0.0, 0.0, 0.0]], [[1.0, 0.0, 0.0, 0.0], [1.0, 0.0, 0.0, 0.0], [1.0, 0.0, 0.0, 0.0], [1.0, 0.0, 0.0, 0.0]], [[1.0, 0.0, 0.0, 0.0], [1.0, 0.0, 0.0, 0.0], [1.0, 0.0, 0.0, 0.0], [1.0, 0.0, 0.0, 0.0]], [[1.0, 0.0, 0.0, 0.0], [1.0, 0.0, 0.0, 0.0], [1.0, 0.0, 0.0, 0.0], [1.0, 0.0, 0.0, 0.0]], [[1.0, 0.0, 0.0, 0.0], [1.0, 0.0, 0.0, 0.0], [1.0, 0.0, 0.0, 0.0], [1.0, 0.0, 0.0, 0.0]], [[1.0, 0.0, 0.0, 0.0], [1.0, 0.0, 0.0, 0.0], [1.0, 0.0, 0.0, 0.0], [1.0, 0.0, 0.0, 0.0]], [[1.0, 0.0, 0.0, 0.0], [1.0, 0.0, 0.0, 0.0], [1.0, 0.0, 0.0, 0.0], [1.0, 0.0, 0.0, 0.0]], [[1.0, 0.0, 0.0, 0.0], [1.0, 0.0, 0.0, 0.0], [1.0, 0.0, 0.0, 0.0], [1.0, 0.0, 0.0, 0.0]], [[1.0, 0.0, 0.0, 0.0], [1.0, 0.0, 0.0, 0.0], [1.0, 0.0, 0.0, 0.0], [1.0, 0.0, 0.0, 0.0]], [[1.0, 0.0, 0.0, 0.0], [1.0, 0.0, 0.0, 0.0], [1.0, 0.0, 0.0, 0.0], [1.0, 0.0, 0.0, 0.0]], [[1.0, 0.0, 0.0, 0.0], [1.0, 0.0, 0.0, 0.0], [1.0, 0.0, 0.0, 0.0], [1.0, 0.0, 0.0, 0.0]], [[1.0, 0.0, 0.0, 0.0], [1.0, 0.0, 0.0, 0.0], [1.0, 0.0, 0.0, 0.0], [1.0, 0.0, 0.0, 0.0]], [[1.0, 0.0, 0.0, 0.0], [1.0, 0.0, 0.0, 0.0], [1.0, 0.0, 0.0, 0.0], [1.0, 0.0, 0.0, 0.0]], [[1.0, 0.0, 0.0, 0.0], [1.0, 0.0, 0.0, 0.0], [1.0, 0.0, 0.0, 0.0], [1.0, 0.0, 0.0, 0.0]], [[1.0, 0.0, 0.0, 0.0], [1.0, 0.0, 0.0, 0.0], [1.0, 0.0, 0.0, 0.0], [1.0, 0.0, 0.0, 0.0]], [[1.0, 0.0, 0.0, 0.0], [1.0, 0.0, 0.0, 0.0], [1.0, 0.0, 0.0, 0.0], [1.0, 0.0, 0.0, 0.0]], [[1.0, 0.0, 0.0, 0.0], [1.0, 0.0, 0.0, 0.0], [1.0, 0.0, 0.0, 0.0], [1.0, 0.0, 0.0, 0.0]], [[1.0, 0.0, 0.0, 0.0], [1.0, 0.0, 0.0, 0.0], [1.0, 0.0, 0.0, 0.0], [1.0, 0.0, 0.0, 0.0]], [[1.0, 0.0, 0.0, 0.0], [1.0, 0.0, 0.0, 0.0], [1.0, 0.0, 0.0, 0.0], [1.0, 0.0, 0.0, 0.0]], [[1.0, 0.0, 0.0, 0.0], [1.0, 0.0, 0.0, 0.0], [1.0, 0.0, 0.0, 0.0], [1.0, 0.0, 0.0, 0.0]], [[1.0, 0.0, 0.0, 0.0], [1.0, 0.0, 0.0, 0.0], [1.0, 0.0, 0.0, 0.0], [1.0, 0.0, 0.0, 0.0]], [[1.0, 0.0, 0.0, 0.0], [1.0, 0.0, 0.0, 0.0], [1.0, 0.0, 0.0, 0.0], [1.0, 0.0, 0.0, 0.0]], [[1.0, 0.0, 0.0, 0.0], [1.0, 0.0, 0.0, 0.0], [1.0, 0.0, 0.0, 0.0], [1.0, 0.0, 0.0, 0.0]], [[1.0, 0.0, 0.0, 0.0], [1.0, 0.0, 0.0, 0.0], [1.0, 0.0, 0.0, 0.0], [1.0, 0.0, 0.0, 0.0]], [[1.0, 0.0, 0.0, 0.0], [1.0, 0.0, 0.0, 0.0], [1.0, 0.0, 0.0, 0.0], [1.0, 0.0, 0.0, 0.0]], [[1.0, 0.0, 0.0, 0.0], [1.0, 0.0, 0.0, 0.0], [1.0, 0.0, 0.0, 0.0], [1.0, 0.0, 0.0, 0.0]], [[1.0, 0.0, 0.0, 0.0], [1.0, 0.0, 0.0, 0.0], [1.0, 0.0, 0.0, 0.0], [1.0, 0.0, 0.0, 0.0]], [[1.0, 0.0, 0.0, 0.0], [1.0, 0.0, 0.0, 0.0], [1.0, 0.0, 0.0, 0.0], [1.0, 0.0, 0.0, 0.0]], [[1.0, 0.0, 0.0, 0.0], [1.0, 0.0, 0.0, 0.0], [1.0, 0.0, 0.0, 0.0], [1.0, 0.0, 0.0, 0.0]], [[1.0, 0.0, 0.0, 0.0], [1.0, 0.0, 0.0, 0.0], [1.0, 0.0, 0.0, 0.0], [1.0, 0.0, 0.0, 0.0]], [[1.0, 0.0, 0.0, 0.0], [1.0, 0.0, 0.0, 0.0], [1.0, 0.0, 0.0, 0.0], [1.0, 0.0, 0.0, 0.0]], [[1.0, 0.0, 0.0, 0.0], [1.0, 0.0, 0.0, 0.0], [1.0, 0.0, 0.0, 0.0], [1.0, 0.0, 0.0, 0.0]], [[1.0, 0.0, 0.0, 0.0], [1.0, 0.0, 0.0, 0.0], [1.0, 0.0, 0.0, 0.0], [1.0, 0.0, 0.0, 0.0]], [[1.0, 0.0, 0.0, 0.0], [1.0, 0.0, 0.0, 0.0], [1.0, 0.0, 0.0, 0.0], [1.0, 0.0, 0.0, 0.0]], [[1.0, 0.0, 0.0, 0.0], [1.0, 0.0, 0.0, 0.0], [1.0, 0.0, 0.0, 0.0], [1.0, 0.0, 0.0, 0.0]], [[1.0, 0.0, 0.0, 0.0], [1.0, 0.0, 0.0, 0.0], [1.0, 0.0, 0.0, 0.0], [1.0, 0.0, 0.0, 0.0]], [[1.0, 0.0, 0.0, 0.0], [1.0, 0.0, 0.0, 0.0], [1.0, 0.0, 0.0, 0.0], [1.0, 0.0, 0.0, 0.0]], [[1.0, 0.0, 0.0, 0.0], [1.0, 0.0, 0.0, 0.0], [1.0, 0.0, 0.0, 0.0], [1.0, 0.0, 0.0, 0.0]], [[1.0, 0.0, 0.0, 0.0], [1.0, 0.0, 0.0, 0.0], [1.0, 0.0, 0.0, 0.0], [1.0, 0.0, 0.0, 0.0]], [[1.0, 0.0, 0.0, 0.0], [1.0, 0.0, 0.0, 0.0], [1.0, 0.0, 0.0, 0.0], [1.0, 0.0, 0.0, 0.0]], [[1.0, 0.0, 0.0, 0.0], [1.0, 0.0, 0.0, 0.0], [1.0, 0.0, 0.0, 0.0], [1.0, 0.0, 0.0, 0.0]], [[1.0, 0.0, 0.0, 0.0], [1.0, 0.0, 0.0, 0.0], [1.0, 0.0, 0.0, 0.0], [1.0, 0.0, 0.0, 0.0]], [[1.0, 0.0, 0.0, 0.0], [1.0, 0.0, 0.0, 0.0], [1.0, 0.0, 0.0, 0.0], [1.0, 0.0, 0.0, 0.0]], [[1.0, 0.0, 0.0, 0.0], [1.0, 0.0, 0.0, 0.0], [1.0, 0.0, 0.0, 0.0], [1.0, 0.0, 0.0, 0.0]], [[1.0, 0.0, 0.0, 0.0], [1.0, 0.0, 0.0, 0.0], [1.0, 0.0, 0.0, 0.0], [1.0, 0.0, 0.0, 0.0]], [[1.0, 0.0, 0.0, 0.0], [1.0, 0.0, 0.0, 0.0], [1.0, 0.0, 0.0, 0.0], [1.0, 0.0, 0.0, 0.0]], [[1.0, 0.0, 0.0, 0.0], [1.0, 0.0, 0.0, 0.0], [1.0, 0.0, 0.0, 0.0], [1.0, 0.0, 0.0, 0.0]], [[1.0, 0.0, 0.0, 0.0], [1.0, 0.0, 0.0, 0.0], [1.0, 0.0, 0.0, 0.0], [1.0, 0.0, 0.0, 0.0]], [[1.0, 0.0, 0.0, 0.0], [1.0, 0.0, 0.0, 0.0], [1.0, 0.0, 0.0, 0.0], [1.0, 0.0, 0.0, 0.0]], [[1.0, 0.0, 0.0, 0.0], [1.0, 0.0, 0.0, 0.0], [1.0, 0.0, 0.0, 0.0], [1.0, 0.0, 0.0, 0.0]], [[1.0, 0.0, 0.0, 0.0], [1.0, 0.0, 0.0, 0.0], [1.0, 0.0, 0.0, 0.0], [1.0, 0.0, 0.0, 0.0]], [[1.0, 0.0, 0.0, 0.0], [1.0, 0.0, 0.0, 0.0], [1.0, 0.0, 0.0, 0.0], [1.0, 0.0, 0.0, 0.0]], [[1.0, 0.0, 0.0, 0.0], [1.0, 0.0, 0.0, 0.0], [1.0, 0.0, 0.0, 0.0], [1.0, 0.0, 0.0, 0.0]], [[1.0, 0.0, 0.0, 0.0], [1.0, 0.0, 0.0, 0.0], [1.0, 0.0, 0.0, 0.0], [1.0, 0.0, 0.0, 0.0]], [[1.0, 0.0, 0.0, 0.0], [1.0, 0.0, 0.0, 0.0], [1.0, 0.0, 0.0, 0.0], [1.0, 0.0, 0.0, 0.0]], [[1.0, 0.0, 0.0, 0.0], [1.0, 0.0, 0.0, 0.0], [1.0, 0.0, 0.0, 0.0], [1.0, 0.0, 0.0, 0.0]], [[1.0, 0.0, 0.0, 0.0], [1.0, 0.0, 0.0, 0.0], [1.0, 0.0, 0.0, 0.0], [1.0, 0.0, 0.0, 0.0]], [[1.0, 0.0, 0.0, 0.0], [1.0, 0.0, 0.0, 0.0], [1.0, 0.0, 0.0, 0.0], [1.0, 0.0, 0.0, 0.0]], [[1.0, 0.0, 0.0, 0.0], [1.0, 0.0, 0.0, 0.0], [1.0, 0.0, 0.0, 0.0], [1.0, 0.0, 0.0, 0.0]], [[1.0, 0.0, 0.0, 0.0], [1.0, 0.0, 0.0, 0.0], [1.0, 0.0, 0.0, 0.0], [1.0, 0.0, 0.0, 0.0]], [[1.0, 0.0, 0.0, 0.0], [1.0, 0.0, 0.0, 0.0], [1.0, 0.0, 0.0, 0.0], [1.0, 0.0, 0.0, 0.0]], [[1.0, 0.0, 0.0, 0.0], [1.0, 0.0, 0.0, 0.0], [1.0, 0.0, 0.0, 0.0], [1.0, 0.0, 0.0, 0.0]], [[1.0, 0.0, 0.0, 0.0], [1.0, 0.0, 0.0, 0.0], [1.0, 0.0, 0.0, 0.0], [1.0, 0.0, 0.0, 0.0]], [[1.0, 0.0, 0.0, 0.0], [1.0, 0.0, 0.0, 0.0], [1.0, 0.0, 0.0, 0.0], [1.0, 0.0, 0.0, 0.0]], [[1.0, 0.0, 0.0, 0.0], [1.0, 0.0, 0.0, 0.0], [1.0, 0.0, 0.0, 0.0], [1.0, 0.0, 0.0, 0.0]], [[1.0, 0.0, 0.0, 0.0], [1.0, 0.0, 0.0, 0.0], [1.0, 0.0, 0.0, 0.0], [1.0, 0.0, 0.0, 0.0]], [[1.0, 0.0, 0.0, 0.0], [1.0, 0.0, 0.0, 0.0], [1.0, 0.0, 0.0, 0.0], [1.0, 0.0, 0.0, 0.0]], [[1.0, 0.0, 0.0, 0.0], [1.0, 0.0, 0.0, 0.0], [1.0, 0.0, 0.0, 0.0], [1.0, 0.0, 0.0, 0.0]], [[1.0, 0.0, 0.0, 0.0], [1.0, 0.0, 0.0, 0.0], [1.0, 0.0, 0.0, 0.0], [1.0, 0.0, 0.0, 0.0]], [[1.0, 0.0, 0.0, 0.0], [1.0, 0.0, 0.0, 0.0], [1.0, 0.0, 0.0, 0.0], [1.0, 0.0, 0.0, 0.0]], [[1.0, 0.0, 0.0, 0.0], [1.0, 0.0, 0.0, 0.0], [1.0, 0.0, 0.0, 0.0], [1.0, 0.0, 0.0, 0.0]], [[1.0, 0.0, 0.0, 0.0], [1.0, 0.0, 0.0, 0.0], [1.0, 0.0, 0.0, 0.0], [1.0, 0.0, 0.0, 0.0]], [[1.0, 0.0, 0.0, 0.0], [1.0, 0.0, 0.0, 0.0], [1.0, 0.0, 0.0, 0.0], [1.0, 0.0, 0.0, 0.0]], [[1.0, 0.0, 0.0, 0.0], [1.0, 0.0, 0.0, 0.0], [1.0, 0.0, 0.0, 0.0], [1.0, 0.0, 0.0, 0.0]], [[1.0, 0.0, 0.0, 0.0], [1.0, 0.0, 0.0, 0.0], [1.0, 0.0, 0.0, 0.0], [1.0, 0.0, 0.0, 0.0]], [[1.0, 0.0, 0.0, 0.0], [1.0, 0.0, 0.0, 0.0], [1.0, 0.0, 0.0, 0.0], [1.0, 0.0, 0.0, 0.0]], [[1.0, 0.0, 0.0, 0.0], [1.0, 0.0, 0.0, 0.0], [1.0, 0.0, 0.0, 0.0], [1.0, 0.0, 0.0, 0.0]], [[1.0, 0.0, 0.0, 0.0], [1.0, 0.0, 0.0, 0.0], [1.0, 0.0, 0.0, 0.0], [1.0, 0.0, 0.0, 0.0]], [[1.0, 0.0, 0.0, 0.0], [1.0, 0.0, 0.0, 0.0], [1.0, 0.0, 0.0, 0.0], [1.0, 0.0, 0.0, 0.0]], [[1.0, 0.0, 0.0, 0.0], [1.0, 0.0, 0.0, 0.0], [1.0, 0.0, 0.0, 0.0], [1.0, 0.0, 0.0, 0.0]], [[1.0, 0.0, 0.0, 0.0], [1.0, 0.0, 0.0, 0.0], [1.0, 0.0, 0.0, 0.0], [1.0, 0.0, 0.0, 0.0]], [[1.0, 0.0, 0.0, 0.0], [1.0, 0.0, 0.0, 0.0], [1.0, 0.0, 0.0, 0.0], [1.0, 0.0, 0.0, 0.0]], [[1.0, 0.0, 0.0, 0.0], [1.0, 0.0, 0.0, 0.0], [1.0, 0.0, 0.0, 0.0], [1.0, 0.0, 0.0, 0.0]], [[1.0, 0.0, 0.0, 0.0], [1.0, 0.0, 0.0, 0.0], [1.0, 0.0, 0.0, 0.0], [1.0, 0.0, 0.0, 0.0]], [[1.0, 0.0, 0.0, 0.0], [1.0, 0.0, 0.0, 0.0], [1.0, 0.0, 0.0, 0.0], [1.0, 0.0, 0.0, 0.0]], [[1.0, 0.0, 0.0, 0.0], [1.0, 0.0, 0.0, 0.0], [1.0, 0.0, 0.0, 0.0], [1.0, 0.0, 0.0, 0.0]], [[1.0, 0.0, 0.0, 0.0], [1.0, 0.0, 0.0, 0.0], [1.0, 0.0, 0.0, 0.0], [1.0, 0.0, 0.0, 0.0]], [[1.0, 0.0, 0.0, 0.0], [1.0, 0.0, 0.0, 0.0], [1.0, 0.0, 0.0, 0.0], [1.0, 0.0, 0.0, 0.0]], [[1.0, 0.0, 0.0, 0.0], [1.0, 0.0, 0.0, 0.0], [1.0, 0.0, 0.0, 0.0], [1.0, 0.0, 0.0, 0.0]], [[1.0, 0.0, 0.0, 0.0], [1.0, 0.0, 0.0, 0.0], [1.0, 0.0, 0.0, 0.0], [1.0, 0.0, 0.0, 0.0]], [[1.0, 0.0, 0.0, 0.0], [1.0, 0.0, 0.0, 0.0], [1.0, 0.0, 0.0, 0.0], [1.0, 0.0, 0.0, 0.0]], [[1.0, 0.0, 0.0, 0.0], [1.0, 0.0, 0.0, 0.0], [1.0, 0.0, 0.0, 0.0], [1.0, 0.0, 0.0, 0.0]], [[1.0, 0.0, 0.0, 0.0], [1.0, 0.0, 0.0, 0.0], [1.0, 0.0, 0.0, 0.0], [1.0, 0.0, 0.0, 0.0]], [[1.0, 0.0, 0.0, 0.0], [1.0, 0.0, 0.0, 0.0], [1.0, 0.0, 0.0, 0.0], [1.0, 0.0, 0.0, 0.0]], [[1.0, 0.0, 0.0, 0.0], [1.0, 0.0, 0.0, 0.0], [1.0, 0.0, 0.0, 0.0], [1.0, 0.0, 0.0, 0.0]], [[1.0, 0.0, 0.0, 0.0], [1.0, 0.0, 0.0, 0.0], [1.0, 0.0, 0.0, 0.0], [1.0, 0.0, 0.0, 0.0]], [[1.0, 0.0, 0.0, 0.0], [1.0, 0.0, 0.0, 0.0], [1.0, 0.0, 0.0, 0.0], [1.0, 0.0, 0.0, 0.0]], [[1.0, 0.0, 0.0, 0.0], [1.0, 0.0, 0.0, 0.0], [1.0, 0.0, 0.0, 0.0], [1.0, 0.0, 0.0, 0.0]], [[1.0, 0.0, 0.0, 0.0], [1.0, 0.0, 0.0, 0.0], [1.0, 0.0, 0.0, 0.0], [1.0, 0.0, 0.0, 0.0]], [[1.0, 0.0, 0.0, 0.0], [1.0, 0.0, 0.0, 0.0], [1.0, 0.0, 0.0, 0.0], [1.0, 0.0, 0.0, 0.0]], [[1.0, 0.0, 0.0, 0.0], [1.0, 0.0, 0.0, 0.0], [1.0, 0.0, 0.0, 0.0], [1.0, 0.0, 0.0, 0.0]], [[1.0, 0.0, 0.0, 0.0], [1.0, 0.0, 0.0, 0.0], [1.0, 0.0, 0.0, 0.0], [1.0, 0.0, 0.0, 0.0]], [[1.0, 0.0, 0.0, 0.0], [1.0, 0.0, 0.0, 0.0], [1.0, 0.0, 0.0, 0.0], [1.0, 0.0, 0.0, 0.0]], [[1.0, 0.0, 0.0, 0.0], [1.0, 0.0, 0.0, 0.0], [1.0, 0.0, 0.0, 0.0], [1.0, 0.0, 0.0, 0.0]], [[1.0, 0.0, 0.0, 0.0], [1.0, 0.0, 0.0, 0.0], [1.0, 0.0, 0.0, 0.0], [1.0, 0.0, 0.0, 0.0]], [[1.0, 0.0, 0.0, 0.0], [1.0, 0.0, 0.0, 0.0], [1.0, 0.0, 0.0, 0.0], [1.0, 0.0, 0.0, 0.0]], [[1.0, 0.0, 0.0, 0.0], [1.0, 0.0, 0.0, 0.0], [1.0, 0.0, 0.0, 0.0], [1.0, 0.0, 0.0, 0.0]], [[1.0, 0.0, 0.0, 0.0], [1.0, 0.0, 0.0, 0.0], [1.0, 0.0, 0.0, 0.0], [1.0, 0.0, 0.0, 0.0]], [[1.0, 0.0, 0.0, 0.0], [1.0, 0.0, 0.0, 0.0], [1.0, 0.0, 0.0, 0.0], [1.0, 0.0, 0.0, 0.0]], [[1.0, 0.0, 0.0, 0.0], [1.0, 0.0, 0.0, 0.0], [1.0, 0.0, 0.0, 0.0], [1.0, 0.0, 0.0, 0.0]], [[1.0, 0.0, 0.0, 0.0], [1.0, 0.0, 0.0, 0.0], [1.0, 0.0, 0.0, 0.0], [1.0, 0.0, 0.0, 0.0]], [[1.0, 0.0, 0.0, 0.0], [1.0, 0.0, 0.0, 0.0], [1.0, 0.0, 0.0, 0.0], [1.0, 0.0, 0.0, 0.0]], [[1.0, 0.0, 0.0, 0.0], [1.0, 0.0, 0.0, 0.0], [1.0, 0.0, 0.0, 0.0], [1.0, 0.0, 0.0, 0.0]], [[1.0, 0.0, 0.0, 0.0], [1.0, 0.0, 0.0, 0.0], [1.0, 0.0, 0.0, 0.0], [1.0, 0.0, 0.0, 0.0]], [[1.0, 0.0, 0.0, 0.0], [1.0, 0.0, 0.0, 0.0], [1.0, 0.0, 0.0, 0.0], [1.0, 0.0, 0.0, 0.0]], [[1.0, 0.0, 0.0, 0.0], [1.0, 0.0, 0.0, 0.0], [1.0, 0.0, 0.0, 0.0], [1.0, 0.0, 0.0, 0.0]], [[1.0, 0.0, 0.0, 0.0], [1.0, 0.0, 0.0, 0.0], [1.0, 0.0, 0.0, 0.0], [1.0, 0.0, 0.0, 0.0]], [[1.0, 0.0, 0.0, 0.0], [1.0, 0.0, 0.0, 0.0], [1.0, 0.0, 0.0, 0.0], [1.0, 0.0, 0.0, 0.0]], [[1.0, 0.0, 0.0, 0.0], [1.0, 0.0, 0.0, 0.0], [1.0, 0.0, 0.0, 0.0], [1.0, 0.0, 0.0, 0.0]], [[1.0, 0.0, 0.0, 0.0], [1.0, 0.0, 0.0, 0.0], [1.0, 0.0, 0.0, 0.0], [1.0, 0.0, 0.0, 0.0]], [[1.0, 0.0, 0.0, 0.0], [1.0, 0.0, 0.0, 0.0], [1.0, 0.0, 0.0, 0.0], [1.0, 0.0, 0.0, 0.0]], [[1.0, 0.0, 0.0, 0.0], [1.0, 0.0, 0.0, 0.0], [1.0, 0.0, 0.0, 0.0], [1.0, 0.0, 0.0, 0.0]], [[1.0, 0.0, 0.0, 0.0], [1.0, 0.0, 0.0, 0.0], [1.0, 0.0, 0.0, 0.0], [1.0, 0.0, 0.0, 0.0]], [[1.0, 0.0, 0.0, 0.0], [1.0, 0.0, 0.0, 0.0], [1.0, 0.0, 0.0, 0.0], [1.0, 0.0, 0.0, 0.0]], [[1.0, 0.0, 0.0, 0.0], [1.0, 0.0, 0.0, 0.0], [1.0, 0.0, 0.0, 0.0], [1.0, 0.0, 0.0, 0.0]], [[1.0, 0.0, 0.0, 0.0], [1.0, 0.0, 0.0, 0.0], [1.0, 0.0, 0.0, 0.0], [1.0, 0.0, 0.0, 0.0]], [[1.0, 0.0, 0.0, 0.0], [1.0, 0.0, 0.0, 0.0], [1.0, 0.0, 0.0, 0.0], [1.0, 0.0, 0.0, 0.0]], [[1.0, 0.0, 0.0, 0.0], [1.0, 0.0, 0.0, 0.0], [1.0, 0.0, 0.0, 0.0], [1.0, 0.0, 0.0, 0.0]], [[1.0, 0.0, 0.0, 0.0], [1.0, 0.0, 0.0, 0.0], [1.0, 0.0, 0.0, 0.0], [1.0, 0.0, 0.0, 0.0]], [[1.0, 0.0, 0.0, 0.0], [1.0, 0.0, 0.0, 0.0], [1.0, 0.0, 0.0, 0.0], [1.0, 0.0, 0.0, 0.0]], [[1.0, 0.0, 0.0, 0.0], [1.0, 0.0, 0.0, 0.0], [1.0, 0.0, 0.0, 0.0], [1.0, 0.0, 0.0, 0.0]], [[1.0, 0.0, 0.0, 0.0], [1.0, 0.0, 0.0, 0.0], [1.0, 0.0, 0.0, 0.0], [1.0, 0.0, 0.0, 0.0]], [[1.0, 0.0, 0.0, 0.0], [1.0, 0.0, 0.0, 0.0], [1.0, 0.0, 0.0, 0.0], [1.0, 0.0, 0.0, 0.0]], [[1.0, 0.0, 0.0, 0.0], [1.0, 0.0, 0.0, 0.0], [1.0, 0.0, 0.0, 0.0], [1.0, 0.0, 0.0, 0.0]], [[1.0, 0.0, 0.0, 0.0], [1.0, 0.0, 0.0, 0.0], [1.0, 0.0, 0.0, 0.0], [1.0, 0.0, 0.0, 0.0]], [[1.0, 0.0, 0.0, 0.0], [1.0, 0.0, 0.0, 0.0], [1.0, 0.0, 0.0, 0.0], [1.0, 0.0, 0.0, 0.0]], [[1.0, 0.0, 0.0, 0.0], [1.0, 0.0, 0.0, 0.0], [1.0, 0.0, 0.0, 0.0], [1.0, 0.0, 0.0, 0.0]], [[1.0, 0.0, 0.0, 0.0], [1.0, 0.0, 0.0, 0.0], [1.0, 0.0, 0.0, 0.0], [1.0, 0.0, 0.0, 0.0]], [[1.0, 0.0, 0.0, 0.0], [1.0, 0.0, 0.0, 0.0], [1.0, 0.0, 0.0, 0.0], [1.0, 0.0, 0.0, 0.0]], [[1.0, 0.0, 0.0, 0.0], [1.0, 0.0, 0.0, 0.0], [1.0, 0.0, 0.0, 0.0], [1.0, 0.0, 0.0, 0.0]], [[1.0, 0.0, 0.0, 0.0], [1.0, 0.0, 0.0, 0.0], [1.0, 0.0, 0.0, 0.0], [1.0, 0.0, 0.0, 0.0]], [[1.0, 0.0, 0.0, 0.0], [1.0, 0.0, 0.0, 0.0], [1.0, 0.0, 0.0, 0.0], [1.0, 0.0, 0.0, 0.0]], [[1.0, 0.0, 0.0, 0.0], [1.0, 0.0, 0.0, 0.0], [1.0, 0.0, 0.0, 0.0], [1.0, 0.0, 0.0, 0.0]], [[1.0, 0.0, 0.0, 0.0], [1.0, 0.0, 0.0, 0.0], [1.0, 0.0, 0.0, 0.0], [1.0, 0.0, 0.0, 0.0]], [[1.0, 0.0, 0.0, 0.0], [1.0, 0.0, 0.0, 0.0], [1.0, 0.0, 0.0, 0.0], [1.0, 0.0, 0.0, 0.0]], [[1.0, 0.0, 0.0, 0.0], [1.0, 0.0, 0.0, 0.0], [1.0, 0.0, 0.0, 0.0], [1.0, 0.0, 0.0, 0.0]], [[1.0, 0.0, 0.0, 0.0], [1.0, 0.0, 0.0, 0.0], [1.0, 0.0, 0.0, 0.0], [1.0, 0.0, 0.0, 0.0]], [[1.0, 0.0, 0.0, 0.0], [1.0, 0.0, 0.0, 0.0], [1.0, 0.0, 0.0, 0.0], [1.0, 0.0, 0.0, 0.0]], [[1.0, 0.0, 0.0, 0.0], [1.0, 0.0, 0.0, 0.0], [1.0, 0.0, 0.0, 0.0], [1.0, 0.0, 0.0, 0.0]], [[1.0, 0.0, 0.0, 0.0], [1.0, 0.0, 0.0, 0.0], [1.0, 0.0, 0.0, 0.0], [1.0, 0.0, 0.0, 0.0]], [[1.0, 0.0, 0.0, 0.0], [1.0, 0.0, 0.0, 0.0], [1.0, 0.0, 0.0, 0.0], [1.0, 0.0, 0.0, 0.0]], [[1.0, 0.0, 0.0, 0.0], [1.0, 0.0, 0.0, 0.0], [1.0, 0.0, 0.0, 0.0], [1.0, 0.0, 0.0, 0.0]], [[1.0, 0.0, 0.0, 0.0], [1.0, 0.0, 0.0, 0.0], [1.0, 0.0, 0.0, 0.0], [1.0, 0.0, 0.0, 0.0]], [[1.0, 0.0, 0.0, 0.0], [1.0, 0.0, 0.0, 0.0], [1.0, 0.0, 0.0, 0.0], [1.0, 0.0, 0.0, 0.0]], [[1.0, 0.0, 0.0, 0.0], [1.0, 0.0, 0.0, 0.0], [1.0, 0.0, 0.0, 0.0], [1.0, 0.0, 0.0, 0.0]], [[1.0, 0.0, 0.0, 0.0], [1.0, 0.0, 0.0, 0.0], [1.0, 0.0, 0.0, 0.0], [1.0, 0.0, 0.0, 0.0]], [[1.0, 0.0, 0.0, 0.0], [1.0, 0.0, 0.0, 0.0], [1.0, 0.0, 0.0, 0.0], [1.0, 0.0, 0.0, 0.0]], [[1.0, 0.0, 0.0, 0.0], [1.0, 0.0, 0.0, 0.0], [1.0, 0.0, 0.0, 0.0], [1.0, 0.0, 0.0, 0.0]], [[1.0, 0.0, 0.0, 0.0], [1.0, 0.0, 0.0, 0.0], [1.0, 0.0, 0.0, 0.0], [1.0, 0.0, 0.0, 0.0]], [[1.0, 0.0, 0.0, 0.0], [1.0, 0.0, 0.0, 0.0], [1.0, 0.0, 0.0, 0.0], [1.0, 0.0, 0.0, 0.0]], [[1.0, 0.0, 0.0, 0.0], [1.0, 0.0, 0.0, 0.0], [1.0, 0.0, 0.0, 0.0], [1.0, 0.0, 0.0, 0.0]], [[1.0, 0.0, 0.0, 0.0], [1.0, 0.0, 0.0, 0.0], [1.0, 0.0, 0.0, 0.0], [1.0, 0.0, 0.0, 0.0]], [[1.0, 0.0, 0.0, 0.0], [1.0, 0.0, 0.0, 0.0], [1.0, 0.0, 0.0, 0.0], [1.0, 0.0, 0.0, 0.0]], [[1.0, 0.0, 0.0, 0.0], [1.0, 0.0, 0.0, 0.0], [1.0, 0.0, 0.0, 0.0], [1.0, 0.0, 0.0, 0.0]], [[1.0, 0.0, 0.0, 0.0], [1.0, 0.0, 0.0, 0.0], [1.0, 0.0, 0.0, 0.0], [1.0, 0.0, 0.0, 0.0]], [[1.0, 0.0, 0.0, 0.0], [1.0, 0.0, 0.0, 0.0], [1.0, 0.0, 0.0, 0.0], [1.0, 0.0, 0.0, 0.0]], [[1.0, 0.0, 0.0, 0.0], [1.0, 0.0, 0.0, 0.0], [1.0, 0.0, 0.0, 0.0], [1.0, 0.0, 0.0, 0.0]], [[1.0, 0.0, 0.0, 0.0], [1.0, 0.0, 0.0, 0.0], [1.0, 0.0, 0.0, 0.0], [1.0, 0.0, 0.0, 0.0]], [[1.0, 0.0, 0.0, 0.0], [1.0, 0.0, 0.0, 0.0], [1.0, 0.0, 0.0, 0.0], [1.0, 0.0, 0.0, 0.0]], [[1.0, 0.0, 0.0, 0.0], [1.0, 0.0, 0.0, 0.0], [1.0, 0.0, 0.0, 0.0], [1.0, 0.0, 0.0, 0.0]], [[1.0, 0.0, 0.0, 0.0], [1.0, 0.0, 0.0, 0.0], [1.0, 0.0, 0.0, 0.0], [1.0, 0.0, 0.0, 0.0]], [[1.0, 0.0, 0.0, 0.0], [1.0, 0.0, 0.0, 0.0], [1.0, 0.0, 0.0, 0.0], [1.0, 0.0, 0.0, 0.0]], [[1.0, 0.0, 0.0, 0.0], [1.0, 0.0, 0.0, 0.0], [1.0, 0.0, 0.0, 0.0], [1.0, 0.0, 0.0, 0.0]], [[1.0, 0.0, 0.0, 0.0], [1.0, 0.0, 0.0, 0.0], [1.0, 0.0, 0.0, 0.0], [1.0, 0.0, 0.0, 0.0]], [[1.0, 0.0, 0.0, 0.0], [1.0, 0.0, 0.0, 0.0], [1.0, 0.0, 0.0, 0.0], [1.0, 0.0, 0.0, 0.0]], [[1.0, 0.0, 0.0, 0.0], [1.0, 0.0, 0.0, 0.0], [1.0, 0.0, 0.0, 0.0], [1.0, 0.0, 0.0, 0.0]], [[1.0, 0.0, 0.0, 0.0], [1.0, 0.0, 0.0, 0.0], [1.0, 0.0, 0.0, 0.0], [1.0, 0.0, 0.0, 0.0]], [[1.0, 0.0, 0.0, 0.0], [1.0, 0.0, 0.0, 0.0], [1.0, 0.0, 0.0, 0.0], [1.0, 0.0, 0.0, 0.0]], [[1.0, 0.0, 0.0, 0.0], [1.0, 0.0, 0.0, 0.0], [1.0, 0.0, 0.0, 0.0], [1.0, 0.0, 0.0, 0.0]], [[1.0, 0.0, 0.0, 0.0], [1.0, 0.0, 0.0, 0.0], [1.0, 0.0, 0.0, 0.0], [1.0, 0.0, 0.0, 0.0]], [[1.0, 0.0, 0.0, 0.0], [1.0, 0.0, 0.0, 0.0], [1.0, 0.0, 0.0, 0.0], [1.0, 0.0, 0.0, 0.0]], [[1.0, 0.0, 0.0, 0.0], [1.0, 0.0, 0.0, 0.0], [1.0, 0.0, 0.0, 0.0], [1.0, 0.0, 0.0, 0.0]], [[1.0, 0.0, 0.0, 0.0], [1.0, 0.0, 0.0, 0.0], [1.0, 0.0, 0.0, 0.0], [1.0, 0.0, 0.0, 0.0]], [[1.0, 0.0, 0.0, 0.0], [1.0, 0.0, 0.0, 0.0], [1.0, 0.0, 0.0, 0.0], [1.0, 0.0, 0.0, 0.0]], [[1.0, 0.0, 0.0, 0.0], [1.0, 0.0, 0.0, 0.0], [1.0, 0.0, 0.0, 0.0], [1.0, 0.0, 0.0, 0.0]], [[1.0, 0.0, 0.0, 0.0], [1.0, 0.0, 0.0, 0.0], [1.0, 0.0, 0.0, 0.0], [1.0, 0.0, 0.0, 0.0]], [[1.0, 0.0, 0.0, 0.0], [1.0, 0.0, 0.0, 0.0], [1.0, 0.0, 0.0, 0.0], [1.0, 0.0, 0.0, 0.0]], [[1.0, 0.0, 0.0, 0.0], [1.0, 0.0, 0.0, 0.0], [1.0, 0.0, 0.0, 0.0], [1.0, 0.0, 0.0, 0.0]], [[1.0, 0.0, 0.0, 0.0], [1.0, 0.0, 0.0, 0.0], [1.0, 0.0, 0.0, 0.0], [1.0, 0.0, 0.0, 0.0]], [[1.0, 0.0, 0.0, 0.0], [1.0, 0.0, 0.0, 0.0], [1.0, 0.0, 0.0, 0.0], [1.0, 0.0, 0.0, 0.0]], [[1.0, 0.0, 0.0, 0.0], [1.0, 0.0, 0.0, 0.0], [1.0, 0.0, 0.0, 0.0], [1.0, 0.0, 0.0, 0.0]], [[1.0, 0.0, 0.0, 0.0], [1.0, 0.0, 0.0, 0.0], [1.0, 0.0, 0.0, 0.0], [1.0, 0.0, 0.0, 0.0]], [[1.0, 0.0, 0.0, 0.0], [1.0, 0.0, 0.0, 0.0], [1.0, 0.0, 0.0, 0.0], [1.0, 0.0, 0.0, 0.0]], [[1.0, 0.0, 0.0, 0.0], [1.0, 0.0, 0.0, 0.0], [1.0, 0.0, 0.0, 0.0], [1.0, 0.0, 0.0, 0.0]], [[1.0, 0.0, 0.0, 0.0], [1.0, 0.0, 0.0, 0.0], [1.0, 0.0, 0.0, 0.0], [1.0, 0.0, 0.0, 0.0]], [[1.0, 0.0, 0.0, 0.0], [1.0, 0.0, 0.0, 0.0], [1.0, 0.0, 0.0, 0.0], [1.0, 0.0, 0.0, 0.0]], [[1.0, 0.0, 0.0, 0.0], [1.0, 0.0, 0.0, 0.0], [1.0, 0.0, 0.0, 0.0], [1.0, 0.0, 0.0, 0.0]], [[1.0, 0.0, 0.0, 0.0], [1.0, 0.0, 0.0, 0.0], [1.0, 0.0, 0.0, 0.0], [1.0, 0.0, 0.0, 0.0]], [[1.0, 0.0, 0.0, 0.0], [1.0, 0.0, 0.0, 0.0], [1.0, 0.0, 0.0, 0.0], [1.0, 0.0, 0.0, 0.0]], [[1.0, 0.0, 0.0, 0.0], [1.0, 0.0, 0.0, 0.0], [1.0, 0.0, 0.0, 0.0], [1.0, 0.0, 0.0, 0.0]], [[1.0, 0.0, 0.0, 0.0], [1.0, 0.0, 0.0, 0.0], [1.0, 0.0, 0.0, 0.0], [1.0, 0.0, 0.0, 0.0]], [[1.0, 0.0, 0.0, 0.0], [1.0, 0.0, 0.0, 0.0], [1.0, 0.0, 0.0, 0.0], [1.0, 0.0, 0.0, 0.0]], [[1.0, 0.0, 0.0, 0.0], [1.0, 0.0, 0.0, 0.0], [1.0, 0.0, 0.0, 0.0], [1.0, 0.0, 0.0, 0.0]], [[1.0, 0.0, 0.0, 0.0], [1.0, 0.0, 0.0, 0.0], [1.0, 0.0, 0.0, 0.0], [1.0, 0.0, 0.0, 0.0]], [[1.0, 0.0, 0.0, 0.0], [1.0, 0.0, 0.0, 0.0], [1.0, 0.0, 0.0, 0.0], [1.0, 0.0, 0.0, 0.0]], [[1.0, 0.0, 0.0, 0.0], [1.0, 0.0, 0.0, 0.0], [1.0, 0.0, 0.0, 0.0], [1.0, 0.0, 0.0, 0.0]], [[1.0, 0.0, 0.0, 0.0], [1.0, 0.0, 0.0, 0.0], [1.0, 0.0, 0.0, 0.0], [1.0, 0.0, 0.0, 0.0]], [[1.0, 0.0, 0.0, 0.0], [1.0, 0.0, 0.0, 0.0], [1.0, 0.0, 0.0, 0.0], [1.0, 0.0, 0.0, 0.0]], [[1.0, 0.0, 0.0, 0.0], [1.0, 0.0, 0.0, 0.0], [1.0, 0.0, 0.0, 0.0], [1.0, 0.0, 0.0, 0.0]], [[1.0, 0.0, 0.0, 0.0], [1.0, 0.0, 0.0, 0.0], [1.0, 0.0, 0.0, 0.0], [1.0, 0.0, 0.0, 0.0]], [[1.0, 0.0, 0.0, 0.0], [1.0, 0.0, 0.0, 0.0], [1.0, 0.0, 0.0, 0.0], [1.0, 0.0, 0.0, 0.0]], [[1.0, 0.0, 0.0, 0.0], [1.0, 0.0, 0.0, 0.0], [1.0, 0.0, 0.0, 0.0], [1.0, 0.0, 0.0, 0.0]], [[1.0, 0.0, 0.0, 0.0], [1.0, 0.0, 0.0, 0.0], [1.0, 0.0, 0.0, 0.0], [1.0, 0.0, 0.0, 0.0]], [[1.0, 0.0, 0.0, 0.0], [1.0, 0.0, 0.0, 0.0], [1.0, 0.0, 0.0, 0.0], [1.0, 0.0, 0.0, 0.0]], [[1.0, 0.0, 0.0, 0.0], [1.0, 0.0, 0.0, 0.0], [1.0, 0.0, 0.0, 0.0], [1.0, 0.0, 0.0, 0.0]], [[1.0, 0.0, 0.0, 0.0], [1.0, 0.0, 0.0, 0.0], [1.0, 0.0, 0.0, 0.0], [1.0, 0.0, 0.0, 0.0]]]};\n",
              "    </script>\n",
              "    <div id=\"brax-viewer\"></div>\n",
              "    <script type=\"module\">\n",
              "      import {Viewer} from 'https://cdn.jsdelivr.net/gh/google/brax@v0.0.10/js/viewer.js';\n",
              "      const domElement = document.getElementById('brax-viewer');\n",
              "      var viewer = new Viewer(domElement, system);\n",
              "    </script>\n",
              "  </body>\n",
              "</html>\n"
            ],
            "text/plain": [
              "<IPython.core.display.HTML object>"
            ]
          },
          "metadata": {},
          "execution_count": 58
        }
      ]
    },
    {
      "cell_type": "code",
      "source": [
        ""
      ],
      "metadata": {
        "id": "UM7YFQJPupmf"
      },
      "execution_count": 58,
      "outputs": []
    },
    {
      "cell_type": "markdown",
      "source": [
        "# Ray tracing time!\n",
        "\n",
        "Naive first, then vectorised - I want to see how well jax can do it."
      ],
      "metadata": {
        "id": "Z6IROnEkoj-l"
      }
    },
    {
      "cell_type": "code",
      "source": [
        "import matplotlib.pyplot as plt\n",
        "import flax\n",
        "from jax import vmap\n",
        "# pixels written in rows l>r\n",
        "# writen top to bottom"
      ],
      "metadata": {
        "id": "qDWS0CxwratI"
      },
      "execution_count": 59,
      "outputs": []
    },
    {
      "cell_type": "code",
      "source": [
        "%%time\n",
        "@jax.jit\n",
        "def render_image(image_height= 64, image_width=64):\n",
        "\n",
        "  rows = []\n",
        "  for j in reversed(range(0, image_height)):\n",
        "    row = []\n",
        "    for i in range(0, image_width):\n",
        "      r = i / (image_width-1)\n",
        "      g = j / (image_height-1)\n",
        "      b = 0.25 \n",
        "      row.append([r,g,b])\n",
        "    rows.append(row)\n",
        "\n",
        "  return jnp.array(rows)"
      ],
      "metadata": {
        "colab": {
          "base_uri": "https://localhost:8080/"
        },
        "id": "DL4nLF1hn_30",
        "outputId": "7e08012f-be3e-42b9-bd11-75ddb331af90"
      },
      "execution_count": 60,
      "outputs": [
        {
          "output_type": "stream",
          "name": "stdout",
          "text": [
            "CPU times: user 75 µs, sys: 258 µs, total: 333 µs\n",
            "Wall time: 267 µs\n"
          ]
        }
      ]
    },
    {
      "cell_type": "code",
      "source": [
        "%%time\n",
        "render_image()"
      ],
      "metadata": {
        "colab": {
          "base_uri": "https://localhost:8080/"
        },
        "id": "-7UQxxM-sGy-",
        "outputId": "afe795c0-1f2c-4620-8f9c-638e31060af7"
      },
      "execution_count": 61,
      "outputs": [
        {
          "output_type": "stream",
          "name": "stdout",
          "text": [
            "CPU times: user 33.9 ms, sys: 0 ns, total: 33.9 ms\n",
            "Wall time: 28.6 ms\n"
          ]
        },
        {
          "output_type": "execute_result",
          "data": {
            "text/plain": [
              "DeviceArray([[[0.        , 1.        , 0.25      ],\n",
              "              [0.01587302, 1.        , 0.25      ],\n",
              "              [0.03174603, 1.        , 0.25      ],\n",
              "              ...,\n",
              "              [0.96825397, 1.        , 0.25      ],\n",
              "              [0.984127  , 1.        , 0.25      ],\n",
              "              [1.        , 1.        , 0.25      ]],\n",
              "\n",
              "             [[0.        , 0.984127  , 0.25      ],\n",
              "              [0.01587302, 0.984127  , 0.25      ],\n",
              "              [0.03174603, 0.984127  , 0.25      ],\n",
              "              ...,\n",
              "              [0.96825397, 0.984127  , 0.25      ],\n",
              "              [0.984127  , 0.984127  , 0.25      ],\n",
              "              [1.        , 0.984127  , 0.25      ]],\n",
              "\n",
              "             [[0.        , 0.96825397, 0.25      ],\n",
              "              [0.01587302, 0.96825397, 0.25      ],\n",
              "              [0.03174603, 0.96825397, 0.25      ],\n",
              "              ...,\n",
              "              [0.96825397, 0.96825397, 0.25      ],\n",
              "              [0.984127  , 0.96825397, 0.25      ],\n",
              "              [1.        , 0.96825397, 0.25      ]],\n",
              "\n",
              "             ...,\n",
              "\n",
              "             [[0.        , 0.03174603, 0.25      ],\n",
              "              [0.01587302, 0.03174603, 0.25      ],\n",
              "              [0.03174603, 0.03174603, 0.25      ],\n",
              "              ...,\n",
              "              [0.96825397, 0.03174603, 0.25      ],\n",
              "              [0.984127  , 0.03174603, 0.25      ],\n",
              "              [1.        , 0.03174603, 0.25      ]],\n",
              "\n",
              "             [[0.        , 0.01587302, 0.25      ],\n",
              "              [0.01587302, 0.01587302, 0.25      ],\n",
              "              [0.03174603, 0.01587302, 0.25      ],\n",
              "              ...,\n",
              "              [0.96825397, 0.01587302, 0.25      ],\n",
              "              [0.984127  , 0.01587302, 0.25      ],\n",
              "              [1.        , 0.01587302, 0.25      ]],\n",
              "\n",
              "             [[0.        , 0.        , 0.25      ],\n",
              "              [0.01587302, 0.        , 0.25      ],\n",
              "              [0.03174603, 0.        , 0.25      ],\n",
              "              ...,\n",
              "              [0.96825397, 0.        , 0.25      ],\n",
              "              [0.984127  , 0.        , 0.25      ],\n",
              "              [1.        , 0.        , 0.25      ]]], dtype=float32)"
            ]
          },
          "metadata": {},
          "execution_count": 61
        }
      ]
    },
    {
      "cell_type": "code",
      "source": [
        "plt.imshow(render_image())"
      ],
      "metadata": {
        "colab": {
          "base_uri": "https://localhost:8080/",
          "height": 283
        },
        "id": "aDYyv_Pfn_57",
        "outputId": "c0d9801a-3ca0-4418-9a49-1e54c9365c8f"
      },
      "execution_count": 62,
      "outputs": [
        {
          "output_type": "execute_result",
          "data": {
            "text/plain": [
              "<matplotlib.image.AxesImage at 0x7f23b46e7350>"
            ]
          },
          "metadata": {},
          "execution_count": 62
        },
        {
          "output_type": "display_data",
          "data": {
            "image/png": "[encoded data removed]",
            "text/plain": [
              "<Figure size 432x288 with 1 Axes>"
            ]
          },
          "metadata": {
            "needs_background": "light"
          }
        }
      ]
    },
    {
      "cell_type": "code",
      "source": [
        ""
      ],
      "metadata": {
        "id": "QpwaPdeS14P9"
      },
      "execution_count": 62,
      "outputs": []
    },
    {
      "cell_type": "code",
      "source": [
        ""
      ],
      "metadata": {
        "id": "4MUz-Gcd14Z4"
      },
      "execution_count": 62,
      "outputs": []
    },
    {
      "cell_type": "code",
      "source": [
        "class ray:\n",
        "  def __init__(self, origin, direction):\n",
        "    self.origin = origin\n",
        "    self.direction = direction\n",
        "\n",
        "  def at(t):\n",
        "    return self.origin + t*self.direction\n",
        "\n",
        "\n",
        "def ray_color(r):\n",
        "  print(r.direction)\n",
        "  unit_direction = r.direction / jnp.linalg.norm(r.direction)\n",
        "  t = 0.5*(unit_direction[1] + 1.0)\n",
        "  return (1.0-t) * jnp.array([1.0,1.0,1.0]) + t*jnp.array([0.5, 0.7, 1.0])\n",
        "\n"
      ],
      "metadata": {
        "id": "bZG9uudEw_sE"
      },
      "execution_count": 63,
      "outputs": []
    },
    {
      "cell_type": "code",
      "source": [
        "\n",
        "# Image\n",
        "aspect_ratio = 16.0/9.0\n",
        "image_width = 8\n",
        "image_height = image_width / aspect_ratio\n",
        "#Camera\n",
        "viewport_height = 2.0\n",
        "viewport_width = aspect_ratio * viewport_height\n",
        "focal_length = 1.0\n",
        "origin = jnp.array([0,0,0])\n",
        "horizontal = jnp.array([viewport_width, 0,0])\n",
        "vertical = jnp.array([0, viewport_height, 0])\n",
        "lower_left_corner = origin - horizontal / 2 - vertical /2 - jnp.array([0,0,focal_length])\n",
        "\n",
        "# @jax.jit\n",
        "def render_image():\n",
        "\n",
        "  rows = []\n",
        "  for j in reversed(range(0, int(image_height))):\n",
        "    row = []\n",
        "    print(j)\n",
        "    for i in range(0, int(image_width)):\n",
        "      u = i / (image_width-1)\n",
        "      v = j / (image_height-1)\n",
        "      r = ray(origin, lower_left_corner+u*horizontal + v*vertical - origin)\n",
        "      row.append(ray_color(r))\n",
        "    rows.append(row)\n",
        "\n",
        "  return jnp.array(rows)\n",
        "\n",
        "plt.imshow(render_image())"
      ],
      "metadata": {
        "colab": {
          "base_uri": "https://localhost:8080/",
          "height": 820
        },
        "id": "7T34bynatqWc",
        "outputId": "b5e60860-95a8-4024-d7c2-c396002c9e4f"
      },
      "execution_count": 64,
      "outputs": [
        {
          "output_type": "stream",
          "name": "stdout",
          "text": [
            "3\n",
            "[-1.7777778   0.71428573 -1.        ]\n",
            "[-1.2698412   0.71428573 -1.        ]\n",
            "[-0.7619047   0.71428573 -1.        ]\n",
            "[-0.25396824  0.71428573 -1.        ]\n",
            "[ 0.25396836  0.71428573 -1.        ]\n",
            "[ 0.76190484  0.71428573 -1.        ]\n",
            "[ 1.2698413   0.71428573 -1.        ]\n",
            "[ 1.7777778   0.71428573 -1.        ]\n",
            "2\n",
            "[-1.7777778  0.1428572 -1.       ]\n",
            "[-1.2698412  0.1428572 -1.       ]\n",
            "[-0.7619047  0.1428572 -1.       ]\n",
            "[-0.25396824  0.1428572  -1.        ]\n",
            "[ 0.25396836  0.1428572  -1.        ]\n",
            "[ 0.76190484  0.1428572  -1.        ]\n",
            "[ 1.2698413  0.1428572 -1.       ]\n",
            "[ 1.7777778  0.1428572 -1.       ]\n",
            "1\n",
            "[-1.7777778 -0.4285714 -1.       ]\n",
            "[-1.2698412 -0.4285714 -1.       ]\n",
            "[-0.7619047 -0.4285714 -1.       ]\n",
            "[-0.25396824 -0.4285714  -1.        ]\n",
            "[ 0.25396836 -0.4285714  -1.        ]\n",
            "[ 0.76190484 -0.4285714  -1.        ]\n",
            "[ 1.2698413 -0.4285714 -1.       ]\n",
            "[ 1.7777778 -0.4285714 -1.       ]\n",
            "0\n",
            "[-1.7777778 -1.        -1.       ]\n",
            "[-1.2698412 -1.        -1.       ]\n",
            "[-0.7619047 -1.        -1.       ]\n",
            "[-0.25396824 -1.         -1.        ]\n",
            "[ 0.25396836 -1.         -1.        ]\n",
            "[ 0.76190484 -1.         -1.        ]\n",
            "[ 1.2698413 -1.        -1.       ]\n",
            "[ 1.7777778 -1.        -1.       ]\n"
          ]
        },
        {
          "output_type": "execute_result",
          "data": {
            "text/plain": [
              "<matplotlib.image.AxesImage at 0x7f23b4679790>"
            ]
          },
          "metadata": {},
          "execution_count": 64
        },
        {
          "output_type": "display_data",
          "data": {
            "image/png": "[encoded data removed]",
            "text/plain": [
              "<Figure size 432x288 with 1 Axes>"
            ]
          },
          "metadata": {
            "needs_background": "light"
          }
        }
      ]
    },
    {
      "cell_type": "code",
      "source": [
        "%%time\n",
        "# Image\n",
        "aspect_ratio = 16.0/9.0\n",
        "image_width = 400\n",
        "image_height = image_width / aspect_ratio\n",
        "#Camera\n",
        "viewport_height = 2.0\n",
        "viewport_width = aspect_ratio * viewport_height\n",
        "focal_length = 1.0\n",
        "origin = jnp.array([[0,0,0]])\n",
        "horizontal = jnp.array([viewport_width, 0,0])\n",
        "vertical = jnp.array([0, viewport_height, 0])\n",
        "lower_left_corner = origin - horizontal / 2 - vertical /2 - jnp.array([0,0,focal_length])\n",
        "\n",
        "# create the range of u and v values\n",
        "u = jnp.arange(0, image_width, 1) / (image_width-1)\n",
        "v = jnp.arange(0, jnp.array(image_height, int), 1)[::-1] / (image_height-1) # maybe remove the int() - it makes it identical to guide but doesn't give 01 range\n",
        "# construct a grid from them, and stretch it into two 1D vectos so that we have a long list of u,v points\n",
        "u, v = jnp.meshgrid(u,v)\n",
        "u, v = u.reshape([-1]), v.reshape([-1])\n",
        "\n",
        "uv = jnp.vstack([u,v]).T # [N,2] - pixel coords\n",
        "\n",
        "# multiply each u component with horizontal, and v compoent with vertical. \n",
        "viewport_hv = jnp.vstack([horizontal, vertical])\n",
        "direction = lower_left_corner + uv @ viewport_hv - origin\n",
        "# compute unit directions by dividing by norm\n",
        "unit_direction = direction / jnp.linalg.norm(direction, axis=-1)[:, jnp.newaxis]\n",
        "\n",
        "image_shape = jnp.array([jnp.array(image_height, int), image_width, 3])"
      ],
      "metadata": {
        "colab": {
          "base_uri": "https://localhost:8080/"
        },
        "id": "g4r2kLw3tqbC",
        "outputId": "31a98766-f6f3-4e8f-ab79-f8430e555ead"
      },
      "execution_count": 142,
      "outputs": [
        {
          "output_type": "stream",
          "name": "stdout",
          "text": [
            "CPU times: user 42.7 ms, sys: 48.7 ms, total: 91.4 ms\n",
            "Wall time: 101 ms\n"
          ]
        }
      ]
    },
    {
      "cell_type": "code",
      "source": [
        "@jax.jit\n",
        "def test_color(unit_direction):# make a blue fade based on y coordinate just to check it is all working\n",
        "    t = 0.5*((unit_direction[:, 1]) +1.0)[:, jnp.newaxis] # [N,1]\n",
        "    colors = (1-t) * jnp.array([[1.0,1.0,1.0]]) + t*jnp.array([[0.5, 0.7, 1.0]]) # [N,1] @ [1, 3] + [N,1] @ [1,3] -> [N,3]\n",
        "    image = jnp.reshape(colors, image_shape)\n",
        "    return image"
      ],
      "metadata": {
        "id": "eo3pgr06FqDu"
      },
      "execution_count": 143,
      "outputs": []
    },
    {
      "cell_type": "code",
      "source": [
        "image = test_color(unit_direction)"
      ],
      "metadata": {
        "id": "gHI-G-1PHxLU"
      },
      "execution_count": 144,
      "outputs": []
    },
    {
      "cell_type": "code",
      "source": [
        "plt.imshow(image)"
      ],
      "metadata": {
        "colab": {
          "base_uri": "https://localhost:8080/",
          "height": 256
        },
        "id": "jEV6HD98Gd0s",
        "outputId": "399b03eb-12de-465e-c905-294415bb793a"
      },
      "execution_count": 145,
      "outputs": [
        {
          "output_type": "execute_result",
          "data": {
            "text/plain": [
              "<matplotlib.image.AxesImage at 0x7f23b4589390>"
            ]
          },
          "metadata": {},
          "execution_count": 145
        },
        {
          "output_type": "display_data",
          "data": {
            "image/png": "[encoded data removed]",
            "text/plain": [
              "<Figure size 432x288 with 1 Axes>"
            ]
          },
          "metadata": {
            "needs_background": "light"
          }
        }
      ]
    },
    {
      "cell_type": "markdown",
      "source": [
        ""
      ],
      "metadata": {
        "id": "ves5L-agLadl"
      }
    },
    {
      "cell_type": "code",
      "source": [
        "sphere_origin = jnp.array([[0,0,-1]])\n",
        "sphere_radius = jnp.array([[0.5]])\n",
        "\n",
        "@jax.jit\n",
        "def hit_sphere(center, radius, origin, direction):\n",
        "    oc = origin - center # [1,3] - [1,3]\n",
        "    a = jnp.sum(direction * direction, -1) #[N, 3], [N,3] -> [N] \n",
        "    b = 2 * jnp.sum(oc * direction,-1) # [N]\n",
        "    c = jnp.sum(oc * oc, -1) - radius * radius\n",
        "    discriminant = b*b - (4*a*c)\n",
        "    return discriminant < 0\n",
        "\n",
        "def sphere(unit_direction):\n",
        "    return jnp.array([1.0,0,0])\n",
        "\n",
        "@jax.jit\n",
        "def bg_unvec(unit_direction):\n",
        "    t = 0.5*(unit_direction[1] +1.0) # [N,1]\n",
        "    colors = (1-t) * jnp.array([1.0,1.0,1.0]) + t*jnp.array([0.5, 0.7, 1.0]) # [N,1] @ [1, 3] + [N,1] @ [1,3] -> [N,3]\n",
        "    return colors\n",
        "\n",
        "@jax.jit\n",
        "def color(discrim, unit_direction):\n",
        "    return jax.lax.cond(discrim, bg_unvec, sphere, unit_direction)\n"
      ],
      "metadata": {
        "id": "uW8MjHEHKOWD"
      },
      "execution_count": 166,
      "outputs": []
    },
    {
      "cell_type": "code",
      "source": [
        "%time\n",
        "discrim = hit_sphere(sphere_origin, sphere_radius, origin, direction)\n",
        "scene = vmap(color)(discrim[0,:], unit_direction).block_until_ready()"
      ],
      "metadata": {
        "id": "oyLnX1wemMWu",
        "outputId": "68337f41-12bc-4b6e-ee91-b25a6e1013fc",
        "colab": {
          "base_uri": "https://localhost:8080/"
        }
      },
      "execution_count": 174,
      "outputs": [
        {
          "output_type": "stream",
          "name": "stdout",
          "text": [
            "CPU times: user 8 µs, sys: 6 µs, total: 14 µs\n",
            "Wall time: 11 µs\n"
          ]
        }
      ]
    },
    {
      "cell_type": "code",
      "source": [
        "discrim = hit_sphere(sphere_origin, sphere_radius, origin, direction)\n",
        "scene = vmap(color)(discrim[0,:], unit_direction)\n",
        "image = jnp.reshape(scene, image_shape)\n",
        "plt.imshow(image)"
      ],
      "metadata": {
        "id": "jOr0cpyDitAU",
        "outputId": "2de4cf4a-23ca-4425-f564-c251571a155d",
        "colab": {
          "base_uri": "https://localhost:8080/",
          "height": 256
        }
      },
      "execution_count": 147,
      "outputs": [
        {
          "output_type": "execute_result",
          "data": {
            "text/plain": [
              "<matplotlib.image.AxesImage at 0x7f23b4598cd0>"
            ]
          },
          "metadata": {},
          "execution_count": 147
        },
        {
          "output_type": "display_data",
          "data": {
            "image/png": "[encoded data removed]",
            "text/plain": [
              "<Figure size 432x288 with 1 Axes>"
            ]
          },
          "metadata": {
            "needs_background": "light"
          }
        }
      ]
    },
    {
      "cell_type": "markdown",
      "source": [
        "Little bit more complicated now if we want surface normals. We have to know where it hit, not just if it hit. \n",
        "\n",
        "To test lets make a few assumptions\n",
        "- One sphere in front of us, so if there are roots then we can take the negative\n",
        "-  "
      ],
      "metadata": {
        "id": "3RiWHVUfHAeh"
      }
    },
    {
      "cell_type": "code",
      "source": [
        "sphere_origin = jnp.array([[0,0,-1]])\n",
        "sphere_radius = jnp.array([[0.5]])\n",
        "\n",
        "\n",
        "def hit_sphere(center, radius, origin, direction):\n",
        "    oc = origin - center # [1,3] - [1,3]\n",
        "    a = jnp.sum(direction * direction, -1) #[N, 3], [N,3] -> [N] \n",
        "    b = 2 * jnp.sum(oc * direction,-1) # [N]\n",
        "    c = jnp.sum(oc * oc, -1) - radius * radius\n",
        "    discriminant = b*b - (4*a*c)\n",
        "    # this vector tells us whether or not it was it (i.e 0 or 1)\n",
        "    no_hit = discriminant < 0\n",
        "\n",
        "    return \n",
        "\n",
        "def sphere(unit_direction):\n",
        "    return jnp.array([1.0,0,0])\n",
        "\n",
        "@jax.jit\n",
        "def bg_unvec(unit_direction):\n",
        "    t = 0.5*(unit_direction[1] +1.0) # [N,1]\n",
        "    colors = (1-t) * jnp.array([1.0,1.0,1.0]) + t*jnp.array([0.5, 0.7, 1.0]) # [N,1] @ [1, 3] + [N,1] @ [1,3] -> [N,3]\n",
        "    return colors\n",
        "\n",
        "@jax.jit\n",
        "def color(discrim, unit_direction):\n",
        "    return jax.lax.cond(discrim, sphere, bg_unvec, unit_direction)"
      ],
      "metadata": {
        "id": "HPiigD0YG-Nw"
      },
      "execution_count": 148,
      "outputs": []
    },
    {
      "cell_type": "code",
      "source": [
        ""
      ],
      "metadata": {
        "id": "SVEHcPYmXDwc"
      },
      "execution_count": 201,
      "outputs": []
    },
    {
      "cell_type": "code",
      "source": [
        "direction # [N, 3]\n",
        "origin # [1,3]\n",
        "#don't render anything closer than 0.01m or further than 1000m\n",
        "min_ray = 0.01 \n",
        "max_ray = 1000\n",
        "\n",
        "\n",
        "spheres = jnp.array([[0,0,-1], [0,0,-0.5]]) # [O, 3]\n",
        "sphere_colors = jnp.array([[1.0, 0, 0], [0,1,1]]) # [O, 3]\n",
        "radii = jnp.array([[0.5], [0.1]]) # [O, 1]\n",
        "\n",
        "N = len(direction)\n",
        "O = len(spheres)\n",
        "\n",
        "valid_background = jnp.ones([1,N]) # the background is always valid\n",
        "valid_background_dist = valid_background*max_ray # and always max dist away\n",
        "background_color = jnp.array([[0, 1.0, 0]])\n",
        "all_colors = jnp.concatenate([background_color, sphere_colors]) # [1+O, 3]\n",
        "\n",
        "def discriminant_and_roots(sphere_origin, radius, ray_origin, direction):\n",
        "    oc = ray_origin - sphere_origin # [1,3] - [O,3] - > [O,3]\n",
        "    a = jnp.sum(direction * direction, -1) #[N, 3], [N,3] -> [N] \n",
        "    b = 2 * oc @ direction.T # [O,3] @ [3, N] -> [O,N]\n",
        "    c = jnp.sum(oc * oc, -1)[:, jnp.newaxis] - radius * radius # [O,1]\n",
        "    discriminant = b*b - (4*a*c) # [O, N]\n",
        "\n",
        "    # to calculate the roots, we will relu discriminant\n",
        "    # we do this becasue otherwise the sqrt will give us nans on negative discriminants\n",
        "    # this is okay, because we will use the discriminant to mask out invalid intersections, so we don't care about wrong results in those entries\n",
        "    sqrt_relu_discrim = jnp.sqrt(jax.nn.relu(discriminant)) # [O, N]\n",
        "\n",
        "    r1 = (-b - sqrt_relu_discrim) / (2*a) # [O, N]\n",
        "    r2 = (-b + sqrt_relu_discrim) / (2*a) # [O, N]\n",
        "\n",
        "    return discriminant, r1, r2\n",
        "\n",
        "@jax.jit\n",
        "def get_pixels(spheres, radii, origin, direction):\n",
        "  discrim, r1, r2 = discriminant_and_roots(spheres, radii, origin, direction)  # [O, N], [O, N], [O, N]\n",
        "  # The discrim tells us if the ray intersects with the spheres\n",
        "  hits = discrim >= 0 # [O, N]\n",
        "  # The roots tell us if these intersections are in view\n",
        "  r1_in_view = r1 > min_ray # [O, N]\n",
        "  r2_in_view = r2 > min_ray # [O, N]\n",
        "  # The and, or tells us if the hits are both valid, and one is in view.\n",
        "  valid_hits = jnp.logical_and(hits, jnp.logical_or(r1_in_view, r2_in_view)) # [O, N]\n",
        "  # Now, lets transform the roots so that invalid hits are 'further away' than the background, and thus won't get selected when we get the min\n",
        "  solutions = jnp.concatenate([r1[jnp.newaxis, :,:], r2[jnp.newaxis, :, :]], 0) # [2, O, N]\n",
        "  # Clip wrong solutions so they are at smallest -max_ray\n",
        "  solutions = jnp.clip(solutions, a_min=-max_ray) # [2, O, N]\n",
        "  # Small design decision here - we correct the solutions for the spheres here and collapse it into the closer solution\n",
        "  # otherwise we'd need multiple dimensions for the other types of object/background\n",
        "  # Add (2*max_ray + 1) to solutions where the hits are not valid, so that they are further than the background (which will be at max_ray)\n",
        "  corrected_solutions = solutions + (2*max_ray+1) * jnp.logical_not(valid_hits) # 2, O, N]\n",
        "  closer_solution = jnp.min(corrected_solutions, axis=0) # [O, N]\n",
        "  # Now, we add the background (and in future other shapes such as triangles) to the hits and solutions array\n",
        "  valid_solutions = jnp.concatenate([valid_background, valid_hits], axis=0) # [1+ O, N]\n",
        "  solutions = jnp.concatenate([valid_background_dist, closer_solution], axis = 0) # [1+O, N]\n",
        "  # if the corrected solutions hadn't already been invalidated, would need to do here\n",
        "  # chose the closest\n",
        "  # one way of doing this would be argmin + onehot, but I think it might be faster to just do a logical not above \n",
        "  # the min? Admittedly downstream we'll then have to divide these by the number of 'closest solutions (possible if the number\n",
        "  # is exactly the same), and the color will be the average of those - but I think thats ok, if it is in exactly the same place\n",
        "  # avg color kinda checks out? Lets test. \n",
        "  closest = jnp.logical_not(solutions > jnp.min(solutions, 0)) # [1+O, N]\n",
        "  closest = closest / jnp.sum(closest, axis=0) # / number of solutions found at exactly the same distance\n",
        "\n",
        "  # now that we have the closest solutions, multiply by the colors to get a per pixel color\n",
        "  pixels = closest.T @ all_colors # [N, 1+O] @ [1+O, 3] -> [N, 3]\n",
        "  return pixels"
      ],
      "metadata": {
        "id": "Un8o3wJHWUnU"
      },
      "execution_count": 205,
      "outputs": []
    },
    {
      "cell_type": "code",
      "source": [
        "%time\n",
        "pixels = get_pixels(spheres, radii, origin, direction).block_until_ready()"
      ],
      "metadata": {
        "id": "a-D283F3mBNz",
        "outputId": "88059768-afb0-41b2-839e-c3860d3e46db",
        "colab": {
          "base_uri": "https://localhost:8080/"
        }
      },
      "execution_count": 206,
      "outputs": [
        {
          "output_type": "stream",
          "name": "stdout",
          "text": [
            "CPU times: user 0 ns, sys: 6 µs, total: 6 µs\n",
            "Wall time: 11 µs\n"
          ]
        }
      ]
    },
    {
      "cell_type": "code",
      "source": [
        "image = jnp.reshape(pixels, image_shape)\n",
        "plt.imshow(image)"
      ],
      "metadata": {
        "id": "FFseshQVWUpn",
        "outputId": "93afb6e7-4ea5-4750-9cc5-6b34c3eb3b73",
        "colab": {
          "base_uri": "https://localhost:8080/",
          "height": 256
        }
      },
      "execution_count": 207,
      "outputs": [
        {
          "output_type": "execute_result",
          "data": {
            "text/plain": [
              "<matplotlib.image.AxesImage at 0x7f23b3930dd0>"
            ]
          },
          "metadata": {},
          "execution_count": 207
        },
        {
          "output_type": "display_data",
          "data": {
            "image/png": "[encoded data removed]",
            "text/plain": [
              "<Figure size 432x288 with 1 Axes>"
            ]
          },
          "metadata": {
            "needs_background": "light"
          }
        }
      ]
    },
    {
      "cell_type": "code",
      "source": [
        "solutions"
      ],
      "metadata": {
        "id": "EIAeEdHGWUrk",
        "outputId": "46f888ea-4988-4198-a63c-f5db5edff870",
        "colab": {
          "base_uri": "https://localhost:8080/"
        }
      },
      "execution_count": 105,
      "outputs": [
        {
          "output_type": "execute_result",
          "data": {
            "text/plain": [
              "DeviceArray([[[0.19727986, 0.21041231, 0.22457337, ..., 0.21871217,\n",
              "               0.20631254, 0.19285536]],\n",
              "\n",
              "             [[0.19727986, 0.21041231, 0.22457337, ..., 0.21871217,\n",
              "               0.20631254, 0.19285536]]], dtype=float32)"
            ]
          },
          "metadata": {},
          "execution_count": 105
        }
      ]
    },
    {
      "cell_type": "code",
      "source": [
        "corrected_solutions.shape"
      ],
      "metadata": {
        "id": "aNkee6Z9WUtO",
        "outputId": "c72abe4b-1474-416f-ac7b-011d32f6c578",
        "colab": {
          "base_uri": "https://localhost:8080/"
        }
      },
      "execution_count": 107,
      "outputs": [
        {
          "output_type": "execute_result",
          "data": {
            "text/plain": [
              "(2, 1, 880)"
            ]
          },
          "metadata": {},
          "execution_count": 107
        }
      ]
    },
    {
      "cell_type": "code",
      "source": [
        "t = jnp.array([False])\n",
        "jnp.sqrt(t)"
      ],
      "metadata": {
        "id": "cZi5vCLfG-WT",
        "outputId": "fd47896f-313d-4947-d0fa-1ba6abd8ab52",
        "colab": {
          "base_uri": "https://localhost:8080/"
        }
      },
      "execution_count": 48,
      "outputs": [
        {
          "output_type": "execute_result",
          "data": {
            "text/plain": [
              "DeviceArray([0.], dtype=float32)"
            ]
          },
          "metadata": {},
          "execution_count": 48
        }
      ]
    },
    {
      "cell_type": "code",
      "source": [
        "%%time\n",
        "scene = vmap(color)(discrim[0,:], unit_direction)"
      ],
      "metadata": {
        "id": "at8e-sN4cR1-",
        "outputId": "7872fc5f-e346-40ef-a208-6e0cc04bde5e",
        "colab": {
          "base_uri": "https://localhost:8080/"
        }
      },
      "execution_count": 43,
      "outputs": [
        {
          "output_type": "stream",
          "name": "stdout",
          "text": [
            "CPU times: user 9.48 ms, sys: 9.22 ms, total: 18.7 ms\n",
            "Wall time: 21.5 ms\n"
          ]
        }
      ]
    },
    {
      "cell_type": "code",
      "source": [
        "%%time\n",
        "x= test_color(unit_direction)"
      ],
      "metadata": {
        "id": "CiDYfGZ1cR85",
        "outputId": "5b85ddb2-903d-4927-9cad-59e6cd7606a5",
        "colab": {
          "base_uri": "https://localhost:8080/"
        }
      },
      "execution_count": 44,
      "outputs": [
        {
          "output_type": "stream",
          "name": "stdout",
          "text": [
            "CPU times: user 2.8 ms, sys: 97 µs, total: 2.9 ms\n",
            "Wall time: 5.28 ms\n"
          ]
        }
      ]
    },
    {
      "cell_type": "code",
      "source": [
        "unit_direction"
      ],
      "metadata": {
        "id": "vOoQQQ8Ld2U0",
        "outputId": "1c5e46f3-cc3d-4363-c0fc-5d3f85add9a0",
        "colab": {
          "base_uri": "https://localhost:8080/"
        }
      },
      "execution_count": 36,
      "outputs": [
        {
          "output_type": "execute_result",
          "data": {
            "text/plain": [
              "DeviceArray([[-0.78258556,  0.44020438, -0.44020438],\n",
              "             [-0.78105766,  0.4415592 , -0.4415592 ],\n",
              "             [-0.7795155 ,  0.44291964, -0.44291964],\n",
              "             ...,\n",
              "             [ 0.78139186, -0.44126335, -0.44126335],\n",
              "             [ 0.78139186, -0.44126335, -0.44126335],\n",
              "             [ 0.78376615, -0.43915302, -0.43915302]], dtype=float32)"
            ]
          },
          "metadata": {},
          "execution_count": 36
        }
      ]
    },
    {
      "cell_type": "code",
      "source": [
        "%%time\n",
        "discrim = hit_sphere(sphere_origin, sphere_radius, origin, direction)"
      ],
      "metadata": {
        "id": "CLLsS_CkKOYp",
        "outputId": "eadf0f09-354e-4425-ef52-3fb4e217fb75",
        "colab": {
          "base_uri": "https://localhost:8080/"
        }
      },
      "execution_count": 324,
      "outputs": [
        {
          "output_type": "stream",
          "name": "stdout",
          "text": [
            "CPU times: user 534 µs, sys: 1.57 ms, total: 2.11 ms\n",
            "Wall time: 3.65 ms\n"
          ]
        }
      ]
    },
    {
      "cell_type": "code",
      "source": [
        "sphere_origin = jnp.array([0,0,-10])\n",
        "sphere_radius = 1\n",
        "oc = origin[0] - sphere_origin\n",
        "a = jnp.dot(direction[0], direction[0])\n",
        "b = 2 * jnp.dot(oc, direction[0])\n",
        "c = jnp.dot(oc, oc) - sphere_radius * sphere_radius\n",
        "discriminant = b*b - 4*a*c\n",
        "discriminant"
      ],
      "metadata": {
        "id": "BwwDm1wCKObL",
        "outputId": "3e94e1d9-b6e3-48d2-f9ed-5af38a1fc46c",
        "colab": {
          "base_uri": "https://localhost:8080/"
        }
      },
      "execution_count": 285,
      "outputs": [
        {
          "output_type": "execute_result",
          "data": {
            "text/plain": [
              "DeviceArray(-1643.5555, dtype=float32)"
            ]
          },
          "metadata": {},
          "execution_count": 285
        }
      ]
    },
    {
      "cell_type": "code",
      "source": [
        ""
      ],
      "metadata": {
        "colab": {
          "base_uri": "https://localhost:8080/"
        },
        "id": "3VodlBNTFlt9",
        "outputId": "9327117b-d282-4002-f9ab-30b9fd001b65"
      },
      "execution_count": 288,
      "outputs": [
        {
          "output_type": "execute_result",
          "data": {
            "text/plain": [
              "DeviceArray([[False, False, False, ..., False, False, False]], dtype=bool)"
            ]
          },
          "metadata": {},
          "execution_count": 288
        }
      ]
    },
    {
      "cell_type": "code",
      "source": [
        ""
      ],
      "metadata": {
        "colab": {
          "base_uri": "https://localhost:8080/"
        },
        "id": "4dMIh9KfFCx7",
        "outputId": "71ca4e4e-e8e1-4a39-e916-36aa8f7db040"
      },
      "execution_count": 172,
      "outputs": [
        {
          "output_type": "execute_result",
          "data": {
            "text/plain": [
              "DeviceArray([2.1600754, 1.7657671, 1.4442774, 1.2529705, 1.2529676,\n",
              "             1.4479527, 1.7657574, 2.1657946, 2.0445707, 1.6224295,\n",
              "             1.2650218, 1.0412867, 1.0412835, 1.2692165, 1.6224186,\n",
              "             2.0506117, 2.0844965, 1.6724632, 1.3285842, 1.1176467,\n",
              "             1.1176437, 1.3325788, 1.6724529, 2.090422 , 2.271672 ,\n",
              "             1.9006581, 1.6063949, 1.4368378, 1.4368354, 1.6097004,\n",
              "             1.9006491, 2.2771108], dtype=float32)"
            ]
          },
          "metadata": {},
          "execution_count": 172
        }
      ]
    },
    {
      "cell_type": "code",
      "source": [
        ""
      ],
      "metadata": {
        "colab": {
          "base_uri": "https://localhost:8080/"
        },
        "id": "c9GBAblaFIaP",
        "outputId": "e7317b95-0bfe-4562-91b7-540e862ef57f"
      },
      "execution_count": 171,
      "outputs": [
        {
          "output_type": "execute_result",
          "data": {
            "text/plain": [
              "DeviceArray([[-1.7777778 ,  0.7109375 , -1.        ],\n",
              "             [-1.2698432 ,  0.7109375 , -1.        ],\n",
              "             [-0.76190865,  0.7109375 , -1.        ],\n",
              "             [-0.25397408,  0.7109375 , -1.        ],\n",
              "             [ 0.2539605 ,  0.7109375 , -1.        ],\n",
              "             [ 0.76885307,  0.7109375 , -1.        ],\n",
              "             [ 1.2698296 ,  0.7109375 , -1.        ],\n",
              "             [ 1.7847222 ,  0.7109375 , -1.        ],\n",
              "             [-1.7777778 ,  0.140625  , -1.        ],\n",
              "             [-1.2698432 ,  0.140625  , -1.        ],\n",
              "             [-0.76190865,  0.140625  , -1.        ],\n",
              "             [-0.25397408,  0.140625  , -1.        ],\n",
              "             [ 0.2539605 ,  0.140625  , -1.        ],\n",
              "             [ 0.76885307,  0.140625  , -1.        ],\n",
              "             [ 1.2698296 ,  0.140625  , -1.        ],\n",
              "             [ 1.7847222 ,  0.140625  , -1.        ],\n",
              "             [-1.7777778 , -0.4296875 , -1.        ],\n",
              "             [-1.2698432 , -0.4296875 , -1.        ],\n",
              "             [-0.76190865, -0.4296875 , -1.        ],\n",
              "             [-0.25397408, -0.4296875 , -1.        ],\n",
              "             [ 0.2539605 , -0.4296875 , -1.        ],\n",
              "             [ 0.76885307, -0.4296875 , -1.        ],\n",
              "             [ 1.2698296 , -0.4296875 , -1.        ],\n",
              "             [ 1.7847222 , -0.4296875 , -1.        ],\n",
              "             [-1.7777778 , -1.        , -1.        ],\n",
              "             [-1.2698432 , -1.        , -1.        ],\n",
              "             [-0.76190865, -1.        , -1.        ],\n",
              "             [-0.25397408, -1.        , -1.        ],\n",
              "             [ 0.2539605 , -1.        , -1.        ],\n",
              "             [ 0.76885307, -1.        , -1.        ],\n",
              "             [ 1.2698296 , -1.        , -1.        ],\n",
              "             [ 1.7847222 , -1.        , -1.        ]], dtype=float32)"
            ]
          },
          "metadata": {},
          "execution_count": 171
        }
      ]
    },
    {
      "cell_type": "code",
      "source": [
        "@flax.struct.dataclass\n",
        "class Pixel:\n",
        "  \"\"\"Contains data for one environment pixel.\"\"\"\n",
        "  pixels: jnp.ndarray"
      ],
      "metadata": {
        "id": "0-Mfx31Gn_8b"
      },
      "execution_count": 39,
      "outputs": []
    },
    {
      "cell_type": "code",
      "source": [
        "def compute_pixel(carry, unused_target_t):\n",
        "    i,j = carry\n",
        "    act = jp.ones((batch_size, env.action_size,)) * jp.sin(i * jp.pi / 15)\n",
        "    nstate = jit_env_step(state, act)\n",
        "    i += 1\n",
        "    return (nstate, i), StepData(state, act)\n",
        "\n",
        "state = env.reset(rng=jp.random_prngkey(seed=0))\n",
        "\n",
        "%%time\n",
        "(state, i), data = jax.lax.scan(take_step, (state, 0), (), 100) # may need to run twice to see speedups"
      ],
      "metadata": {
        "id": "QwV4CO6gr8Oq"
      },
      "execution_count": null,
      "outputs": []
    },
    {
      "cell_type": "code",
      "source": [
        ""
      ],
      "metadata": {
        "id": "nfY0HR3Mn_-5"
      },
      "execution_count": null,
      "outputs": []
    },
    {
      "cell_type": "code",
      "source": [
        ""
      ],
      "metadata": {
        "id": "RSHErpLCoAB9"
      },
      "execution_count": null,
      "outputs": []
    },
    {
      "cell_type": "code",
      "source": [
        ""
      ],
      "metadata": {
        "id": "6grZkCyRoAEu"
      },
      "execution_count": null,
      "outputs": []
    },
    {
      "cell_type": "code",
      "source": [
        ""
      ],
      "metadata": {
        "id": "xDtlqLc2oAG4"
      },
      "execution_count": null,
      "outputs": []
    },
    {
      "cell_type": "code",
      "source": [
        ""
      ],
      "metadata": {
        "id": "dWI-nHIeoANW"
      },
      "execution_count": null,
      "outputs": []
    },
    {
      "cell_type": "markdown",
      "metadata": {
        "id": "VHygrLp5HKiM"
      },
      "source": [
        "ವಿದಾಯ! 👋"
      ]
    },
    {
      "cell_type": "code",
      "source": [
        ""
      ],
      "metadata": {
        "id": "VUcWes7EPusY"
      },
      "execution_count": null,
      "outputs": []
    },
    {
      "cell_type": "code",
      "source": [
        ""
      ],
      "metadata": {
        "id": "cUIytLDUPuuo"
      },
      "execution_count": null,
      "outputs": []
    },
    {
      "cell_type": "code",
      "source": [
        ""
      ],
      "metadata": {
        "id": "AhxAX3IePuzB"
      },
      "execution_count": null,
      "outputs": []
    },
    {
      "cell_type": "code",
      "source": [
        ""
      ],
      "metadata": {
        "id": "isZCJtCEPu1a"
      },
      "execution_count": null,
      "outputs": []
    }
  ],
  "metadata": {
    "accelerator": "TPU",
    "colab": {
      "collapsed_sections": [],
      "name": "Brax Training.ipynb",
      "provenance": []
    },
    "kernelspec": {
      "display_name": "Python 3",
      "name": "python3"
    },
    "language_info": {
      "name": "python"
    }
  },
  "nbformat": 4,
  "nbformat_minor": 0
}